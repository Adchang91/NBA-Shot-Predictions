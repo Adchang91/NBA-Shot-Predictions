{
 "cells": [
  {
   "cell_type": "code",
   "execution_count": 1,
   "metadata": {
    "ExecuteTime": {
     "end_time": "2019-12-09T19:07:18.044885Z",
     "start_time": "2019-12-09T19:07:15.931895Z"
    }
   },
   "outputs": [],
   "source": [
    "import warnings\n",
    "warnings.filterwarnings('ignore')\n",
    "from IPython.display import Audio\n",
    "sound_file = './applause3.wav'\n",
    "import numpy as np\n",
    "import pandas as pd\n",
    "from xgboost import XGBClassifier\n",
    "from xgboost import plot_importance\n",
    "import matplotlib.pyplot as plt\n",
    "from matplotlib import pyplot\n",
    "import seaborn as sns\n",
    "from sklearn import svm, tree\n",
    "from sklearn.model_selection import train_test_split, GridSearchCV, cross_val_score\n",
    "from sklearn.metrics import confusion_matrix, precision_score, recall_score, accuracy_score, f1_score, roc_curve, auc, r2_score, classification_report\n",
    "from sklearn.tree import DecisionTreeClassifier\n",
    "from sklearn.ensemble import RandomForestClassifier, AdaBoostClassifier, BaggingClassifier, GradientBoostingClassifier\n",
    "from sklearn.preprocessing import StandardScaler, MinMaxScaler, Normalizer\n",
    "from sklearn.decomposition import PCA\n",
    "from sklearn.pipeline import Pipeline\n",
    "from sklearn.neighbors import KNeighborsClassifier"
   ]
  },
  {
   "cell_type": "code",
   "execution_count": 2,
   "metadata": {
    "ExecuteTime": {
     "end_time": "2019-12-09T19:07:18.735887Z",
     "start_time": "2019-12-09T19:07:18.048888Z"
    }
   },
   "outputs": [],
   "source": [
    "players_df2 = pd.read_csv('players_df2.csv')"
   ]
  },
  {
   "cell_type": "code",
   "execution_count": 3,
   "metadata": {
    "ExecuteTime": {
     "end_time": "2019-12-09T19:07:18.776896Z",
     "start_time": "2019-12-09T19:07:18.739891Z"
    }
   },
   "outputs": [
    {
     "data": {
      "text/html": [
       "<div>\n",
       "<style scoped>\n",
       "    .dataframe tbody tr th:only-of-type {\n",
       "        vertical-align: middle;\n",
       "    }\n",
       "\n",
       "    .dataframe tbody tr th {\n",
       "        vertical-align: top;\n",
       "    }\n",
       "\n",
       "    .dataframe thead th {\n",
       "        text-align: right;\n",
       "    }\n",
       "</style>\n",
       "<table border=\"1\" class=\"dataframe\">\n",
       "  <thead>\n",
       "    <tr style=\"text-align: right;\">\n",
       "      <th></th>\n",
       "      <th>GAME_ID</th>\n",
       "      <th>Match_Date</th>\n",
       "      <th>Team</th>\n",
       "      <th>Opponent</th>\n",
       "      <th>LOCATION</th>\n",
       "      <th>MATCH_OUTCOME</th>\n",
       "      <th>FINAL_MARGIN</th>\n",
       "      <th>SHOT_NUMBER</th>\n",
       "      <th>PERIOD</th>\n",
       "      <th>GAME_CLOCK</th>\n",
       "      <th>...</th>\n",
       "      <th>Defender_age</th>\n",
       "      <th>Player_id</th>\n",
       "      <th>Player_name</th>\n",
       "      <th>Player_years_experience</th>\n",
       "      <th>Player_G</th>\n",
       "      <th>Player_F</th>\n",
       "      <th>Player_C</th>\n",
       "      <th>Player_height(in)</th>\n",
       "      <th>Player_weight</th>\n",
       "      <th>Player_age</th>\n",
       "    </tr>\n",
       "  </thead>\n",
       "  <tbody>\n",
       "    <tr>\n",
       "      <th>0</th>\n",
       "      <td>21400899</td>\n",
       "      <td>2015-03-04</td>\n",
       "      <td>CHA</td>\n",
       "      <td>BKN</td>\n",
       "      <td>A</td>\n",
       "      <td>W</td>\n",
       "      <td>24</td>\n",
       "      <td>1</td>\n",
       "      <td>1</td>\n",
       "      <td>69</td>\n",
       "      <td>...</td>\n",
       "      <td>32.0</td>\n",
       "      <td>203148</td>\n",
       "      <td>Brian Roberts</td>\n",
       "      <td>2</td>\n",
       "      <td>1</td>\n",
       "      <td>0</td>\n",
       "      <td>0</td>\n",
       "      <td>73</td>\n",
       "      <td>173.0</td>\n",
       "      <td>29.0</td>\n",
       "    </tr>\n",
       "    <tr>\n",
       "      <th>1</th>\n",
       "      <td>21400899</td>\n",
       "      <td>2015-03-04</td>\n",
       "      <td>CHA</td>\n",
       "      <td>BKN</td>\n",
       "      <td>A</td>\n",
       "      <td>W</td>\n",
       "      <td>24</td>\n",
       "      <td>2</td>\n",
       "      <td>1</td>\n",
       "      <td>14</td>\n",
       "      <td>...</td>\n",
       "      <td>26.0</td>\n",
       "      <td>203148</td>\n",
       "      <td>Brian Roberts</td>\n",
       "      <td>2</td>\n",
       "      <td>1</td>\n",
       "      <td>0</td>\n",
       "      <td>0</td>\n",
       "      <td>73</td>\n",
       "      <td>173.0</td>\n",
       "      <td>29.0</td>\n",
       "    </tr>\n",
       "    <tr>\n",
       "      <th>2</th>\n",
       "      <td>21400899</td>\n",
       "      <td>2015-03-04</td>\n",
       "      <td>CHA</td>\n",
       "      <td>BKN</td>\n",
       "      <td>A</td>\n",
       "      <td>W</td>\n",
       "      <td>24</td>\n",
       "      <td>3</td>\n",
       "      <td>1</td>\n",
       "      <td>0</td>\n",
       "      <td>...</td>\n",
       "      <td>26.0</td>\n",
       "      <td>203148</td>\n",
       "      <td>Brian Roberts</td>\n",
       "      <td>2</td>\n",
       "      <td>1</td>\n",
       "      <td>0</td>\n",
       "      <td>0</td>\n",
       "      <td>73</td>\n",
       "      <td>173.0</td>\n",
       "      <td>29.0</td>\n",
       "    </tr>\n",
       "    <tr>\n",
       "      <th>3</th>\n",
       "      <td>21400899</td>\n",
       "      <td>2015-03-04</td>\n",
       "      <td>CHA</td>\n",
       "      <td>BKN</td>\n",
       "      <td>A</td>\n",
       "      <td>W</td>\n",
       "      <td>24</td>\n",
       "      <td>4</td>\n",
       "      <td>2</td>\n",
       "      <td>707</td>\n",
       "      <td>...</td>\n",
       "      <td>23.0</td>\n",
       "      <td>203148</td>\n",
       "      <td>Brian Roberts</td>\n",
       "      <td>2</td>\n",
       "      <td>1</td>\n",
       "      <td>0</td>\n",
       "      <td>0</td>\n",
       "      <td>73</td>\n",
       "      <td>173.0</td>\n",
       "      <td>29.0</td>\n",
       "    </tr>\n",
       "    <tr>\n",
       "      <th>4</th>\n",
       "      <td>21400899</td>\n",
       "      <td>2015-03-04</td>\n",
       "      <td>CHA</td>\n",
       "      <td>BKN</td>\n",
       "      <td>A</td>\n",
       "      <td>W</td>\n",
       "      <td>24</td>\n",
       "      <td>5</td>\n",
       "      <td>2</td>\n",
       "      <td>634</td>\n",
       "      <td>...</td>\n",
       "      <td>27.0</td>\n",
       "      <td>203148</td>\n",
       "      <td>Brian Roberts</td>\n",
       "      <td>2</td>\n",
       "      <td>1</td>\n",
       "      <td>0</td>\n",
       "      <td>0</td>\n",
       "      <td>73</td>\n",
       "      <td>173.0</td>\n",
       "      <td>29.0</td>\n",
       "    </tr>\n",
       "  </tbody>\n",
       "</table>\n",
       "<p>5 rows × 35 columns</p>\n",
       "</div>"
      ],
      "text/plain": [
       "    GAME_ID  Match_Date  Team Opponent LOCATION MATCH_OUTCOME  FINAL_MARGIN  \\\n",
       "0  21400899  2015-03-04   CHA      BKN        A             W            24   \n",
       "1  21400899  2015-03-04   CHA      BKN        A             W            24   \n",
       "2  21400899  2015-03-04   CHA      BKN        A             W            24   \n",
       "3  21400899  2015-03-04   CHA      BKN        A             W            24   \n",
       "4  21400899  2015-03-04   CHA      BKN        A             W            24   \n",
       "\n",
       "   SHOT_NUMBER  PERIOD  GAME_CLOCK     ...      Defender_age  Player_id  \\\n",
       "0            1       1          69     ...              32.0     203148   \n",
       "1            2       1          14     ...              26.0     203148   \n",
       "2            3       1           0     ...              26.0     203148   \n",
       "3            4       2         707     ...              23.0     203148   \n",
       "4            5       2         634     ...              27.0     203148   \n",
       "\n",
       "     Player_name  Player_years_experience  Player_G  Player_F  Player_C  \\\n",
       "0  Brian Roberts                        2         1         0         0   \n",
       "1  Brian Roberts                        2         1         0         0   \n",
       "2  Brian Roberts                        2         1         0         0   \n",
       "3  Brian Roberts                        2         1         0         0   \n",
       "4  Brian Roberts                        2         1         0         0   \n",
       "\n",
       "  Player_height(in)  Player_weight  Player_age  \n",
       "0                73          173.0        29.0  \n",
       "1                73          173.0        29.0  \n",
       "2                73          173.0        29.0  \n",
       "3                73          173.0        29.0  \n",
       "4                73          173.0        29.0  \n",
       "\n",
       "[5 rows x 35 columns]"
      ]
     },
     "execution_count": 3,
     "metadata": {},
     "output_type": "execute_result"
    }
   ],
   "source": [
    "players_df2.head()"
   ]
  },
  {
   "cell_type": "markdown",
   "metadata": {},
   "source": [
    "# All Features"
   ]
  },
  {
   "cell_type": "code",
   "execution_count": 4,
   "metadata": {
    "ExecuteTime": {
     "end_time": "2019-12-09T19:07:18.790887Z",
     "start_time": "2019-12-09T19:07:18.781910Z"
    }
   },
   "outputs": [],
   "source": [
    "Target = players_df2[\"SHOT_RESULT\"]"
   ]
  },
  {
   "cell_type": "code",
   "execution_count": 5,
   "metadata": {
    "ExecuteTime": {
     "end_time": "2019-12-09T19:07:18.834906Z",
     "start_time": "2019-12-09T19:07:18.795891Z"
    }
   },
   "outputs": [],
   "source": [
    "headers = [\"FINAL_MARGIN\",\n",
    "                      \"SHOT_NUMBER\",\n",
    "                      \"PERIOD\",\n",
    "                      \"GAME_CLOCK\",\n",
    "                      \"SHOT_CLOCK\",\n",
    "                      \"DRIBBLES\",\n",
    "                      \"TOUCH_TIME\",\n",
    "                      \"SHOT_DIST\",\n",
    "                      \"PTS_TYPE\",\n",
    "                      \"Defender_distance\",\n",
    "                      \"Defender_years_experience\",\n",
    "                      \"Defender_G\",\n",
    "                      \"Defender_F\",\n",
    "                      \"Defender_C\",\n",
    "                      \"Defender_height(in)\",\n",
    "                      \"Defender_weight\",\n",
    "                      \"Defender_age\",\n",
    "                      \"Player_years_experience\",\n",
    "                      \"Player_G\",\n",
    "                      \"Player_F\",\n",
    "                      \"Player_C\",\n",
    "                      \"Player_height(in)\",\n",
    "                      \"Player_weight\",\n",
    "                      \"Player_age\"]\n",
    "Features = players_df2[headers]"
   ]
  },
  {
   "cell_type": "code",
   "execution_count": 6,
   "metadata": {
    "ExecuteTime": {
     "end_time": "2019-12-09T19:07:18.869912Z",
     "start_time": "2019-12-09T19:07:18.836908Z"
    }
   },
   "outputs": [
    {
     "name": "stdout",
     "output_type": "stream",
     "text": [
      "Shots made 56960\n",
      "Shots missed 68883\n",
      "Total shots 125843\n",
      "Precision score 0.5473725197269613\n"
     ]
    }
   ],
   "source": [
    "print('Shots made', np.count_nonzero(Target))\n",
    "print('Shots missed', Target.size-np.count_nonzero(Target))\n",
    "print('Total shots', Target.size)\n",
    "print('Precision score', (Target.size-np.count_nonzero(Target))/Target.size)"
   ]
  },
  {
   "cell_type": "markdown",
   "metadata": {},
   "source": [
    "## Prep the data for model"
   ]
  },
  {
   "cell_type": "code",
   "execution_count": 7,
   "metadata": {
    "ExecuteTime": {
     "end_time": "2019-12-09T19:07:18.976891Z",
     "start_time": "2019-12-09T19:07:18.872915Z"
    }
   },
   "outputs": [],
   "source": [
    "X_train, X_test, y_train, y_test = train_test_split(Features.values, Target.values, test_size=0.25, random_state=8165)"
   ]
  },
  {
   "cell_type": "code",
   "execution_count": 8,
   "metadata": {
    "ExecuteTime": {
     "end_time": "2019-12-09T19:07:19.131895Z",
     "start_time": "2019-12-09T19:07:18.979891Z"
    }
   },
   "outputs": [],
   "source": [
    "X_train = StandardScaler().fit_transform(X_train)\n",
    "X_test = StandardScaler().fit_transform(X_test)"
   ]
  },
  {
   "cell_type": "code",
   "execution_count": 9,
   "metadata": {
    "ExecuteTime": {
     "end_time": "2019-12-09T19:07:19.715885Z",
     "start_time": "2019-12-09T19:07:19.137895Z"
    }
   },
   "outputs": [],
   "source": [
    "pca = PCA(n_components=4)\n",
    "X_train = pca.fit_transform(X_train)\n",
    "X_test = pca.fit_transform(X_test)"
   ]
  },
  {
   "cell_type": "code",
   "execution_count": 10,
   "metadata": {
    "ExecuteTime": {
     "end_time": "2019-12-09T19:07:19.732884Z",
     "start_time": "2019-12-09T19:07:19.717888Z"
    }
   },
   "outputs": [
    {
     "data": {
      "text/html": [
       "<div>\n",
       "<style scoped>\n",
       "    .dataframe tbody tr th:only-of-type {\n",
       "        vertical-align: middle;\n",
       "    }\n",
       "\n",
       "    .dataframe tbody tr th {\n",
       "        vertical-align: top;\n",
       "    }\n",
       "\n",
       "    .dataframe thead th {\n",
       "        text-align: right;\n",
       "    }\n",
       "</style>\n",
       "<table border=\"1\" class=\"dataframe\">\n",
       "  <thead>\n",
       "    <tr style=\"text-align: right;\">\n",
       "      <th></th>\n",
       "      <th>PCA1</th>\n",
       "      <th>PCA2</th>\n",
       "      <th>PCA3</th>\n",
       "      <th>PCA4</th>\n",
       "      <th>target</th>\n",
       "    </tr>\n",
       "  </thead>\n",
       "  <tbody>\n",
       "    <tr>\n",
       "      <th>0</th>\n",
       "      <td>1.956804</td>\n",
       "      <td>3.150166</td>\n",
       "      <td>0.439118</td>\n",
       "      <td>-0.421457</td>\n",
       "      <td>1</td>\n",
       "    </tr>\n",
       "    <tr>\n",
       "      <th>1</th>\n",
       "      <td>-3.197410</td>\n",
       "      <td>1.095753</td>\n",
       "      <td>-0.765944</td>\n",
       "      <td>2.179625</td>\n",
       "      <td>0</td>\n",
       "    </tr>\n",
       "    <tr>\n",
       "      <th>2</th>\n",
       "      <td>0.379802</td>\n",
       "      <td>5.101061</td>\n",
       "      <td>3.187259</td>\n",
       "      <td>-1.520707</td>\n",
       "      <td>0</td>\n",
       "    </tr>\n",
       "    <tr>\n",
       "      <th>3</th>\n",
       "      <td>-3.390915</td>\n",
       "      <td>0.293494</td>\n",
       "      <td>-1.222491</td>\n",
       "      <td>0.513101</td>\n",
       "      <td>1</td>\n",
       "    </tr>\n",
       "    <tr>\n",
       "      <th>4</th>\n",
       "      <td>-2.027555</td>\n",
       "      <td>-2.542645</td>\n",
       "      <td>0.765556</td>\n",
       "      <td>2.774384</td>\n",
       "      <td>0</td>\n",
       "    </tr>\n",
       "  </tbody>\n",
       "</table>\n",
       "</div>"
      ],
      "text/plain": [
       "       PCA1      PCA2      PCA3      PCA4  target\n",
       "0  1.956804  3.150166  0.439118 -0.421457       1\n",
       "1 -3.197410  1.095753 -0.765944  2.179625       0\n",
       "2  0.379802  5.101061  3.187259 -1.520707       0\n",
       "3 -3.390915  0.293494 -1.222491  0.513101       1\n",
       "4 -2.027555 -2.542645  0.765556  2.774384       0"
      ]
     },
     "execution_count": 10,
     "metadata": {},
     "output_type": "execute_result"
    }
   ],
   "source": [
    "X_train_feature_names = ['PCA1', 'PCA2', 'PCA3', 'PCA4']\n",
    "df_trans = pd.DataFrame(X_train, columns = X_train_feature_names)\n",
    "df_trans['target'] = y_train\n",
    "df_trans.head()"
   ]
  },
  {
   "cell_type": "code",
   "execution_count": 11,
   "metadata": {
    "ExecuteTime": {
     "end_time": "2019-12-09T19:07:19.760887Z",
     "start_time": "2019-12-09T19:07:19.735894Z"
    }
   },
   "outputs": [
    {
     "name": "stdout",
     "output_type": "stream",
     "text": [
      "(94382, 4)\n",
      "(94382,)\n",
      "(4, 24)\n",
      "[5.36702801 2.6577223  2.02369684 1.9752136 ]\n"
     ]
    }
   ],
   "source": [
    "print(X_train.shape)\n",
    "print(y_train.shape)\n",
    "print(pca.components_.shape)\n",
    "print(pca.explained_variance_)"
   ]
  },
  {
   "cell_type": "markdown",
   "metadata": {},
   "source": [
    "## Baseline Model - RandomForest"
   ]
  },
  {
   "cell_type": "code",
   "execution_count": 12,
   "metadata": {
    "ExecuteTime": {
     "end_time": "2019-12-09T19:07:25.035888Z",
     "start_time": "2019-12-09T19:07:19.763887Z"
    }
   },
   "outputs": [
    {
     "name": "stdout",
     "output_type": "stream",
     "text": [
      "Training Accuracy:   97.9%\n",
      "Validation Accuracy: 53.75%\n",
      "----------------------------\n",
      "Training precision:   99.46%\n",
      "Validation precision: 48.42%\n",
      "----------------------------\n",
      "Training Confusion Matrix:\n",
      "[[51428   223]\n",
      " [ 1763 40968]]\n",
      "Validation Confusion Matrix:\n",
      "[[11993  5239]\n",
      " [ 9311  4918]]\n"
     ]
    }
   ],
   "source": [
    "model = RandomForestClassifier(random_state=8165)\n",
    "model.fit(X_train, y_train)\n",
    "train_preds = model.predict(X_train)\n",
    "val_preds = model.predict(X_test)\n",
    "training_accuracy = accuracy_score(y_train, train_preds)\n",
    "val_accuracy = accuracy_score(y_test, val_preds)\n",
    "training_precision = precision_score(y_train, train_preds)\n",
    "val_precision = precision_score(y_test, val_preds)\n",
    "\n",
    "print(\"Training Accuracy:   {:.4}%\".format(training_accuracy * 100))\n",
    "print(\"Validation Accuracy: {:.4}%\".format(val_accuracy * 100))\n",
    "print('----------------------------')\n",
    "print(\"Training precision:   {:.4}%\".format(training_precision * 100))\n",
    "print(\"Validation precision: {:.4}%\".format(val_precision * 100))\n",
    "print('----------------------------')\n",
    "print(\"Training Confusion Matrix:\")\n",
    "print(confusion_matrix(y_train, train_preds))\n",
    "print(\"Validation Confusion Matrix:\")\n",
    "print(confusion_matrix(y_test, val_preds))"
   ]
  },
  {
   "cell_type": "markdown",
   "metadata": {},
   "source": [
    "## Tuning the RandomForest"
   ]
  },
  {
   "cell_type": "code",
   "execution_count": 13,
   "metadata": {
    "ExecuteTime": {
     "end_time": "2019-12-09T19:26:30.634113Z",
     "start_time": "2019-12-09T19:07:25.038905Z"
    },
    "scrolled": true
   },
   "outputs": [
    {
     "name": "stdout",
     "output_type": "stream",
     "text": [
      "Best params\n",
      "{'criterion': 'entropy', 'max_depth': 10, 'min_samples_leaf': 0.05, 'min_samples_split': 0.05, 'n_estimators': 100}\n",
      "Best score: 56.77%\n"
     ]
    }
   ],
   "source": [
    "parameters_for_testing = {\n",
    "    'n_estimators': [100, 200],\n",
    "    'criterion': ['entropy', 'gini'],\n",
    "    'max_depth': [5, 10, 20],\n",
    "    'min_samples_leaf': [0.05, 0.1],\n",
    "    'min_samples_split': [0.05, 0.1]\n",
    "}\n",
    "\n",
    "rf_model = RandomForestClassifier(random_state=8165)\n",
    "\n",
    "gsearch = GridSearchCV(estimator = rf_model,\n",
    "                        param_grid = parameters_for_testing,\n",
    "                        scoring='accuracy',\n",
    "                        cv=3)\n",
    "\n",
    "gsearch.fit(X_train, y_train)\n",
    "\n",
    "print('Best params')\n",
    "print(gsearch.best_params_)\n",
    "print('Best score: {:.4}%'.format(gsearch.best_score_ * 100))"
   ]
  },
  {
   "cell_type": "code",
   "execution_count": 14,
   "metadata": {
    "ExecuteTime": {
     "end_time": "2019-12-09T19:44:42.720382Z",
     "start_time": "2019-12-09T19:26:30.637112Z"
    }
   },
   "outputs": [
    {
     "name": "stdout",
     "output_type": "stream",
     "text": [
      "Best params\n",
      "{'criterion': 'entropy', 'max_depth': 10, 'min_samples_leaf': 0.05, 'min_samples_split': 0.05, 'n_estimators': 100}\n",
      "Best score: 55.07%\n"
     ]
    }
   ],
   "source": [
    "parameters_for_testing = {\n",
    "    'n_estimators': [100, 200],\n",
    "    'criterion': ['entropy', 'gini'],\n",
    "    'max_depth': [5, 10, 20],\n",
    "    'min_samples_leaf': [0.05, 0.1],\n",
    "    'min_samples_split': [0.05, 0.1]\n",
    "}\n",
    "\n",
    "rf_model = RandomForestClassifier(random_state=8165)\n",
    "\n",
    "gsearch = GridSearchCV(estimator = rf_model,\n",
    "                        param_grid = parameters_for_testing,\n",
    "                        scoring='precision',\n",
    "                        cv=3)\n",
    "\n",
    "gsearch.fit(X_train, y_train)\n",
    "\n",
    "print('Best params')\n",
    "print(gsearch.best_params_)\n",
    "print('Best score: {:.4}%'.format(gsearch.best_score_ * 100))"
   ]
  },
  {
   "cell_type": "code",
   "execution_count": 15,
   "metadata": {
    "ExecuteTime": {
     "end_time": "2019-12-09T19:44:42.924383Z",
     "start_time": "2019-12-09T19:44:42.727385Z"
    }
   },
   "outputs": [
    {
     "data": {
      "text/html": [
       "\n",
       "                <audio controls=\"controls\" autoplay=\"autoplay\">\n",
       "                    <source src=\"data:audio/wav;base64,UklGRu9yAQBXQVZFZm10IBAAAAABAAEAIlYAACJWAAABAAgAZGF0YctyAQCAgICAgICAgICAgICAgICAgICAgICAgICAgICAgICAgICAgICAgICAgICAgICAgICAgICAgICAgICAgICAgICAgICAgICAgICAgICAgICAgICAgICAgICAgICAgICAgICAgICAgICAgICAgICAgICAgICAgICAgICAgICAgICAgICAgICAgICAgICAgICAgICAgICAgICAgICAgICAgICAgICAgICAgICAgICAgICAgICAgICAgICAgICAgICAgICAgICAgICAgICAgICAgICAgICAgICAgICAgICAgICAgICAgICAgICAgICAgICAgICAgICAgICAgICAgICAgICAgICAgICAgICAgICAgICAgICAgICAgICAgICAgICAgIB/f3+AgICAgICAgICAgICAgICAgICAgICAgICAgICAgICAgICAgICAgICAgICAgICAgICAgICAgICAgICAgICAgICAgICAgICAgICAgICAgICAgICAgICAgICAgICAgICAgICAgICAgIB/f39/f3+AgICAgICAgICAgYGBgYCAgICAgICAgICAgH9/gICAgICAgICAgICAgICAgICAgICAgICAgIB/f4CAgICAgICAgICAgICAgICAgICAgICAgICAgICAgIGAgICAgICAgIB/gICAgICAgICAgICAgICAgICAgICAgICAgICAgICAgICAgICAgICAgICAgICAgICAgICAf39/gICAgICAgICAgICAgICAgICAgICAgICAgH9/f3+AgICAgIB/gICAgICAgICAgICAgICAgICAgICAgICAgICAgYGAfXl6gISIioh9b4CRi4R0bYeWiIR5bHJyd3l9gHJ2e4B/c4SYlYyLioqKiIeFgG9pc3d3d3p5eYSTlouIgYCPjoeHgHdyb3J2dnp3foqPf4CViHppcHt2hJiVioN5eX92bXd2eYB/d4qYiHdrc4GLiHdvd359eX6HmJqOh4eRj4uMioqKhHpzgH90cnR6fn59e319eXd3hJOTjISFhXp6hIN9eX6EiouIiIN9cmxydHR2d3uAhICAgH+Dg35+h5GMiI6MioqFgHdtbHB0d32FjpGOhHltaXJ3eYGSmZGLiIN5cHmAg4qRi4N/e3JsbXN7gYGAenN3foSPk5GKhX5zc3uAhISAf3t2cnZ9f4OIioqHgX12c3R7hYuMj4uDgYSAf4CDg4SHgHp5end2eXd2d3Z0d3p6f4SIhYCAgIB/h4+Ojo+LioWAfn+Afn6Af319eXd5enp7gIeFg4OAfXp7f4GBgYGAgICBgYOEhIGDgX9+f4B/e3p9gICAgH9/f4B/f4CAh4+Oh4OAgH99eXp7e32Dh4SAfnp3dHN5fX5+foOFiIqIg3+Ag4GBh4uIhYWBf317ent+gICAfn6AgH5+gIGDfXp5en2BiIeAfX+Ag4qMiIGAgH9+fnt7fn15e316d3p9f4CBg4qMiISEhIOBfnl5foB9e4CAf317enmAiIuLi4iDgYN9dnl7fX2Af3p7gIOBf4CDhIWFgX5/g4WDg4F/e3l6e3t/hIeFgH+Afnp6foCBg4SBfnp9fn+BiIiEg4F+foCAf356d3p7gIF9en1+g395gYuIfnJ3gISDf3+FgYCAgIOHh4WIi4qDenp6d4CKh4B9enl6fX5/gH97foSBfX59fnp5g4GBhYeDd3R/hIGDhH6AgXp3fYGFiouHgYOBfn2AgYCAeXd5fXp3e3t3eoCAeX6EhIeEgYSHiIuIhIGBgICAend0dHZ6fn+Bh4N/e3+AgYWDgH5+gH5+gIB7f4WEgICKhXt7gIB/fXp/g4SDgYWAeXR2e4CAe36Bg4SEiIeAe3d6gIeHgH99d3d9gIB/f3t6foB/hJORiIWEf3Nwc3d7fX+Bh4iHgH17foOIiIWIh4OAfnp3eXl3e39/f4GFgH+HiIN5doGDgH92b3N7gIGEhH5+foCDioyHgYSLjoiAenRtbXN3e3t2dHuDh46Og4OLj4yPjIeDfXZzdHNzeX6Hi4N+fn9/hYeBgYGAgIWDe3p+f3p2eXuAg3tzdn6AgYeDf3+AgYSEhIeHgIGHg39+e3t/gH9/f3d0fYB9fYB+fYGDg4eAeXt7fX+AgH6AhISFg4SMh3d0foB9fXt7f4B/f4OKj4uIjIyIhIB7e3p7foB+dG90e4CAf4OKioGAh46KgHl7fn19f4WEe3R0en2AhYN9en19e39/f4GAfXt+fn+AgICEh4WAe4CDhYWDf3t6e31+f4OIg3+Ah4WAfn19fX6AgYCEh4B6eXZwcHJ2foOIioiOkY+MhYGDhYF+d3N2eXp5eXp7f4OFhYWIi4d/eXp5enp9gIODgH5+gYGAgYCAhIF+eX6FgHt/gICBgHt9fn5+f4B+e4CAf4GHhICAgHt3eYCFiIWAgIODfXt+fXt+gIOHgX13dnt/gIGAgIGDg4SHi4iBgIB/enJ0en19f4OLi4F9e316d3l9gIB/gIF9e4CEg4GEiIuPj4eEenl+gHpsc31zbHN3g4yIhYCFj31pfpKKe3mBioyMfUtXhaqylYVgU3ecjnJ7ioyOmpKAgXtyd2xhbXJ7io+Aa2+AgYuYk5OHgIF+cGmAnIxsYm12g4uMk4V2a3aBfnd+gG9rg4qDaFd3o45Lcpqcr5NmbZOOg4qDe3uHjHZhYG+FkYWDhYiHeXePk317i46AdH57b3p/dHd/dHSAgX17gIqBe4uPgYF+eoGFg4iKhYqMhX+AgHJocn17fX1+hYyIgH5+gIWDhIWEgHl0dm9zfn53dHd5d3uKmJqOg4eKgX+AeXuEgXtzcHZ6gYF6eX16fYiHd3OEjIiHg4GFg4iMhISDd21zgYeDhH1wcHN7hIiOiHp3eoOEgIeIg4B7eX19fYCAgYR+c2lpc3+KhHp/f36RlYiMkYuHg4N9b3B6f3tyb4CHenaAh4iPkod/e3Zwe4V9cHBzen9+gYV+foqMi4+Og3t/gHp3en+EgIeHgIeKg355d3l3ent/f3R6hYR/hIV7cHZ9f355fYqTjoeIhYCAgISBeXB2eXl/gH+AhIiAfX1+fn55dHd3f4iKiISDgYCAh4qFh4yFdGRsfXlscIOTkYB3dnmAf4GLhIOBf4GDeXl7fn1yeoN9ent/gX9/gH6BiIqLh4GBgH13doCEio6IhH15eXqAgHp9gICAgIOFhIB9hIiBgHtzd3+EhH56fX56cmxyfYSFh4eAf353eX9+eoCIhYOAfXuAgX5+gIB+d3R2f4GHk5qdmIR3dnp5dH2FioV7bWx0d31/e4OFhIB5gIR0a3mPkoWPlYp9g5Z+Wlt3j4V6fYB9bXqHfWl0j5WEg4qHem+Ai4F6fYWLhH9/f3uAgH2AgXpvdIGKg3lzcHJ/j4+IiIWBf4CDf3l2eXp0e46OhYOKkYqAfnt2a2hzeXl7gYSFg4B/gIWFgISLi4ODioN6e315bWlyb2lvfo6Lf4CDg4yRi4uOi4qLiIuLg3t3bGBdZGZygIWBg4iIiIqIgX2AhYODhYSAgH50b3B3enlyeYeDdnB0g4+PhYCBgIOFio+Lg35+fndtbXqAf32Aiop5bHN9f4WTloyAf4B/fYCBfoCEg4B+eXl6foB+e3t7dnJzeoGEgYCFioSFkY+Be3dydnR2gYiHfnd+gIGDgX96fn56d3J9ipajoJF6ZGhye4SKg3Nvdnt0dHuHkoyKi4Bzc4CIh4N/fn17enNvc3p2doCOj4eKlZOHgH52eYGLjoeAd29vcn2Dg4CAgX56enZzeYCFhISHhH16foB/d3Z/gYODgYCDh4B6bW92fYB/fnp6g4yYnpWKgX96dnR0eoSHgHl5e35/fYCBgISIhIB9dmxzgYR/d290eXNwd3+EjI6IiIyRh4CAgH57e3l3e4OMhICIjIR5cHuDh4eAeXl7foCAe3qAgH13fYB7eX+AgICAfXR+ioh9d3uBgX15fYCEhIB6eoCAeXmDjo6HhYOAeXR7gICDhIB9foB9dnuBgX9/gIeHgIB7d3d3enl3f4iMhHp2dHBsc319foeVlYqEhIB+gIB5eYCAe4CEh4iIhICAioqAenp7e319eXd2dnlza216g4WHhYOFi4uEgYF/e36AfnRtdHuAgH9/gIWHhYB3dH2LkYV+gISDhYeDd2lsd4CDgH+AgICFhYCEhICAf357e3d7gISAe359dHJ2fX57gIeMhYWFfnNydHuFjIqFiIiFhYeEe3Z7f3lze4B9b219h4+Le3Z7e35+eXuDg3t5gIuMgXZyc3R5f4CAfoCDgHqEno6Ag4OPe3B/gIiIhX15gICEg3Jka3+EdmVviJGhrrOymHNPS0tWYmyLoa6RaYFXYrGFend2gICLa36egGx0fYBpZnN6lpGHhXaHmoR6eoGIeXl7h4yDh4yRioiEdnOAentwZYWOgH16g4h+fYB3dnRobXZ+h5GMfn55cnB5gX93dnqAh4GDiI+ZmJKPh4CAgIB+en13b32LhHl6gH96eX95aGtyeXdyeYCDio+KgICHiIOAgIGAgYWEfW1wfoSDgIOAe3l2d3d0d39/e4GIgHZ/kZKFe3Z2dnt/fYCEhIeDgH5+f4CBgYB6gISDgXt3gIB7d3p/gYGAgISMjIiBgYF+dnR0c3N0fYCBf4CFf3R3enNwf4yLgYOKh4B/gIR6bXNzeoB9eYCIg4CDjpOHeX2DhISHiouAdHZ7d3N0eX6AfX+BgHp7e3d7gYeFgHRvd3+AhIB9gIV/f4F+dneAhIGDg4uYoItpYW2AjH9tfY6MfXd3gZydgWtdVGV9iIqKmJl9V2SSpZN/bFddgZiIeoCAb3J/cGJtgIOAg5GWk5KhqJiAdnd2fYB7dnp7fXtyeX99eW1teYGMjoyPj4F9eWZdZnN0eoqIgIeDgIOIhXpiZXR6jIiImpOOhYWFeoGFfYGDd2tyfYCBgH6Hjm1rfmxwhYWBhIB0fYB9gHtpa31/foOEg4WIj5GHgISFg4GAe3R0dHRsdIB7cG13h4yRkYR3dIOPkY+Ff31zdICIi39ybXR+gJGWiHdiW3OHg4B+gIB6e4GFf3l9fnl6gIOEgHt7gIB/e3qBiIB9g4qHhIiPkYyAe3lwaGJoeYGFiIF6d3qBhX19gICAf4CFh4qHgH1wcHN0fn15hZOPh357e3uAg4F9foqFdnaBe3eFiH1sbHR3foOMlpiShYF+dnR0e310cnJ3gYN7cHeFiIF7foiSj4R/g46MfnNraXZ/fXNydHqEjIiDf4OSlZGOiH52dG1ia3t6d3+IgHd/f3l6e3p/g3t2enp6gYqFfXl+jJGOkYqKj4yIh4R9enZpZWxwdIGHf3d6g4R/e3l7gIB/hIiFgH17d3Bvc3qEjpGMgXp6dnZ+g4R/eXuBgH96c3J6g395fX6EjIuOjoN5dHl/f4OLiH96fYOIiIF6dnd7enp7eX19eXRydn9/eXuKjISAh4qBfn5+hIeAfX55dHpzaXmKf3Z+f4WPh3qAhHl+gYuOe29ygY+Ff357d3p/end/gHp6d3SAk5J9b3eAf399c3aFjop/gIiIhHpwentwfo6LhYWDe4B9dHR2ent6en17enqAg36Bi4WBg310dHd2e4iIf4GHg4CDgHR0e3+BhYh/dG1wen59eX2KkY6Hf3uBioyIfnZ7gX56enl9g4GAfn1+e3qDhXpwcnmBhYOHhH9+fXZzc3JzeXt9f4OIioeEgX17gYSFi4V7en+EgXt2eYB7cnqEgYCHg4CIgXd/hHp0dnBveoSHioiAe357dHZ6fYGEh5GVi4ODhIR+c3BycHN+h4WBgYB+fnpzdnt6e4CDgH19f3+Di46Efn+DgX5zaWlwd3d0c3R9i5GDeXuIjIyLiIWHi46Rin99eXR7f3Ztc36FiIiAent9fn17e3p6e4CFhYF+eXNzc3N2ent5d3mAhX59hIh+dn2HiIySjIqLg31/g4B2cHR9f356foF/gIOAgH59f399e31+eXp/f4B/gIuPe2lsd36DhIOBfn9/e3l5fn19gIB+eXd7f4GDf36Ij4uMjoN3dHp/gHt3eXt+gYF+enp9fX16fYOAfoePhX12cHZ+gH5+f3ltcICKfnmBfnqEjId/f4GHioWDhYqFgYB/gIWHgYqMaExto6FJOUA2aJXEvZWdqLeuaCcTQmB2mKe9x7WMRSBCj77WzJV0ZEJHYnRomMOMqrYvEJbqhGTgeQ5WsmlAdjJLrsy5TRtHo4ht7Lc5IWh0T4Scs9d+PYiddKSPME2n19y9lUwZR0uO4baSq4NwmGw6QmSK1eSoi0kOS5VsRHCBOj6Mq7nEuZKSnmUnTZKBcKGvdHeaemFeXXCHioCEkoh+kY53c3BkYXKKkoyYmop0e4yOgH2EgHp3iJN9bHmEf3B3h3BhbHJweYeIkZqTlpx/XVpdWWh+f3Z5gYGFioiOlZ2SgX95a2JocoWdloSDfWxofYB7jqSah2xXYWRidoWLgIGDdn2HjIhvYn6ZkYqOi4WHi4R/g3lpYllgeo+alYBoW2V2jJqhoI+AdnOAmJySfmFWYH2Wo5yAe4BwXl5pcHJwb36OkYd6c3mFjIyTkXpsdIOPjntraG1+kZiTgHN5gYeLhYGFhIOAf4B7en12dHp9fX6AfXZ3eYGLhX+BjoV7eXZzc3d5hIV6eoCFkZmThHR3fn6IkouAfX6Be3R0dHZ3f4iDeXd7fXd2dHZ/hIeFf32AhIqMjod3b3Z7e32AhIB0dn5+fnt7h5aShYB3dHqAh4+SgXeAgHt6fnt6hIeKiIiKgH6Bf3pzb21wdnZ0doCMhYCEgHuAhX16g4B+hIR+f3l3hIh+dHZ9h5WTfXR9eXqDg3ltaWZkcpGcjIWPj4yVlY+LgXltYmFvgIqEe3Ntd4GFiouAbF5gcIOIg4OIkZGMioeFhIWBfYSDenZ5g4F9eXd6e3Z2eXt7eXJtdoicnI59eXRygJGRgXBrb217iISBgIeEe4iSe2l3gH9+d3ByfYuTj4V+f317hI+OhYB5f39+gHuDemlsdnlzgZWRgXRpcIyVkpGEfX55ZF1kaXOEmY97e396d3t/h4eBdn2Lh3p5eXuEioF3eXR2h4iHhHdmaXuBh4uFgH+Fh353eoSLioB3gIeAdnl/enN2d3d0c3l+h5OWjIB7enp3e3+AgX+AhYR7dG1vd4WKfW1tdnR2f4F6foOBg3t2f4eIioFybX6HgX50aWlzgIqOi4B6g4eBgH97en6DgXt9fnp9hIiFeXN9i459d359dnl/fnp/hYiFgXtvaXR/hIyIemtodH56c3R0eoiRjIeBgH6Bi4F6f4F7fYd9cnl9dHR6fX5+fYeOioWDfoCEd2xzf3+Bin9vbXR9gIB+cm97hId/eXt2dISRg3B3hIWLint0foSHj4x/fXl0dHZ+gHt6f4iIenJvdIB9c36IhYeOjIR+d3JydHl7fYGSlX9ydn5/f4WDfnl2g5mcg3BpbH+Pi31vaG2Ai4N+enuHj4h9fX97fX5/fnt7f4B5c3mEh355ent/g4B/fXlzcHR9iH1wfYd/dn+IeXCDjI6Wko6Of3NyfYWBd3Z9end9g4SBiJGOg3qAhXt+hXRaW4Gak3p5iI+Ie3+BdGZkZXSDfnNwf4iKj4eEj4yDeXl+gIV/eYOKhYGBhH5taHR6dnZ9fnqDkpKIg4ODhH92cnaAgX5+gYN9d3Z6f4CHi4WBgX+EhX55gIiFfXl2dnl2gIyLh4B6e4eTjIB9fXt3e4CAe3Z6f4F6dnZ9gYSHhYSAe36AfXl7d3Z/fXZ5hY6OjIN+fXt7f393dHR0e4B9eYCIjI6HgIGAent+gYSFi4yHfYCBdmxwf4+PhYODf3t6e4SMiIF6d3t+fXp+gIOFjId7fndoZmhrgKeukm1aa4WVlohtZIGcinJtdIOWmIVwZW+Fk4d5dH2HhXpycnBvdntzc3+EiJGMioR5doOTk4qDe3Z9gXt9hYuFfn6BhYV/f359e3Rzdn+Efnt7eX1/f4eSjoOBgYCBe2xpd4OHiH9zeYWHh46HenqBgXt7endzeYGAenNwdH6DfW1tdm1QXazk0X49heN5DzJ63OesYQI3muPkoVssYTdBlc7vvZWFqHICLG2y6IMPL5jW06VdQXZlZI+xx4QwUKuSUDpisrGFfoFva4VwSGahqIpkRV6RpYFtipyId2VSgKShqI9mdHlhdpaFf29UYmyImndZd6GdmoVNQmWLr7qleV6FmmRJWnaeubGFV2aYoINgQVSEmpiTf3CMmYiEmZ1/bGlven1zg5Z/XmuLjn1pbYygjnl+dGxsfY+EbF53cmR9pJp7fYecnod7bHCAf4B7b2h5hH1wb4iaiHRscn2MoaiVdmZpeYySh4CBh4F2e4iEc2tsg56ZioB9dHl3aGl0gHlyf4iIgIWBdGxwgIeHhIiOhW9peYiMh3pveY+WhXR0c3eIkY6LgW9mb3+KiIF+hYp5cnd+jox5a2tobIOPjoFzdH2Di4V6fn5tcoWOgXd/iJOPgHNwfoSLiHtwcH6Kg3+LjIWAcmZyfX+Eg3+BfYOIgX50b3JzbXSKk4t7c36Ih4N7cGl0hYR3c36AhYuLjHtsd4GBfX15fY6Ed3l7h4uEe3Z+f3p3fYd+dHeDjIR9dm90gIF+g4eBeW15joRwcn+LindrdIeRjIR9gIqIh31pa31/fYCDh4uKemlsf4V+dnJ6ioV3eoOBe3N0gIV+cnB6gIR9cnuIh4F6a2mBj4+Ri35zdnl/hIB/gYOBenuDiod/gH92e4WFh4d/en97dHp/gH99enZ0e35wZneFg3t7en2KjoR/enJ3gYB7foGIiH97f4F6dHZ0f4uIgH1+gISAfoB9f4OFhHpzeX59f4eKhX59f3p0d3l5fX+Ag4F9fnpvcHt/fXt2c4GPioCHlZOBc3d/g4SEfnl3fX99fnlydn6AfX6Aen2Eiod/foOBgYWHf2xmb32OjoR5cn2Df3Ryc3+Tk4F6bWmDmpaHe3N5g4F9e3dvcHuDg4CFgXuHkYh3a3J/g4V+en9+e4OOj4R3aW16gIOEgYOFfnNtb3N/j5WSiHdvgJGLf3NveYGDgX17f4OBg39+gHZtd4SKhH10cnd/hIR/hIF+jIV2c3R9h4d9eoSOi31vcnp5en+BgH9+fn6Ik4d7d3N6iIiEioR3eXp0eX6FiIB+e3Rsb4CRj4F2doOLhH9/d29vcneBf3R2f4+ajnZocoGSloh+foGDf3p9gXtvdoSHg3pye4eEe31+e4SLgXd0eoSDf3p6h4yHhIeEeXN2enp2eX17fYWLhHpscH+AgYiKhIOHg35+e3Z6g4B9e35+dnJ5f4OBfoCIh395d32BhYiAeX2DhH15g4qBd3N6hIWAenp/hYV+c290d3aIln5/inN6mIFiYXd9b32VmZKSgFtmlqOnwcGYZU0nIFpeaX9zZmFJQnfB9t28t7OzsaiYXiEiM0JPVHukfW23zIxMOVZ5a2uYr6/LzK6nnoVSMkFZbWRikrOkjoR9aUQ2bK6glb22cjpIbHp9eYGdrJZwUkVrin+jpIOPe5OlkqGeiHpQNkQ5TGJoe4qcubOloX92lrGZYUJScJadhHuEnaODUCUwdqGVlYtha4yvwbK2s5l7UjtBR1mBloNtUktpgZq5tpVoSEVSe7GymYV7gYqEhHlaUFaAnoWAoaqPdmlNQWiPnLGremxXIlKTtuPOkmZLR2mvuqfAt45wRyQ2XV5siJKZnY6LaVJ5fXuPmpihqJWIhWQ2PVBli56WlqCdloFsa3eBg2JLb35rbH2Hi5GVk5mempGSloNkU1ZZVGR5g5mqmICIlZKFi4t+f4V5cIN+VDdCeotiPUyTxaqPpKqxsWtCU0dTgJGTqKqPjHdSdLaulaCep387Jz6AvL2DSz1PgcXVnmFBT3mBiIx+dG9sYF5ygHtdVmF5oby6taOEeXpzdIWFgIV6aG+AkYx/g4R2c3t5e4OHlqGKeX1yYmh+kZWSlpJ3ZWJvdGleaICBeXdze4+YkYWAg4WMjoN6fXuAi4VvZWx6jpqWintwdn+DjJKKf3p6d21maHB5f4F2dIuZlZKVi317fXZpaGxtc3qFj4V3eoGBfnt9d3mLk46Pj4R+gHt+ko5yZGZyfoiKhHt+jpGBe3ZygIt/dG9tcnmBiIqFgH96en1/gH53coGMf3aDj4yKfW9vcn2Bdn2HhIeIg4OFg3dwfYWFgXZygIyFd3aBi4N5fYeRinR5g3JgW3KOkod+e4SHf4CEfndzdoGBeXJvdoeamIh+dHR3cHKEj4+If31+fn+DiIqFfnNtcn2BgISKf3RvdoeAdnRvbWhpf5WYjpWjoYxtb3ltYl5ka3SBmrKsmpKThHZsW1lZYW1tfZGerp6Mh4F3bG13fnpzeYWMi46Bb2t0dm96ipaPe3Z6hYp9dnuBg3loXl1oeoqanZKOinNod4OKjIN6fn15eXqFk5WEdnd7foSBhIiEg4F2Zml9g3t7hIeDe3d2e4CAenN5foCEf3uHj4h6a293d3qBh4N+cmlwf5Kaj4GAg4GBgIOMjoV2ZmZrbXeBh4yTkYV5cnt/gYeDh4+Kf3+Ei4V0UktZS1ZsdIOVlp2qsbq8qIdaMik7VHCjysiogWZgg7HBt6R7Ryw6VG2PmYRkVm2EkpaKemxkbYGWo5V/dHSAjot3YWFtfpiuqo9tVlNkf5mgloR0cnB3jJ2djnllXV5ic4eLjJGOgGtleYWSo6WdhGRSV2+HlpiSiH1tZWZrd4qSinZhYXCEjoqKi4N6dnd/gYGLmJiAbXZ/hY6TloRwaFpkd36OoKCLfYWKgXRveXB3maFmFDOO68w+D1rIwC8nqNWSaHmAeZK9q210q6d6XXaqs5FrU1d7hHlvdpWcZjBFi7ejg4uVjnpUTWBoYWJobX6EgHZiZXaLp5l+hIyBdHKLrq+celpegJqSfXOBkXZhgJqHZVRli5F0XWaMnZORmqirkmZLXYCFeXSBhX50dJizqox2b3NvYWFyi5qPf3N6inJTWmRofYyYqJ6Mi4eFhXt6fXZta3J0g5aMd3uBeXd6hJKRi5Kaj4BzaHB5aWBrdHZ0eXt9iJOIeWxshJKFfoyemIuIioSDhIeLeWRldoOBf4OEf3p6fXt9e3t6cnB0enZsbHuKin56g4qDenl3fYuSj4uOk5KOjIV+enNrcISOhH9+end3ent+e3d6fXRvdnl2f4iHfnZ2eXRyeoSFgICIkYyIhH9+gH15eXuDh4qLh4F9e35/e2hHNkRde6eWaKPdtarHr6WSRAxox2gTK0tpwNo+AElQXnrD/9e6urK3s6+rpKCIMgArRUJUa6651s+jsaWejFAhGStMYprZ0aurnIE0ADRMN0tUhc/XwaiZnXctJ0I2PldWTXJ9aaHExcN0QkxCV4x+XW+AbU9CWW9+o+7+zsXDurezq4uEmqqnnHMyHjNFT1pyiKu+qKS2mUwgNllyh4WLtryzuaejkmQ9O0lHW2Vvf29WVGZ6joeIpLOro6qji2lUYXJ3c3mBj6Sro5OFdmlXT2BweYejta6elYd2Zm17hIN6gYpzXVJUa3Zwc3ZtYVZij7esk4+oysq3r6qgfUEkLDlIUmSRur6yoHdBKTlgfpinub6rjnRkcIGHo6+SZkxETFtkeYqLgG1eXXmZrLWng2JZUlZ+naigkX9mUE9ri5iuy8WujnZhVlpkf5icjHZgT09NU2yRusSle1M+RV5yhZyglZignI9/cmtpb3mAi5iglYF5bWRhb4CFgX97cmx7mp6Fd32IjoyEeWhkbHR3aGR6ioiDhY6PhYOAdG9zdHNtcH+WnoR9mKOTkpaBbW12gIR+d3qFj4t5Zm15eX5+cmtpZml6kqCako+Sj4eAenJrb3l6d4CLg3RmYGBhbHeAiJGdnpWEfn1+e292jJKOj5KHe29pbWxvc36Hg4iZmpOWjHpraHR6e3JreYB/e3d5fYOIioOFi4iFfXJ2foB5b3mBfn5/d3mFiouOi5GSjIh9b2ViYmx7fX6Fjo6Mh4SEf32Bg3+Di4uFeWVkbXBoaHSBk52WgGZka292hJGWmZmKdnZ9bXSVo6ejh2BQYnZ9foeMe2Roe4eDe4WRi4B2dH+Lin5+i5F5V2WAiHJlhJ2PeXuMgXNeWXB9hI6otqOOhIF9eWVXa4eSgHR2enRgZHJvc32Aiohyc5GempmdoZ6Hc292dHB+hH15e3Rtc3N6h4qHhH5lU11se4edpJWIe36Fio6Hf3aAi3RodHt/g4SDhX1kVFlyh4iRnp6OfXl+gXp+iH50eXuDgYCAc21saWxsd4yWmI+LlZ2jnn5lV0FIYWx/nqOMb1dWcISWqJWMsbyonId7dmVmcmxseXdoYG97e4uPe4eVfm1iZn6IiIqEeXp+dHByaWaFqKOYiGJQaH2AjpyOc29rWlthZoizvK6djoyTjoWTnopzdn56eW1bYXB0b295dnN7g4qSj4R9dnaAhISFhYOBhYuPi39pXVpXYGZlcIWZmYuFf3NiW3uswLaonYxzWklEU3actreoh2FEPU90oaeWk4BpXmF5kpyWj4V3bXJ/f3l+hYV/dHN/h4F7dnBzgZaemJiWkZKMfm9kWlpwhY+EdHmFioN5cGlpdoiTi4SKi4B5e4OEeXB6gHdoYWl0e3lzdHZ3hJmnpZaKfXJwc3R6fnt/iJKPgHJsdnZyd3eDlpKEjJyWhXtzbWldXneFhYOPnJKDd2llcHZ7iox9fYiVk4qLj4N6iI6DcmttaWRiYXKEi4+Ljop/hJOVioeLhXltbHBta3R+enZydoCFiH52gZOSfmhsgIeEhIqPi39zcHmAfn2Kh3R2f316f4GAe3qFj4d6en59fXt7h5OSiH55gIeEemZUV2JwiKCsoY+EdGliZXOKmpWBfYV9bG10foR+eXRyb2hyjJqTkY6KioF2gINwaXB0b3+gucS2j2ZIM0mLrIFdb36HnodXVneZq513WVpoe4uWnIVpW1pyj6OkkoSAf4B5bXeIjIh/d36MiICBc2t0hZORemRbb4+KgX97hISIkZiWgXZ2c21yd3mAgICFhXtydn+HgHN9g3Nla3N6d3N7j6CZjIV/hYR9en2DiIWBfoCHg3d0dHRzdHp6eYOHf3t6gIqPkoRvaXR+dnJ6f4B0bXN+jJKLioBygI6Pi355gIiEf4WFeYBvSFt/imtHaYWLmZy9wKunnYFZUGlzdnp3ZlJWZoOVkZGYh2hUZoOTlpiqo45+bHeEiIBtaWtveXd+hX95gIWAjI6KjoF2ZmFbVnOep5GSmoRoZH6Oh4F9dn57ZF5zkainlox+bGBrent/h4h/c3uRjoCDfW1vaFRMVlRsmq61trKxqqCIYTsvPWCWw9bAjkweLVaBt8u9pHdNQUxzqszAj1AoMlJ/qLeri29aZIihnINmSFN6j5OEf46MnJl5fYuRmIh6entwWlJNXX6RjIiDgYWLhIqgkW1mYWV7hZirqJV7a2VpZmVpcn+BgH6BkZmKdm10f357gYR/foiZkXlveoGHjpGLd2Zsen50bWlre4WLk5iRj5aLe3Jtb3B6e3NraHqPkoeBgYB3ZmVvdIinsZl9d39+enl7g4yYkn5ybWl6iH5ybWRrf4WAf4F/eoSMiISBg4iPioN+dHZ+f3l0d3RscHN0foSFhYSBgYiPin97b2JscnN/gIWPiISDhYiBd3J3fn16fYeSnKejlpWRgXNmUE1eaIGhmoF0a2BeZmtlcpKnnZGgsaqelod9eVs3N0hWXXqxuq6ehYuRhHJrc3p+foOPhHl5cn+PkpOMfXJtZFNHU4Oxr5mOgXJmW2V/iJGSi4iFgXt6f4WDdHB2foB9dnOAk5iFbWl3h5OKdnJsZXaIiH96a2Bte4ujrq+rln5lYGZgZX6Yknd+kZF0WW2So4VhcIt/jp2RlotyYEc6RFJmgZ21sp6MhIqLj5yahG9kcIuShHNhZm93fXt9cmtvd3J2j5KZp5iBe3Z2eXRwf4qBdGtzfX+Eh4d3Yl5oeYGKlaGcjoB0do6orKSPd11PVmF0iIRpW3uopY6Hg3NrZV1leo+cnIt9g4WAiJOIdm1zcnmBen57Zltga3eMmpmPjI6Ae4SLi4uDZFdziot9doSFfoOOjn5oXmFseYGMko+HfYOSjIGLk4qAe3drYGByjpV+bW96g4iMjId0aX6Kf4CKjoiBfXBzd3p/g4R9cGZrc3uEi5mcc16Ph2R6bF6Pj3d3b32ZlV5pq7KgkX5wcHBhYHqLi4R/f4SMhHl6gIB5cnqLmJiRin1ve4iBfX10cnp6eXZvbHeDj5OMhXZrf5GKf32EkpyVhHl3d2lvZUF2j32BhYOMrJGAhHlQRWZkg4h5aXOlx8SrlWxFGilSVmBbgLfX3MW5s6+lfhsCPUtdnNblwJJNCSVUheTytp5ZCCBSgNzvupxXCCBLZK/u0qFhCSBSacH3yqV0GhdMbLzyy6p/KRRCZKHVvp1oMi1HcKjEwLakkpWcmaCad0coL1J9p763p4dMLD1mkp1+UDc6TWuTw9bHqH9INlODtci+o3ZJMjJJZoScp6Scj4F7f355eW9pcoScpZyMgXReU1NbcIukrqSPem1eUFRidpays6WShHJhbHRydnRzf5yymXJoen9lVGBzgIyeqKWaiHt3d3l+fnNpa3Nzb3B3f355e4GEiJGMg399e3ZvdH15aWtyg56dkYh7aW+Fq7x2UJO8pZaTQTLE0cCTJQRetsfasYRUFCFXruu3TQw2neigJzR9ubF3YH+2hUE9VIfEs3BJPlaSzr6afV5JV3Jte3Nvk7mWd3ZoZl1ET5jBx6plRUdgjKiysZ2Rh4eEen53bXmBb1lQU4Wqk39zaF5edJ6krq6BclZFhby9qnZPT2KOvcOgfnN7eWlbXoeoloR+c2Rda4CLin+AjJOLe3NkW3qSj39lZXqAfXKOtaF9c3l0fpWlk1153M+WeTsOM1pQgdbnq1MAQrbLiiI0g+T5rrKuoYw9GnmLLSxBWZPZ3cGkfVosGz5UbLLo17qqmnYzFDJXdJ6vnKGdaVtrfoOOnpmWZDZLd4yKiI6Vmox2bWxpfqOZfoiHe3pyZmJiZXBraHJ/hIuopY5zUlZvjKqsmIp+fpOjkn9+gIuSiHReSVNyh4t0aXZ0b29pdIyOipOdmIRzZl1mcm99g3qDlZWKmqihp6CMdl1UWl5rc3+LioRwW2Bte4R2Zn2YlYFyd4+Pg5y+vpNscHJpZWRlZmtwgJOeoKilh3J0i7WsWQsbR1BaZnB6hJ28w7a2trazp5lzLxIsRExZd6XBw7KhmIdvUkFJa46os6yYhXtlUE1acoqTmJiKb1RWaISdmYR/c1dIWXeLkoN6f310ha7Duqycg3RpU1BgaHCAk6Oej35mUkxgdn+KkoqBf4CHj46Ig3Z2gHpweZKVj5yYhGhNR1BebX+MmZyVjoeHhIGMjH1zdn+Ig3R0dmVebIWgp52MeWVpeoCKkpGPg3Nyb215hIeKi4R2bHJybXuLj4FvZWl6hYiOj4iHgXp6foWOkouBdmBdbX2KjIGAioqKg3Joc4eSkYp/dG9ta2xzcnSDjIyIi4qBg4iEfXNlaXuLmJGBd3l+d2t0i4+LioyMi46EfnRwfoWMjoV5b2FUV15teouYi4uLhI6WioOKhYCBdmViZnOFj4d9fXNvf4uLh4BybX+Okpmdjn90b3N5c219iH1wbW+AjouKhHd5h46KgX6AgHt0bGhvg5OTioB/fX6AfXR5enZ5eXuEh3tzfYB9e36Di4WLkoR9e29raGZ9j3ltjKCZhGxpgJWVhHBvc3J6hZGWmI6EhHtmYHSAgIB3aWRvgZikpJWIgXp3c3J6g4B/gXpsa3Z7g4N9d3d5e4OHi4uIhX50d4WLh4WDf3p5d3d0cnR6eXR7e3JwcHaIlY6LioF6dnuLmJaRh315d3NzeXd0c3Z+g4uTlo92V0tFUnehvcS8oIRoVGWHnaOcgWJXVlt0ipOckWlMVG1+j5mKfoSIi49+dIGEgH13gYiFh4h+bF5kc4GLj4yIhH16dnqIh319foB/e3l6f39/f3l2foyVmJOAfX1wa3SKk4B2gZN7aWRPZmlykY+IgXp7gHd+hIWIio+TinpvYmZ+kZWRhXt6dnBpZG10d4CFio6Zj3uAi5Kek3p6b3Kdlk89k5ZZXVdWg5N9dJ25trqcenJ3YD05Ql1+jp6ytZx9kZ6juaRmPUBSfpmATUVlf5KcoI5/jp6alY5/h5WIentya2ZhYltPbYyHhH6Rnp6SeXRvTTdWfoWSk5WaiHR2hIF6e4yLj5qBd3BiZmZscGBgf5Kdr6qVinlhYHN9dFt3wMiqmp2lnJa6qICIXhQQO09WSU99stbSuq+sqqWVe3RdIhk5SVqSxaqMkZqnrKBkIiuRVhRQPVBXVIfg+b2sijobMl6YzuDPllMBMmaS8+q6r52Bh1sgKUFgj8HOyrynkUUEKEhQZZ3z5bGuj2REUm1aSDc6Ulp/r8DBq52YkpaIcnqPin16a2Bsfn50hZFrKzBzxf/Orq+gj00UJEdikb7EmHNTMD5ghKOutaycf15dYl1ymKiWf4CBiKGojnJeYF5JPlmSt6qLf4OOmpV3U0JMZn2WpaWnrqWDb2xmb3+Af3d0fnpydHdwWlp+mZ6dj31zYl53kra9mn5mXWt9f4eYk3tZTFRsh5qumoGLmZiIhYyAYlJMV3R9dnR6hJqjh3mImZqMdGFid4F/eXRrcIeWo6+kh3p5c2hscG9ya2RldHt7kZySi4WFiIV9dnmBe3R9jpWOhHRlbIeWmY53doN/h5mDXVppWV5/j5GHg3ltYlppob2ghIWFfXdsWUtTaYGeubmvnod9bVlbc4qrs5Z9YUU5R2yRpK+rnZWAZlphf46Yp6GARz1weWRth5WTkYiKj3prc3lzdJGZhHdsb3RzeX2EgIOKh3p6kaWnj3daU3COmp2TinliZW1sZnCHk4qMhYCAent5b2xpdoiSmJyTf2JUWmmAj46Ig4WIgYWcmIRvWl5scn2VnIdva3Z6foOBf3+Di4yKipOcmIdyaGt2g4uEc2hvf4qEfXltaHSBio+HfoCDf4GHh4p9bGttcHRzb3uPkYSAdHJ+gISLioeIgHmFkpGLiIF/e3Nwe4F+e3Rta3R/f4OIh350b2xrcISPin+Mmod9hISBhH1mYHmTmZmcj3leRT1MaIWgsbWghXtzd4eKgX96eX90b4urpYN0dm1hb4ptW2RLR2uOnaSsoZWVkYuIipOFVztMYWl/lp2orqOKcFdTXVtWZHqHoLGzr56Yj35wZVtdWl5vhKGomoF2cltTU159mqyqmIuBfn55d3RpYmBogI6aoZ2Lc3B3f4F2bXqEgYGIi4F+f3d3hY6IeW9waW2IinRwdICIhIqOhIWMlZV/c3Z/iINvdHZyhYiBg4OAf3Ryen5+f4SKkoV0aWuYoWlCRE9hfZassaysq6CKYDkwNEthkc7IsaN2U4DAx7OroHAsGzBEV2Jyd2+ApKN0UlNkgJ62xLyacGVeTFqFqLXExauIWjtEaZy6s5VkSU9XZGtobXmOoKOWeWVtd3JyfoF9fYOKk5WMj5OLgXZraGJob3OKnpmFd2hZb5GgoJmMh5KSiIV+ZU9MWW1+gYeEdHCEmpqMhYyPg3l6hYh7c4GOjI6FgIGFiIBzZl5eWlpibYOSmKOgh3NveYOPlZF+bF1Ta4ycln9sdnZpcoWSh4WIfnp0b3OAi5yghXJwcHJ6g4eBen2DhIeDeXuOk39sZmZziJKTkYR9e32Bh4uEfnt6f353eoOIhH1sZXZ9enJsa3OEipWakYeBbVdgdIGKlZiVh3NpaHmIlZiEdnZ2dnqAhYuMi4iPk46Ee2teWV1lbHmHjI6Sk4+Ef39tXl1rip6dk46DfoOFh4qIgXNoZWlte4yMg4SIgHJvdnR5enJwcnR6h5WYlpWHgYF7gY+HemxpcG9pZmFbXWZzgJWosbGqqqqjmY55Xkc7RVd7qrKYg4R5Uz5Jb5Oltr6vh1dCRVdsg52qp5l9YVpsi52dk4+Tjn9/eV5NTFt0kaSjmIV6cHOEko96YFRaZHeHjpKLg36Ej6CqnIFpUkdTa4CVnJOFenBvfpijmYVvZGx2dnt6cG97hIqOhYGDiIV7dndwZmtyfYR/hZ2hk4yRkYN9fXJkaHmDh4d+Zk1Uc4eVlY6Ed3mIlZick4OEh31zbWBWXnCBh4qSin+De3d+g4iKjIyHgHlzd3JlbYGEfYGOk5GBc3J5eYCHiIx5YF5ZaX1/kpiRlp6jo6Gae1A9OkRTbIqds7anmZWSjIyKdmleRE1lZGZrYVdUb5a6vJV/foORnZ2Vh4R3b4OIkYhzZWFtdICRhXNva2x0enuFmZaDeoCRlo+FhZiYhHl9dGhze3p6e3t9b2BthId5Zl1TYH2cubqsmHtpZXOFkpaRhXBiYm2Eg3l9c2FhdoyVj4SFgHp6dnB7lqihjIiMj5KYkYBzV1ZmbXZ+e2ZXWVpodn2MmJqZlot9aWh3jp6SjpKOj4uLj4+He2leYHB9e4CIg4CAeXZ2enlybW16gHpydIeTmqCamJOPiH5tWltmc4CFjJWPf3dsZWZlbH2RnZ2Wi31tbXeDj5GLh4SHhXtrYm99eXN5enlzbHeEi5WYjHt2dnuHhICAh5GWk4uEfnp5fXlvbWtpc3NpZGVveoOEgH13cm95h4+MkqCemJmSh4yLhX10b3KAhX95c3Bta2t0foCAgIWLhYGFhIGBf35+gYqHgYCFgXdwaW12eoOSj4eLhHBhYnB/f3JocIOOkpqcnJN9Zm+FjI57bHJ5c2VocHODmLOjWTJkjIWSf4SSkpyVmayylm1LRXeeo2lChJh0QURpf39wi56Vd2V3lZ2OZVZyeWZNbJW5toV3gIF/f36ImKiah5OShHNmW1piW15rdH2FnKqWfXmBgHZ6f32FmqCYk5OMgXlsYmJlaW10enl+f3lydH16d4GPmpiTjnloZnSKjHtvdoB7bWhyi5qRfnd9ioiElZqSg3Bwe3dwf397io6KhYWFg35tYGRkYmt6h4WDhIBzcHd3gIyPiH50b3d+foGAe3+IjJGVko+KhYuOjIWDe3d6cmxkYGt5enR5enqDh4SDh4+coJaKg3t3fXt6fYGBeXqHi3teR0RLYIinsquRgIGIiIN/e3t/fnNpd4+YkYBvbHBvcnl+hIV7dH+KkY+IiIR5bXB7g4B+iop6cnJzdHJtc4GLin1pcJKlkXt6g5KSfneEin5saGx0f3pvbHJ3gY+SmaOdgGZbW15ogZWenpiPe2JQXXuSnZycnJiKfXZ0c2VbYW2AkZOTkYNvZmZsfZKkp5V9c3J6e3d6e4OIe21wd3d7gIOBdGxyen17e3+BiJiajoR7d3p9f4qVko+Lf3RraW9tcHl+eXN7hYWBf4GHf2lmcoCMk5ycjH52cnSAiouFfXBtbGx5i5qaiHd9i4h6dISVhGtaV15of4yMkZiShX13cnJ5fn5+hI+Kfnl6e3Z2eoCEhYyPi4WAfXdvZGBsgJqrnYFza2hsc4iYnKOVgXRtZWBpeoF+dmxvg5OYmI+BcGBhdouYjntzb2hlbYOanqShkoF3dm9gXm99gHt2enqDjI6VnI6BgXRzh5qagHRsWk1HR1RvfoSBdn+gqq7FxLOuqqWSaDYkMEFLU2aLq73KvqidfVI+YZmVkYh9f3l7g4B6YUlIUmKApLa1q5p7Uz5BSVZtiqi5s7GljntrXmBrdHZ5fXp6foGEgHZze4OHi4+TmZWDeXptWVJadI6YmaCnoJqWi4B5aFdWV1tpf5Oho490Xldmdnl5f4ydpJWIh4yIf3p+e2xhZXaEiI6Tj35sZWVwhJGWoJ6Pf21wd39/dnBiW2Z2iIqEko+Kf3N3fnt2a2ZwcHODj46WnI+Ik5mYmZOLd2BeXl1sf4uLgXlvbXeBh4iVqJ1mNzpthW1lbWRohJmywaWewbKZmHl6nZWFZCkgOlJvgXNpf67Is5idk2JCTWJ5ioiImqyqk31saGBUWmRka3eAjo9/aGmFlpqhln5vcn+ZsbKnln9lU1JecIGRlo9/aVJMW3OEhIiPh3Nkcn6Ej46AfYeSk4t/d4yejHpyb3Z0aHqcp5ZwXWRtcGtwdnaAh3t/k5WIjJWPi5GKgIGEgHZpZXmMgHR5gIF9i52ajoBoU0VHZoidnIuAd3N+j56Rd2FWYnqIk4dvc4eIg4OMkYuFfXZ6f32Ai46RjHZibX15d4eooHNCMEt9vMGupZyAXlBQZXNmZXZXM1KDjJN5Mn3Bzsy8xLKzsqukikUJIUdNZJjO2rqZYCAhOlqE1uy8rJ2SkXdTMChAUmCTnI6Lg6WvmoFoV1tod4uWhXl6dGxzgHl9kouPim9oe5KRfnNsZHB/bX2zr4dwaGJdS0hbaHB7jKGxrquhnKCVhH9yc4R+fYqEfXBic4iOfYCPhIODdmtpbHB6d3J3bGBlbXZ0hJ2eo6SjrKGShXJmb3Nta2lrbG9vaWx7e357e4iPjoiKhYePiouHhJOZlZiLenBmXVpeZnJ5foiHkZiMiId+e4eDdnp9eX1/d4GSlpiYindsYWFpd4SMk46EdGlzdHd5b296hYuOj35eUlpofZWcjndlcpa1r7XAt7Glj3ZZRDc3QVBlg5aWqrajgWFhYnN6aZKTWm9WOVpabZ2rmIuFZExJT3bL/tOlhIfF0a+ojkUEJExPbKve3bWjkU0XHklmrvfOpZJAAC1aiOPntaWVXgkSSUxlnOPeqIQpAUFXfc7nyquYYSAsWpK+tZVsRD1PaZKunHddUlNppOHduaqZbD0sL0hdeq7Hw7arlWI0KzdUc46Zk52lln1rdJWZjpGFg3dEKUVpd35wcH+EjqfAyMi2p5NtPiEvS1p7utzTt6F/VklPV3KVqK+ehXtvZFlWbYWEgICAgHpybWBSU155kZqcnI95Xldhc5m8ysGsj3BkZnBza2Jvemtib4qLiLN+VLq5NBZycE2Z3dKjnKOhsqRkKTdod4CIi3pigZOHgHpZQmyYmZqxsYttZVdLYH9/hZF+cnl9eYSlj01ej6S3vqiPj3NJO0BTcpilpZyFcFpEUnuPeU9MUEhUbJHH4NbDtbKomZJ9WkxTWlZJSWaPsry2vLePXUJHW3CPsbGafmJeeZ6kf0wyNld3hZidf2FgYGuAjJOsxL6vnpWSgGhdWmJ0e317iJF+aGRiYXeasayemI+Aa1thYWZ/lqGVf3NrbHd9enqAgIeSi4F3e3plXXKYq5x7aWlvcnKAjouBg4N9cmRog5WWjoeZpItycnd+joFyjJJ2ZGBle35teZadknZdXmRzfWt5fUVHd397kp2EeoR7d4eaoai5q5qhnZKYnY97dHl2e4BvbX92aHd/dG19koViR1lzcnl3g46PjoiDbFtba4eaoJN0VE1TVmKEo6enpIp2b11STVqBlpGRk5aPh3+Ek5KYnJKAcG1pZneDh4OBhIuYjoOEh5Kdkn5vZGVth6OejIGFe2JhcoOLh3ddVGuDio+LiJGHc2VaTE9iaWtzemFNmoczU5Kos8GDWmx0nqpURcr1iiwve8/KWXbz1rKdRww0e9P1nFpdjLFzEx5NW4/T2bmcQglPd3qlupNzcHKDdHuah4qyrIFiWTpBfarIw7WRRBktSWKSzOC+kkkHKVBmp+XZki0MTERUc4fH7tGnjmgwTaW90cylg0lHTEh6sbegnIp2ZVRUW3KOgXJsWltdXnSo0cu8pIFdSEhkf35/fX+FZk9PZpahmo5lYXB9kYN7hZmsk3dpU0xvmrG8t5iAa0hAU3+lsaeOa1pkbW1sa210doSdloR+lbKVh52gjH93W1NiZWZ0dmtrd4qEc3+cnoBsdJGdk46Pi3pkUlleYIqurqGai3d+emFle4CFjmxMXYSkj3qMo6yIV2SYi1ZQaYqRhHltcHZ0e46ktayMXkVkhZKFc4B/bG97jpydlZKMe3t2c31vbGxlYFRkc3R7odLEmWVeZlJBcoVoT01ifVRNleT/yrq5srOdXgwgUFNtrOzjt6qSTx4hSGWFo7fgy6ekbxYPTF6e8OCxpYQvATlXe9rstY47BDRdgZrB4bJ6S0VXTEdoudecbVpSZqDIxKt3Yn2Oh32DoIxFN0g7UoXBtl0wR2mdvr6+vKN0OiA2U2J/mJ2rw8Ogb0VATVppgKzV1beheTAdOld9rMfPuYdLJC9JXn2v0cyugE0wO1Nsnc7awJpyUEtXc5y+toVlU0VZbX6cqLGrfVZLQktpj6Soq5NvXWJwgIeRmY6AeXZyf5F+bXZ/gZanqLyzgVldaEJCfsCRXmtAIUJQV2ZzsufcxLWysaqRUx0gO01TZqf13rKsk1kQG0lWftP1wKN9PjNJb5bA0rV9MA40W3+91sOqcyghXZm6s4VSJydLV2mcy9PHs7KypZV2STtJVHKjvr6qelZSU1ppdn5yXmBtfpKhpaWji2tiaXOInZaShHd9Zk9TWml5c21pXmWKqrWxpJKKiH5vXldziIN3b3SFk4qBgHuOpKSYjJmTpahXITJFS1tlfqejgX2VucDAuaCARyArRFRpmcDFvbGkgWt9el5XYGRmW1Bac4igvLeknYddRVRzi6CoqqCRhXlvWk9ZYm1yc29wiKOuubGYhXRlXlZSYm9tg6OssbajhHRgSEliZFRohIejurW3p4hkOiw9Ul5mcpa6wLyuoZF6cnSAq76gjnlTU1pXdJyrnX1bT1NSYIWrt6yTfmZXZXp+f316d2VTUl56k5qcp6SLaVpth4yLk4RsbHR7gXd6hJGhoaShk35kUkhLVmuEnKqgmJyRdmhdU2FzeYehsaqekoqEdnSFjIBsW2FsYFdtipaKd3R7g4V7aWJyeXaZr6uagG1hWlplcIWhr6eSk5WHb1thfZOIdnNsYGFwgYuPiICKk6Ckim9kZFtTWm2Rp6GLe4CMjJKdlYx5XllaYGVlb3d+gH2Ak66yo5GBcmhvc3B5g4+Yinp2dHeBgHpyZmtkVl5yhZagnpWLfWVhbH+apZycloh6Yl5pcH2PmYRsaXSHlZaWkoh9cmFTTFRmdoSaqJ6YloyRmp6jmpaFYD4sTIuReWVETF1lXkhThLKgYFCl8OS+trOyrJVgMCUyS09UZZXX3a5yU31wLz1kdoy93cysnaORbU87Qk9dbHOItbKBa2JohKi6tZ6AenRSMDpigYt3fZajmo+ktqSShW9XQUhmf4eYtrGgj2I6NjlBUFl6oJqTpb21mZGOe29mXWh3eoihpJF7fYuEeXB0jpqTi3RmcoSWln9ocH5rR0JaZXKEjIyOkpacjnd+lYFZS159g1s+TYHFxINeYWJvmMW8o6Gajn5iTD5CWmxzdnl6i6u5s6qVmaicmpFwVFlbUl5oZGaDoZ6TkYx7aWZkbH97a2FmeoqVkYiPp6N/ZVlibXeEkae1p52lmn5gS01dbYSSf2FabHBreoqhub6uiGleWWSEnJ6ZmpiAYE1TaXl3dG1pbH2KjJWeqKR9T0xih56Yh3+Df3+BhJ2vnYF6fWE7Nkltk6GcmZiWmYh7gZideVpheoR9gaCokYBzV0hidneMmH5bW3uBd4Sgo4pzaFtbc4qVnaSrqpJzW1dXYmtmb4GLjpOVkZqelZKOgHNpbG1yfYCOnJF3aGhsd4B9enlycnp+gIOBd3BycnuImZqRjoh7b3OBipmZj4d3aWt0eYGEdGZscGhpeoiWoaOdjnJdZHqBh5iglod6YktHWm9yc3t+gYSFh5Kour2qi3RmXUtCSVt+ma+9s6SWgGVWYXaElZyRgXJka32BiJF+a21saGJba3+EhIuPkpGBfYWOk49+eWJabGtpbHuMk5mYj4p+b3KDlpKBenmAhYiPi3lwcHJ0dnZ5jJWDcGVvenJ0h4Nvf5aWlo+aoYpybW1dTEdhmaN+lq+PjnpFOz1Zi6e2uquonntdV2Bvf4F/endweoWBiIWBiJKId3JlWl1ve4WhrKCIe3R3emhibG1oYmt+maWckY6MfWhkYWV9lZ2Wkop9d3qBiJKWhWVQS1RsdoestaidiGVSVmF6jJGMh393fZ2Ta2t6h4iHkqCqo4twYlpTWWt/kpJ+cn59a2Zwe4OHh4iSoaiciHdoYV5hbHJ2fYuVj5OVjIBvXVllc4STnJWFg3tpXmJyhJ6vqpyDbFtUZHuLi4WIhIR7cH+Kjot3a3J/gH56d4CIe3uIjISBi4p/YVJocG13jpyLe4N3a3l7f5WReXmAd2hoeXuFlpKZk3NldnOEknaErK+vqI5/c219i4hyZG16enuIhYB/c3BzfpKamH5gVFBSYXR+f3doZGhkaHSAj5qdmZaLe4OTlYqFe2Zyiop5cm10i5WVlpKMiIB+eXJzbWZ0gYeOj4R3cHuAeouViouKfoGEfnRscnNtcHd/fnl9h4yWmIyDfXNrZGZzfoWOkZGTjIB/e3Z0d3t9gYeKhH+DfWlhaGxteYucnY6BfndwcnBmZnR5b2x6i5yaioSBgIN9eXlycHqKmJycnZWEe3dzdn2Ij46LjpWRe2heW2JpYVtdYWx5jJ2ckYV+foeHeXd+fYOHfnR7fXR9iIqKi5GYk4iDf3t9gIODeWRmen57end0f4WBfXp5eXRyeX16g5GWmJOKh4B2e4OBdnNyaXN+g4yLgIeciGSImXJtYGFvbWh2hZWlnot2ZFticnd/k6qljHZtenJwjJaVoZF5e4GDbGJ0dnqFioWFfnltXWRweWxphY+OkYh+foWDg4+Pj4V0bWxoa3N7h5GRi4eDfXl+iJGVkod+dnR6e3t7fYB+a15rfouFenl7enJyeoeMgHZ6f31/iI+PjIeBc2lwe4CKj4uFe3BwcnN+i5aYk4yBdHB5gYqWmId5ZlZTWmiDlpqcmI6AdG1ra3aBh4N+dHJ5enRydH2IkZiYioB7c3J3e4eHeXl7c21yeXmAjpKOiIWDeneDjI6DbF5kbXqMkYuFiI+If357d3Z7j5J2fZFyYX1rdIdkV1Jsh4+epKWvqJaZno90Yl5lcGtrYVlldIF/h46Ijo+PkpiempWLfnlvaWVgXVdZZnqFg4OFhIuVj393eXt6c292hIySmo93ZmJvf4iPj4yPjntsaHCAi5OYk4p9cmtrdIB/eXR5dm1vdnmOnJOVjoqIeXR/gX9/e3p6dHR/gHp7foSLj46LhX+Bi4d+c2lkXVdhd4uZnpOEdGZmZWyKjG1tiI6MkYuSoZyRg3BiYmZyhYuLhXZoYmx9iI6Tk4V9h4t9ZldkeoiLkquxk3qDkX1iYGZzenR6e3+Mj4uMdmF9d22Ih4iEYEhCS2J7mrnFvq+hjoSAeXN0cnJ0eXt0d317eXp3c3t+a2l7hJKYh3p3fn10b29yeYSRlpWYk4qHg4B+c2xreop9bHeAfoGFhYF+fm9ldnZ2ioqMnJmWj3tmYWlyc3uBgIORnZiKgIWRf2FQWWRwg4iLi4iKhYGEiIF3dn2FgGlZYHeIlaGnsrGZi3ZWUk1ATWuDk6ClnIxvU1NecoqdoJiTh2xaaIunr6eHb3BvaWt0gIuIfnd5eXR0cHOBjop/foWVnZiRgG9rYWB2k6eqmFYZJU1aaZqkkaOxoaWvoaGomYBscm1CKDdPXXulvrF+ZXd2e5KOh46WloyKindeXWBhZG1/hH53eYGBen2Ag4uMg3+EiIeBgISLiHBpb1BIZnN7jJOSmZOBlaSIe3t5gJKRin9tXlZie4qLi4+Sh4B/e3l5fYB9d3d6e3+EjIVyZmx+j4+HhIB0a2VbZXeMoJ2EcnJ9hYuVnaGTgXZpTExlZXeMjJmjmpickoSEhH9ybHdzfpiVnrKxi0QQIUlZbUlFYn62wcjSurKyqqSFOw4tSVNtocXFvZhySyAvUmWT0eDErKF+MBI7UlNXYHqjxMi9saGYmpF5emVCR1RphZiTgX9/hJiDa4Wjp6OVfV5TWWR5g46gnIVeLSdMgLeeaGZoc4GHqsXApId7cl5PWnucrKSDb36PmpyLbFdIPUVymqGci3uAhXl0fnZreXlhXmx3fYqks7WzrqiehWtaT0tQVGR6hZKVi4SEhH50a2Zla3p/jKGki35yW2R0dnd6fXuMmZGKj5iWkpOIc2VaVFtmcoCIhH99dnaImKCvq5iDcmlsc3mAf3+BfmtdYm90e4uLgISRmJ2dkYN3b2lrcnN2dnR9fXZ7jpiamYh3ZmJpd4CAfoCFipGVi3pzdnBsa2Zse4WIj5aLiIuMj4V3cnR3d3+HioqEdmVeZnKEj46Pj4BsaXB2foeMlZWPjIqIgXZpZnB5cmZsd4WVnqCckn53hJKLfnJiXmFiZGlzfpGZiHR6g4uRk6CgmYh+gHl7ZF1bTGJUXWxyen6MmqShnaSonZmSe2JaV1RaYGV0iJqkpaeoj3lrWVZebX2MoKeqpYx5b2BkiLmgaV1dU0RPYnR3pMudf312aF2ApcS3e1ZyqMCqTABJrs55k8pAPcCWNBBEcLP3xKqOU09vp6RSJ0hioeh/PWV3WnSWe3fL2ZJgNkdicHBif4haaKerd2R5d31/dIGhoIpzZHJvZHB7c4GYiHZdXaHIsZKMkqfEtox3h52PeVQ2MjtSaXuVtb7KtpZ2TT09U36hurmWdldMUGKDlpaMhH1hT11hZXaBk6OdjoN6eY+op4Via3p2e4iOfWhhZGlmb36VpKSah46Yk5iVg29sdndsb3Rrd4yTmZqMd3B3dGRUZX6Dg4WMkot9YVBgfY6MgYOAenNzgJKcnqidmZyPgHd0c2hhZml0g46Wk5F/bFtTZn2Di5aOf3Rwd3l7i46EfXBscn2DgX+DhYOAfn9+fn13foGDkY55b3d2aWFmfpGOhIyYkYN5eYCAfXp5fYWRj35tYGJ3g35wd4+Zk4x2aXl2d31+f3+LmKOglYp/a1RMU2mFoaeek397eWlscnuHhX50c3d3fYiKg4CEiIqBenZwbGxzgI6Vjn9wYGiEk4h0bXOBiHt6ipWVkYiDg4WDg4uHZFBbcoOMpaWTgHdsYml+hXJpe4iLjIeDjJGEdnqRezQtaXNpeXmar5N6bH6RoKyjnJV+bGJpbWJea4eOg3+OhF1TZYqempaalX52c2teT0hWc5y6t5x+b2trcoehqKOhnoNzg4yDdmlbWV1eZXmZqJySh3ZlXl5haWlzkZ2Ea2hpcn2KmKi8tp2Kc2Jse39+gX5wc4CHi5KovrykjHRJGhpCSE1aYV5snszTzLqysq6qnG0XCT5JUmmo5d2ypZJUFBdJW5Hs5a6lgS8ENFJdneDls5pmDBdNUnO58Nevq5VdFxpIUmWc5eSzo3dCOz1NZHmIk5mHenp7aVBde5mss7y6qohhWmZ2ip62qn9UNjJEYHmewbaaf1ZPb5GxxcWynIdvaGViXlprcmJbXmJoZWhwdISgs7Wli3Bsf4B3hJmVd2Bga3uSpKidin9+eXN9ioqLiHtkT1NofoyMe21zb21veYuTlZOSgXNtb4OVpLWxoZF9bGBeaHeOk4N6dGhkaGRdYn2RjoGEdGaFmaq5mnqFfWR2ZGuMhJZbMoiALWCPneDVoJaYkYh2bVczPWmn1atzclIoSH9wXYOosrKgf3BlV09ohJm3uaCLdFZXd46hpI97YlJPVG+KlYd3eoOWp6GWjpGLf4F9dnBscndwZGh6hIB7iqGhhWZZWmBzjpWTlYt+enpvbHl7eoWTi4WEf352eoiFf4F3a2RZV2t7jpqjr6ugjGxdYmt7ipOMgXJkZXCBk56ai39yYFZkf5GSi4iKiIiEe2tsb2xyc3ByeXB0hYeLnJ6OfnZyd4eBeoGLnqGTg355ZmFsdnt9f4SKf3J0c3B3gYiWpaCYjHRgVFZkd46ek390bWtreYSKkZyhmo+EfXp3cmxobHZ/jpiKfXRoa3eAiJKakYF+fn1wa2xveYGOlod5bWRrc3N7mKuro4x9enZraGFdZHqYnIqEhHptbXZ/f4CDf3t3cnePnI+De3tzcHBve4yVnJyIhIBwZGRzf4GDi5WYjICAhX1wbWxtcnZ2e4B+enqAi4+VlYt/b2lpaHJ7h4+Li4R3eoqPh4uOh4iDbFphc4CDfXNkWWJyeYqeqqqVhIFyWVtseYqdpKCRhYB6b2Rmc3d5hJKSjoyPlpOHemxdVldaXXCEh5GWmZqRd2Rten9/g5KYkoNzcl5LVGaDpLO3r56Th3ZmZnBwb3eDh3tyeX5+d2hhZGlsbHuPnaSch36IkpOKdHOEiIeMhWBmmnpbTTBad2lygH+Wtr3BwbOsq559OxQsR09gi9HgvKF+TCwtV4Ons6WRdk86UG+awLKcmaCYclNLTVtvg4t/hJyWjIVydHtraXaDj5WRd1tUXmR+oKixp496cnp/hI6alYBvb4B6ZWBra11pd5OzvLGWfWFQT1RlepOnloeEcmFlZnOMmaWciIx+bGtpaXCHj4yWkX9tYGl0e4qTlpOWlX5mW09WbX6TnIuMpa+cf2xeXnJ5doCIhH5ybXR7hIuPkot9dHN3e3l5dnJ3foeVkX96enl2dHB2fn+IkpmdmpiPe2ZgaXR9hXtwdHp/f35+f4OKjo+KhIF5aWRiYWRrcn2KmqessaudjHtsXVRgcnl9fnd9eXaEioeDf4N+c290gZmoo5qRjIhzT0tgb3lhS1tyf3JviJixwbmuqJ6Pg3dzg4VlSUxdZnN+f5KenJZ3Xlpkf3poaH2owMO5oX9SRFJXXWyDkYh9aWBwhYiOin+EiIR2d4WVnpmalX9sYWJoa3J2eYOSnaCVf3RwaGBeZXSMoaCcloV/gISBenRpcICAenRweYqMi5Gao5yMhH97dGhZTFNtg4WBe3uBhH1yaW17h5WcoKWgj3dbV2hze4F/dmlkYml2gIqPjod+cGx5jqSvqJJ6b3d7eoCLmZOAdHJ2eXt3cnqBh4uVpaCAYjYdQVRghZKHjqCsuryzrKOPdFI0M0VefaC+waiTintmV01JUmuPqq6gh15ejpphKU9dQVZgaZPA19G5srGsqpl9QRIwTE1WZKPr1bKsnHcyHURrb0yA4N6gYUBbd3KHssq3h0clQnaavcSjd0QtO1ZgW3SamnZJc8vdp36euaqLiKWkjGlTUluFmVcaTbHvsUsnTIV/W2+nvaWDjqF+SERddod6g5KepZyPfX+Db01IXWt9eXaSrLGaeWZoe4SEh4iFc2BaYGx3kqyumoyDdHRsVGaPjHd6hYiHiIyRmY9/f357enRwbWVhV1lpepGjqKqjk35va21zfntoYXJ+gH2DmJmHgIqRh4F7c290gIB/jJiLeW1zipKHemhaXWZ5i4yVpaOTb09UcpOko4Nrc3mHrLJ/U2SIi3ReZWxkcIePjpykmYRvZGZgU2Btfparsq6glZOEdG1rcn+BcF5bYGJsfoB3fYqKg4SDg39/ioeFh4uVlpGPjoSAcmZ9koRpYGJme4uAgICHkYVva3lveYyOjHZpf5GSlZV/cn5/bV5rhZWRgXd3dGZkdIGHkZmcmJWMiId3bW1tdHp/eWxpYF5pdoSYoJF+eX17en+Hj5GKg357dnJydoCBdnmBfXZ5jJiRkpWMgIOAgIRpRz5Ua3uOj3qLtrOnmIyMemJdaXBvaW1/iJOWh3JibWxiaHl7e4iDgYuZqquZhX16fX2Be2hiaX+HgIOKhYiIgIF5bWliZW13gZOdloh7en9+e319hJKPg393aGhwcGxrc3+FjJKalYRvXmyDg3+Fk5yZkoR9dGZbYHN7foB6cHeIkZOVko+KgX59fn55dnJiYGhyc3uKkp2koZZ+YlNTXmt7jJOVmJGBd3BweoODhIqBe4ODdmhmdH6Ik5iho5mAaWReYG1/j5KLgXdzcmlsd36HjpiSiHdmc2tmh6Crq5yKaVqKnmlej2xZk3OFwVshM1ZbV7KSLY7cr8HPr7OrnoNLKSw6SExQXoOvvsCzqpl6YVtkd5GaioiepJFwUlZ0d1ZUZWZ/np6eqJN/dGhaZnp2gZKMipWSgXqHiI6PcldWXWZ3h4qBgZiop6iolXZeT01la1JWbWRbbG93msTOxbqrnYVhS1BicH+Efnt9cmVob36Hi5KLk52WiIWIh4SAf39yW1pmbXOAjJOZmZOKgHZmYWZlYmRoc4GMmKGWgHd/gHd5h5ienpJ/cmxygZKVkYdvV2R2cG2AkpaRg3Z6gYOEh4qMioN3XUhWbXaOnpqOd1pUbYyloIuFi4dza3ucoIpsRDpSYWuRqKSekn+DkYyAgH53cmxtdIWgqqigkod5b210fXZrYmZ7i4yDeXN0b2ZscnJzdnZ5gYeHjIuDhIeBeXmAg357en2FiIySi3ltdHRyeYGFgICIh4eHjIyBdG1scoOOjHptc3Noa36FjJ2jpKOZhHZwa2t2enZ0c3B2eXqHj4iFjo+OjouIh4N5a1tTV2Rze4CHk52Zkop7b2Zma3J3eX+LjoyFenqEj4yFgX1/fWxyhZWVindoZmhtf4+YmJGLhX55bGBpc3qHioeKg3p6hIh7aWJsdnR6enSFmaGnmop+hY92ZXKAfXBzfn9zg4+ShXmHf3Nwcnd9jpF7XkyFoIeKdHJ5e4CHjH9teoVwcIGKj4t/ipySkox3f4BNO1BdbWt2qszBmFIyYqXIt5KAmKiHYVBJT2F3h31mb4eOhI+Pc4CEi556WmV7ioiAio+Kh39mUE9ag56anJWWloyHg4WEbVNQVlBLW3mZp5yKlba8q5Z+dHNoYWFZW3KDgHd6iKCvoJGIemlrcnJoZHJ5fYOFi4qEi5KRg3d6gYiDdnJydnt7c212fouRioyOin5tbHN2dH2FhIB+en6AfX1/ipGSkYF5dnJrYF1pe4eHh5ako5V+bHN7e29mcIGHh4eAdG9+i5aVhISHhIF7d2Vvmox5UzZznJKMgYuPioiAhIBwbWVldoCMlZWRgXNscnt9eXp+hIeFhYB2dH6Ki4qIgYGBd3Jzc3d/g356eXR2e39/h5WSh3+EhXpzcnZ6dn2Mlo6Dg4F9dHJ2eXdzd3p5e3+Di5KPf3Nvb3B3gYWKk5mTg3dycHN2fYqTmZKAc2xrbHmEhX12enZ0gIqVnIt9fn52c3mBfnd+fnuBhYODgXJmb3Rzd3d9i4uIi4uIiouFen2Eh4qDdHR6dm9vfoiIfXl/eXJtcH5/e36IkpKHgISIiHtrZm1ydH6LmJmMg4WMjoV/fnl3d3RpYGt2enuBkpKOjIR/fW9odHByj5aKk5p/b3+Ikpp6QShEa3Ztc4B/cnSTp7fDvLauqp6Db2ZbSztAUGByiKi2rKGHb2Ria3KHk5GalnZUTVRmeoWWo5yHfn+AgYiOhXJlZWhma4Gaq7OupYxmTEBEUGB2jpiBd4yOf3p5foiVnZKEh5GOhH9wYmBbXW2AjJGTo6uci4WFh4eEgH10aGFkbHN6h4yHe2JUXWyEmZ2cnJWIfXl5d3Ryb3Bvcnd2gI+Pi46LgX12d4SDent3dHZ5f3lrcouZe2h9hX12dnN7lZyRjH1th6CosrKeTyuvpBMdS2CSYpXkQQ5ws+TWvLGrrqiVdE0ZJEVHTE1UbJKv09a1q6SafjorVnJtdqG5rJmanYhHIkyIf09Qa3l+i6eompOHkY5eMDlUc5mFQmW+sZWMhJKlqnlZc15SVnaYf3mHhJaFgZ2nubW1t6ihkntaOTA7SGlsUGR7fYGDdoOZh3KAlYWBnIN2oKOepYR+lpKPhW90gHZrd4SFdF4yN2VgU2hzgJmZd1ZHS4i6rKWVgLPBnrW9rqigjk8iJTtWbbzuw6SKPgwwWYXT17KKSC9Ha5KeekIwRV6P0cGPelpklsDPuphwU0Jak6+unoBzenBbTFeIqrGqj3leT1BSZoOHenuDYVNrdoeLe39/bHSEjI+KiH15h5Kar7y1noBpW1laYG12eXdzdIOcqpmFd3Z2a3B6fn9+fm9bZHdzfpaenZ2amZ6gkYV9c21pdoWSloqEiIyMeVtZZGRkUEVhbGR3kp6amJKDgXtlaYecmZiZk4NsXmZ5g46TmI96bXJ7fnl3en19dmxreX+Dj5OLgXl0e4eIioiEgISKg4GFdmZtcnJ0dnmFkpKVlouFg3t6ZldheYF+gYqOhHl7gISFf29icnZmZXOKmJKRkoyDf4CAh4Fwc3t2fYeRloiAfX55b3aBgXNtf4WHioqFiIyDeWtga3d+g3doaXJ3eoORoKCVj4yAb2x7hX1rdI6EcHqOk4R6dnmBeW1yen1wYGh9k5aSnKOgmpmSgGZUTERLXXqesaqglYBgUmWAkpyZnZ12SUVmc3SEgX+DeWxscH+TmJKTlpmZjoBwbHqHkpWRiH5pZGhreX1/hYqMhXdtZmRmcnp6iId2b2ttaGmHmJmaiIucj2VagIx/i52kmoN/h4VtW1lSZJmxmnZTVGFdYYSrr6CMgX1ydISKiouHiIWAfnltZmx2e3uLoJZ6aWJpe32Bj4yAc21ye46akoOEh315dnZ2cHuEf3ByeXR/i36EiHZ9i5GSjIGEiH95e313ZFZhc4SSnIx3c3J5g46amZKLemxmZWh3ipOYjH5taHuBhIqAe3ZmaGtwhJWVioB6dnl7e4CKi4GHk5KFfnBscnuMkYqDf4CKeltdaWtydnmBo7GOdneDi4N9d3Z3d36De3Z3d29veYSSlpKOjJOHd36BkpaKeWhiWV1ve4yZmZOKfmZZV2Fzen6FlZKEgICIlpaPjIR7c2tkZW10h5OMiIiDdmxwf5OYj46IfnRsbXuKi4F2bG9ydHZybW9+i5GSk5OOhYN5aGFXXm1wfZicmJido5qLg4F7c2xmbHd5bHaPj4F3c3R6eX2Okn93foB/hIWHi4N7dnB+ipGMcmRpcHaElZmShYiRjIBzaGRsc3p3c3Z5foOHgHRzf46Ph4OEfnR0dG9yfYSOjIWMh4GFioN5d3Nsd4WKiIeHg39/f397b2x0dnl+f4B/gIOHh393en55dnuAhIOEhH9+g4yMhYN7cHB6h4V9fn93bWtwe4iOhYCBhIeKjIh/fX17dmxpc3t/gH+AgX+AiI+Mh393dnZ2eXl6iJWVi4SBhYSAf3ZrbG1rcHqAjpKLiIB3end6f357d3l+enRyb3qPmZyZmYx6c3J/hYByb3Rvdp2nh4N9dnNraWyAgHaHk4N7dHR7eX+FgH2LjH+Ah4qAb2VmdH1yc4OMkYuDg390e4qIhIR/fX16ent2eYeYmpWKfXp9dmlse4B7dHR3foeKhYF+dm9yfXtvd4iKh4eDf3lyc3Zze4eKh4uRj4h6dH+De32EipKLhYqIhHNraGhzc3R2eoSMiIB+fX12c3+Hg316c3J3f4SIiISEfn+MkoyRkYF3d3BvdHJyeoSEh4qBfn13e352c3p9gYh/b2xzen2DiIeLi4B7f4SHiISAe36Dh4uHhIeEeW9zcmtmcoODgH+HioGLk39rbHl5b3Z/fndwdHJrXllpd4GTuczDt66uoZKHaEw2LEFWbJivs7KqmXJNQUJMYYy8vq6hnZJ3d2xkbWBJRGiOhXJWV4CdpKOrqo52YFpzjqeoj3tycnmEmJ2Rf2hXTFaIo5aVinRtXVBhfYOWt7OWfmlhZm9wcHJtbXSFg2xrfZWdlpOeo4hyYE9ISHmenox5jKy8s49lNys+U2ycupF/jp29wLmvo6ioj1kUFz5LVnnI7rylmGIgE0FTa7XsyqSTUxklSFqExNzBpY5bJyRAUlt3o8rMs5VvV0lAUm2EpLqrk35tb3uEjpWHeXZzcnN7g4WRk5KWh4yTiIeHjKqvo5qAbV5FO0dSa3CAg2x5g46Mf36Be3l5b3NyYmFzh4WHiH99e3uMnZmWloh3YlBac4OTnZ6Wh3NvcGx7j5aYk46OgW9scoenpYplR0BHVmZ6oI6MtaGOeml2g5adk5qWf3p5aFptnaCAZissb2ZFZpi2y9O6rKqTXSQiQlZoo+vcqpVaJylIaZLHz72oi3tpaG1oZlpWcoFwV09JTGWIvdfPwLWxq6GKZTchNFBbgcTjx6B2NiU7XYy+0cGcbT0pO1l/rMG8roBWWnaYvL2jjGxTVGJzh4drS0RSW2V2jJ6jkoyjr6eckoNiTFuBmZWIfnBaRExviqCoknBgZnSDmbG9uqF5UkVLSVJleY+jmouRlZOOnKCLenRza36MfWhkZWRrZWhyh6CktayTf2xlXlpaaHZ7jpyhoI99cG1wgZKTmZOHcltWVGRyeouTmYhsYmZze3d9io+ZnIuDio6SkoR/dGtscH2DhYR+gH+AfWtgZX+ZpKOOdGFTWmVzg4+WmZOKh4V+cmhrfY6Si4eKhHBeZHOAlayumIFyaGReXW+DhX16e31/gHtye4WIlZWEgXlzdnqFjoyKhHt6gISFgHNyfYeHhYuKdGFkbGhocoCRnJ2Md2tpc4GOmaCekYB0bGJaYXeHioeHgXJhYWh2iIWBjJynnIF3hIuIi39oXmR6jouEd2hlb29vg5igp56OhXtvYWJzgI6Kf4SFfXl7f359f4WTkYR6aVpbb36Fh4iOkpGLg39/fnlvaHODg36Af3lyb3J3hI+RkYuFgICEg4OIh3tyb3p/eXp+gYF5cnl+d21ve4SEhYyKf3p3b2lvfouWnJiLfXqOlX9sZm93a2BeZnB/k6i3r5aAcGVpdHR5hYqEfXZ2cmxve4qRi4N2a295h5qko5N6ZVpebHZ9iJOTjoqKhHp7hIF6eX6Bf4CDg3dlWl1lb36PoKSeloR5eXNyeoSEe3t0bHl/eX6Ih4R+a2l6gIiTlYyBcmx3gIWKj4h5aGZscIegoJaMh3BZV15rdn+ao5mTin+Ai4N3d3NrZmReYWt+lZ2clYiBeW90d3uHhXt5fYGHkY6BenB5hYWOnZmIeW9mZnBwdH59enl/hISBf4CDhIeEg4eAeXp6dHBscHqDhYGDhIF9d4COlpGIioyMhXtvZF1XXWV0iJmYjIiDfXd3fXd6hI6VjIiRjIV0aHN6fYGFgXp/gHl5c2x5hYN3e316g4iKioiOjIF0Zmx3e3+Fi4V7en10bW12eoCWoKGRb2ZscIWjoIRlXmhod3dtd4eLkqq3t7avoYRaMyQ0TFp0lZN6UDlHZn+h1ePFtbGkf0EvOk93nbOxnIR9enBXS2RvbXqOlYyPlZGRkZKRiH5/g359gIuRdFZNTVZoh5qWh3ZmbIilt7qqlYdwVlllXmBvdH2Be3JvdHZ/i5GcpKOdmIx/b2hvdnZpbXNtdIeVmZaKgISOk31XZYiAfXp3jp6DU0thaWFrfYGOlpWgr7OonIppTUE9SF15mq+vqqWnnHdZU1dUVGl+jIyBfnZweYePi4WFh4N/dnN2gJGaoKCOdmtoYmhvdHl7e4OOkpialYuFfnJzf3lyeoF/dnJrZm1zeYSPkY+FcGFodoecoZ2Wh3NgU1RgZnKEmKOgnJqOgH13dHl6d3Z0dHqEhH57d3uEi5GSioCAgX50a2VreoeFh4qAe356bW99gYiPi4N+e317en1/fXd2gIuLioyBcnJ6enuEioeFgHl3dnZ7gISFgXd2fXlyf5KSh392cHeBhIuVmZWLg3p0dHNtbGtpbXZ9hI+Vj4+Si4eKgXR0dnNzb2ZpdH5/gISHio6KgX13c3R+i5KRi3tsbHR6fouWnpyLf29ibH1/c2xzen13eoeKjIyAe3Jtd4WPj4yFfm1lb3Z6jJOFhZGBZW+BbV1peXuAk5igsq6jnJ6VfmJMUGJ/hWhofXSDgGBMQEhNVmB9p9Ldyrmzsq6hgE0sKT1PU2SV097FqpNTEiVNVmaY3uq+r6iRc15QUHaIbFJPVmaTx9fBo4NSNzpJYHR2YUhFU2B0oc7azLqzsaiPXjk5R2GFp7y3nodzYFRbb3lydoudnIp6en96eX96c3R6g46MiIuPi310dHBsZF5ibHZ6d4WZnaOjmIt9aWVpa3N9e319dHR3hJqsrqiahXl3c2xoZGBgZXqFj5yamJaVjoN7d29dNitdhG09aczrmVSWxXtbubZdJR5LZnOHur2HerPauqWFQi1bpaqRuXIAO7LsvFICG1ZrckxQhbzBlop7aYuhrMSqd1p3loFrW2yPiFpHVm19eoCxtWhFi51kUk1beYqKlbPIxbKYdmR7pKeFg20kJ2mWi2lygH99c21ygJaSeXB3b3edsZ6Ib2R5gWthcoiWmqOjj4CDdl5aZmZof5OakoF5fouVinlyfn5kTVNvfXt6fZKjmIFycHNzfpOck4qBf3Zwd4GLjpKVkYqEf4CDem9wdHNtbHmHhH6AhIR2YmhvcHqBhY+VjIiEenJ2fYCIiH19g4qZnJWVjoB0ZF5laXZ/hYyTkoV3cHl0bHeAg4F6eX6AemtseoF/gIyYkX5+h4B5gY6Fen2Lj4V7dnt/eXJ6gX+Ah4V2bHZ+eW9zgYuMjpKPg3lyYVRbZnJ9i5KTnKGainRvdnR7ipOTkYV3cHdwXmF6jH90fYiPjI6VloyAgYWAe3l2cmxoa3qLk5KLg3NpYWFtdH6HioV9hJaThHRvdHNze4OIi4uFf3ZsbHeDiIN/jJqZkop/cmtkYXCDiIhrYHuKgXRvk6OIioeAgZKahXltaHqEdmRaVl5rcG1rd5GnrLO2rq6qnIp5WkA9PUxsmcXRsoVXLChHYozL1byWZDk9YpPDyJ5zbFc3R2mKmZp0S2iPpLzLs4pzXkBQen53ZlRintLInX1mYqzTgRIJXZKRV4zZ1bmoqqWlno5UUFcBMEg6UE9sj4eR09OvrqulnHIzJDA7TFRpcJPk1p5zSE05Nl15nqCPq8SzfktIbJ25ilBHSGWlwYxUSFuBp66LcIeno28tO2tpbI/FrGZ0nNXBd3eexLWVdHtvVnqVmYSKhXJPMjRFVFNddoqWsrOyvbGurqWgpaGFYjMsRE9TWXmTkYh6ZmFznaF9c3mFgGx0io+OmJOFdmRUZJaupaSliHR+c1NXa2ZlcndyeYSDh5GDeoqLgYeWnpiWkoF7d3JpXWRtaGhrc4OOlqi5rouEhX17bVtbYWSBlYV3eYSDdG9+jpOIenp2dn16eoSSkoGAiINya29zfYR/fYWLe3OHk4d7dnJmaH1/eXuDgXRyhJKMjpmPfndzb297h5WclYV5bWZlaHKAfW2BlZOSiH6EhHBdZXBmbHeDlqWqpaGhnIx6aFpUTUdTaHeDkqGhmZOMi4d2YVNUdJmYe3B3bGyDg4iZoJmSkpqkloOBb1RJVGFoaHCVjGBUWWyVqKuskVMzNFCH4/e1oIRye7G1madtMyEtTGCHvcihf46dfnB0f3BUVFBbfpycp55ycHRmZm9iT110hIWPo6unknpwaGBkdpilmpWlnYRiSE9SU2Fwd4yvs456hIuaoYx0ZGZ0d3NrZW+Ai4+VnaWnmoiHi4eDhX1pXVRQV2yBjIqAfnpwdHt7fXtwbXmDhYeRmpyRj5WOgHRvd4+ajIWFfnNgVldkdH2BfXqFkZKMlp2FWkFbhJOShX9+dHB+mZ2Hh5KRlYdmVmF5hIWRmpaMiH5rYmZtd4SZo5OIg2RCQVNskZ2OlqOHc4eSel1kfYV+eoeWkn9tbYGRmJWPjIh9bW12c3OEin90XUtZaHuHipKIe3Z/lqGhoZ6WhX+FfVs+QWWAh5KcnZiOkpOKc2x3dHBvb3d3eoiTi3tzdHNkeYiBhXtwa210bGx+lqullYFsb359fYCHj46Dd3+Sj4ySg2tpeoODem9zdnd7fndtd4OBgHt5f4SOk4d9eXqEhHZrcn6Fj5iZk4d6cG1kaHRwcHp/hIiFg355fYOBfXp5eXp5hZORjoyDd2xkZWtla4OWnZyVh4OIi4+TjoByZGRwd3Z2f352gZOKgJGekXdpcn90XmV+iIeDeWtreYyhq6qSbFtFQnedq6yenJhiNFl6hZGdaQw0V09siKrg4KeDcn213LannnY0GjNEVnK15cSIRRsrS2Wd7t6rk0sgR3OMckQ7TXa86tG2nGREaarDpG1HS2JoVGmoy8ehaFBvg29mc3uTnXlJSVdymaSZcmJWWoCLmKSSj6eZeWJlgaWypJmPiIRzXWh9gIF9ipmOdmRkaGlta1lQXnmImKirpY5va3J3fXZsaXOEhISZnJOeoZWck29WTExTWm1+en6MjoiBh5GTmJWMfV5QYHCEkZWTgHJ2cG+Hk5OcnI+EdGRpdoCWoI56aWFod4CBgHdpc4N9eoePh3pzdHZ3gY+Rj35saWt+k46HlaSgjHJgYGxzcnR5gYuDgZahlXdgYW1zbW9+k6CZiH93cn+FgHp0b2ZhZneKlpOKgXlzc3mIoKSYk4uAd3d9gHdscHR0eX2EiIR/f352doCLhXBiZXmFjJKWmpmPdmZpbHaDkYt0b32Dg4GHjop/bF5tfoGBg4CBgHNsaXKKkouTnJqKdmRgaXeFj5WVj4h7c3l5dH2Kg29kZGJrgIySmZydk3pkW2V0gJKVi4d+c3J6hZGOiIyOfm92iIx6YV5vd4CKh3ppZW9+gYCKk5iOgX9+e315en6BgXp0c36TkoWDkZF3ZWlrZnuOgXd/iIiAeYGKhICEh35saHR2cHp7gJGVmpGBenRwZWJzhYiLmpyHcHSLloh3enlkZHB3hJGVkoqDdmlpbXeFj4uFiIh9a2Jka3Z7gIWHfnp9hZmZj4V5c315a3OFj5GRhX16fXttaHaEiIN7bGloa3mHlpWKi5OSgICMe2x7fnBvc32BgYF5e4eLj4yEi4Nvb2xmdH+BfXB3hYyPjIN/hIuOiIWDgH9oWWlrbHNyd3uEj56onZWDbV5hZm19gH6DfnuMlYqBhIV/gIV+c2xpb32Ih357g4+Rj4d5cnN0cGxrcICPmqSji3RvaVpaa36PnJiSi4iFfXd2dHl5c3R5d3p5e4eRkpKOh4F+fn95dHR2eX6Eh4d+cHmFioV7dnl6d3RzcHN2cHmLmZ6ahHdzZGZ3e293io6OkpqdjoF/dGhXUF5vfYyeq6qMdHN3e3uBjouEemZbVltvjJ6Sh4qLiouRnJZ6YFtoc4OaoY5zZmJkbX6Mj4qKiH50c3l3b3B6foOTnJiYnpJ7b2Vla2Fbb4eemHJaVou9mXRaUn+SaEFMdp22mXNoYlBeoMWneXKFoayckZignZKMioucmJaYf2ZXVGmKmYxta2xaU1ddZGxvcGlrdoCMmaehinZtcH+FfXl5c3aEhW9eaXJzdnuEkpaMhH55hZGFf310cnR9h5WYjI6cnotzZGZ2gICIko+IhX13g4+Vlo+Kh4F7d3t/fndoXmx7enRzfoiAc2toZmx3foOIkZORiH90dntwZGt7f3ZtdoqampGEf3tzdoeRj4V/fnNveYWRkoyMkZKKfnZwaFthd4WPiH5/e29reYeKg3t0b3OAi5WZlot3ZWV2hIWBhYuAdHJwdH19fYOIgXdwd4iIgIOHgHRwcnmBhI+ampF9a2ZycmBebX6KmJyjsq+oo5aAWjs7S1Zkg6OxpIpyWlZofpKalYyEd2RaZYCgs7aumn5iV2JzfoGDfnJoZGh3iJaSg3p2cmZlcIGRkYqDf3t9f4WWnpmRi4p/cHN0b3R9fW1kZmt3h4uEgX96dnl/h4+Vk4N0bW95foiTkot+cG9tcoeYnpqLc2ZsbHKPloePloyLhHZmT1t/bGSMpINSRWB2e4NvV5OcZajDjIh6fZOOj5aLeXN6inZgfp2sp5mVh3dpaHZ0dIGAdGt0e2tsfoGBfXRmW1peYmZ6kqGhlYd+e35+f4R+eoB/gIeRoaGThW9aS0tieXqDkpyTi4p9gIeHio6Kf31tYGt6h5GMjpWTi4N5bGZwfYOHfnN3f4eSlpOPin1sYGBsdG9ob3t2bXJ7hJOcnJJ/foSAfXuAiIuIfnd2cGZiZnmPoJyFcnJ/gYOEiIuIh4BzcGlkd4GDg350dn57dn6HjJKLgHl9fnuDf32Di4yKh3lwd3N0f4F7gYyBcFtmgJaoqqOSg3NhWltmZF5teoGMjIOAgXpzfpKgln5scpGTmaS5xaGDSyIkQVp5z+y3oYhTMDBdkbXFsXc7MDdCVGun5deumnRaVlZ0gX15cnqRnZyLWzA3Ul1ob4WYoKOgnaSnmJ22vLKnk2UsGzBITVZvnLWvq6+og11LU2l9iJahp5mPjHtya1pbcoCEgXZlWllebYunq6GIbWJwiJ6lnZF3XVtrg5KRf2ldZGtvfpaelYh/gIWLjIeBhId7aWZwe4SIi4p3XlprfoiOhX15eXRtd4WLmqiZe3Bzc36WpJGLo3MdIUlTa3+M0uCysayloItpOyk2SV6M1922nnk9JzZSdJOzyrmZmX5aXWBohH5vdHqAd2Bhc4Shnn5yenZteY6YoaGFZU1PaH6Ef3uDlaWlloh/cGRtf395eX6PpJ53UFqDnqCTg319WjNLcGZ5qLqxmoh6c3aFg3JraICova+WfWBJQk1ofoqHfXRvfoeKmqOlpZqPgHBlW2BlYWVsgI+Oi4V7fYd9dICBfn13cnR/h5WcmZaVjoB7c2Rea3N3dHJze4uIfXlycHB0h5yenIxzbHOElZicpKWekXdiXVNJR1RpeY6kq6WPcFlUaIGgr56HdGBWWWR9mKOho5mFeWhWVmt+io+Fi5OLg3lzcm9yeouWkYN6dnuLmJWOeW1va2Vsb32Lg35/eXmDioWFioV6cm1tc3qDi4qEgX99gIyOhX9+dnJ2cm1tdH6Fj5WVlpWHdGJUWWl+kqSuo5F7Zl1eYWyAe3B0gJORgH+FfXJ9io6PjJOVg3JmYmZve4uTmZiHdnJwd35zc4uekZWjmIRtZmVZVmaDmJWIfltFSVBbdparsq+snIh9dHtoV2Rvfoicrq6ehGtXUlp5g4WKb2FocICSnqWck5OMhYOBcGZZTVt6maGYjH9yZWlyf4iIh35vZm9/iI+aoJ6Vh3RweX1+fXlrWVdgcouWmpmKgX19hIB3eoF9fXlyfX16fYGTlo6Edm9sZWJwf4GKlZyWhHl6g4d7c21tc36OmZOAent3cnJ6hI6TioB6b21zdnd9fn+AipiTjIt+cnR5d3eEj4+SjIB5ZFRXVlBZZYSakZGcqqyxsqWekn1kSUFLXW1ze3d6h5Kep52Vkn5mW2FlcISRpKeShXptZmBhZmlrc36LnJqPg356aV1bYXqWo6eno5mTj4qFf3BkW1dhc36Bg4SEhYF6ent/ipOVjn5vbXJ2fn99f4OEh4qLhX1tYGBodoGFiIiFh5GWjIF0b3J5f3+Ei46MhHZpc357e312ZmJveoeWp6+omYd3ZldSZX6MmZaPgXRwaWRkb4CIj4h5c3mInaqkloNzaF1eZW19ioyAeYiKe3p0dISRk4+Hc2ZvdHl7hY+Rh4B/en5/e3p2c3d3e399f3p5hIWEhYeIk5OEfnt7gYuRhXtwYWBhYnCAkpiPhHl3hJKOgXpybHN+gYWFf3l3fX6Ag31yc3mAjIyHh4eDe3Rwdn5/foCBeXJyb3eEiouPj4+MiIeAfXpvaGtzgYyMjI+MemFaZXB7i5KPj4yEf3tycnd0doCMkpWOf3RrYmZweoqYmY5+e4F/cGlzbWJmWlNwkarLyLOqkXdgUF5wfnBTTV2Br8q+pYppV1Reb3ZzcHOFk5ORlZiYk4qAcGlpcIOOhX52b2VhaHJ+jJGTmZWKg355eoGKintoWldgaHePpa+olnlmZWh5jJqVgG9kZGx6g4eLi4uBcnB3fYSMhXt3d3+Lk5qYkoqAclpTZHaBf3Z0dnR9i5GPj4R+h4p/enRwd3t/hIuWj3ppZWVoaW17jpGHi5mZhXlwcoecpK6kh3NdQkJdb4WYmZmOh4eDdGRbaHmBio6KfXBwaGmBk5qZiHJtend2gIOKj5GRjohzXmR5ipaSfm1kZG1ycn2PmJyYhXZvcnl5cm1vcnp/gY+cnZyakXlgVltsfo+Vj4WDhYWMkot/d3Bsc4CMh3NoZmhtcnqRoZ2WiHJib4CLi4B9foGIg21dYGJpf5Oak4F0eo+dmZKHfXp9em9sbW1pbHuLlZiRjIiFg393dn99e4uKcF1kdn5/enNpZnuPmqGssZOEkZhzUFBLYISPgHJpYnmhsr65qquMOQdlcCVWflA0aGhhg8/EwN6yt7Wrq5JTFik+TFdNTFReg6rBxarFxaukrJJCQHmFa0VtimJkyt6HOydQociHREl3g5jAnlRXgKCadEtIb3t3gX9mZH+Tlp6doK6TSyyKw3Idcn8ye7OjncC+mLm9oKylnYxiS0RQTU1QQWiLhZaSgYehqH1lYWuKkoqFf3t9g31laX6Fg3dteYppT2Fmc4V2aHN3ipmOfoOOko+IjoN5dHaBkZqopWY+WmZvd2tpjKSViI+csr2oo34vGl1sNztQUltynrrF0sOzs6ylj3NWJyFFUF6Oz9zArJltMiAwTFdvt+7Pp4pJJ0F0rtXOqnszFz1hj8PSt39JS2R0hIt6Vj06TF1vi6S6xcXAs6yjej4wRFBmiqCcmJOIioiEg316h4+Ih4+Md3J7bFtsc2htiJ6cjoqAaWBwhIV+f3RTTFdid5aknqu6q4+AfXppU0xZWll2jpKovLGqoJGKemJgeod+ipFvUmaBi5KYinJrbGtmcIeRe1pXa2lkf5WEeoGIlqWlq6+him9WTFpyiJmcnaOahXlvb3Jwdn2HhYOEhY6RiH5waFdNVFRke5yhj5qkmY+HemlgXmx0eYygoZiDZmJydGxbZIh3Yn2Bc3+hfnasfV1scl1acq7y0bWypZaDc15SSEBIZn+MqMHBr20SIo/lykIFO3SouaikqKWWi4yKdFNAVnNlXXCBhYVoZIB6mJpzZmuDjpaqmXRpip17a292gJGSiICHjop7dIylo39ZVE80O2uSmpaYind5ipiosaB9aGlTVnR9fm1rc3J0g5qonZOEW0VbeYq3w6Ock3peU1dZaGFacHRsgZOLma6znIqLemJdZGx0g5OMend7c3J+g46Rfnp+fXp7e3Ntc3uPnJiYkoeAgICBgWxkd3twhZh/b3d2bXqLhXJmcIB+d2h2kZaWhHuTwbyTa0haVExvlbO9qntTQi8+Zn6YqLGvqp6cq6yVgXRNLC9IYIGltbmumHZUQUlmd32MkpGZkXRlbW9paWl9j5GVlo6EiIuAcm1zeYSSjoR5a2ZvgZOgq6uTeWVPTVZWYXaRq7OnlXRbZXqAe3+BdGtyen+AfnuBiHpzlp5pcJmTd15tfXSEpZqKlpZ5ZXRvb3Z3dm9zgYSBjq65o4B2fnpsZGRaYXBiZYB3d5mZj5iYi4+dlYePimhPU2+Hj4SMimhWT3mPbWZpZlNdjIuFmpOPlnZytty9qp2ViGFHPjREUmKKobnHtY92XkVFUmiIrLqspJyDb21pYmtyeo6Ri4+FaVtbZG9yg4iAiIWEmqORhH55f4FzdHtoXmRdZn2Hjo+Mk52Zi4uDaF5seYGDfX2IkYOEnKqdhXt3YlZXW3J6eo+eoJiPin9yb3J3eXJ5j5V0ZXRlVGuPrKN9cGxTTGaBjqDBpHmDZFt+fYGdrJZ+bF1PYXtlaZ2akq+2srWupJZ2QSw5OklSZJG2uqF5YGt3fY+ls7WhgG9ma3BraXNzYmBgW2yPoaqsnpaZkYBwYVZSYWticI+kqJiVj35sZXJ3dnZ6e3+HjpGHgHlrcIiRioN6cmZkb3l7dHd+iJOdo6Ggkn1wbGZzhYeIi4uIgHdwa210en6DjpGKgXp0cneAg3t0d3BkZGtwdISZnZmZk4d6cG9wgZqai4eOhHBmZmlsa3d/e3+Lkox+e4CIjoyLf2xmb2lmc4WRkpWTkpKTiH9+enRwaWJhYmhtd4GIkY6DfXt6eX2Fi4yRj4d/g4ySkpGAaGRkXmt/ioqTmpWRk45/c21eUl5weYSLjoV2eX9+g4R+d3Z3eYOKi4uKioN3cnd+gYeIgHp5eXNydHd/jpaOgXZwc3Z5gISAgYeEeW10e3R3gYGDioeAfYGDf4SOjH9/i4uDfoCAfXt7dHR6dnqBenR5cnOAi4yLi4eFgXNlZnB9iI6Pj5WWh4B+eWtpd3BsbWBZdpORhH6LjIN/g5KdkouShX16dGBTYGxwe4qZnqCejIODeXJmWmh0cIWPfnByfnt3gZyqo5mPhHdsa2hrb3Bvb3l9gIF6fYN/f4yWlpaTgX1zZm12f4WYlouDfXl2b11dbXZ5gIiRj4OHgXmAhX6Di390cGVle4iKkZKPioB3dGtmc32FkY+LkZWIfoSDc21ydnt6en2AeXJ7hIuTin56c2lrcnuFjoyDe319e3+FiIuBfX12cHaIioCHjoN9e3l5dGxpb3R6hYR9gYiFhIqOjId9e4WFfoB9c3J2b2t2gIiTmZWKg3dkXWJwiJGMkYx7d35yZn+Ifnt9hJadh29re312d3qAkpmRkY9+YXCBdo+YYExZOjteeZqamp6BNnvdy7q6q52cgWFSREBSg66qk4iDe0gbNlRif5W6zr2vkoGFf3RyXURMXXCRqLKvpIxiPTJBWWWBpbmynZOOkouAipySeWtaU2VrZHaEfXZzaGl3e32HioWAgISAdmltfZGlp6uyo4+BcmViYFtsg4iRnpOKiH10dHBkYmViaH2Pmp6YiHlycnd7gYqMioB7e36Hj46Hem1lZGl0fn19fnt6gYqLjpGMf3mDioN2cHd5c3eEhHl6gH16gY6HfXt/gYeAc3Z+eXJ7g4iVloqKj4h/gYF0aG10eX2HlpJ9YUU7S11thJ2zwcS6r6icflArJ0FXer3axKN5RCs9ZpnBwZ5lOTlMb57DxaqBZmBidIyYkn1iWV10k6ekinl3eoCDhYF0YVNhf6Cvnoh9c2toYmBwgYSAh5aalZOTg3BoYmRwe3+Afnd6gYWLlp2Win96d3Bscnp5eoGAfnt2e4SKjIuHg3RlZG1+hIWEd2xrdIOTnpyZlYiAeW9rb3J6gYSKjIiHg4CDg3l3gYB0cnNwcG9obHqAhIiLjo+Tj4R+gYWBfXp7fndzdHZ3dnd/h4yOhYB/e3p/hYyLhIB7cmtven5+foCBf32Ah4uKg3pzb2tocoCMkYyFfXeAio+TkoqAen2Ae3Ryb2hpdHqAh4WLjoWDhYN/gYeKgXJkYmFmc3uAf4WMh4B7fX9+g5GWk5KMgHd2b3KAg4GDgHl7f3t5e310d35/f393c3N5gYWKjoyIgXZ0g4+Ph390aWt0fYiLgH16eoqShX52bHeEhYF/f4OKhH+Ef3NraGt3iI+OioWBe3p6d3qDg4CHf21rbHKAioWFhYSIh4WEioN0cG1wdn6MkYqEe357aWl9gXl3b3Bye46WnZqSjIqIhHtzb29saXB6hIuLhH9+d2ZsjKCgmIVyTTdWc2t+paSZp6GTmKGqkWBANDlTcI6jknJwh6CxsqOKaUhEV2yAmKGWg36Df3JsbHeKjoiEgYSDdHB5ent/gYWMjGhBVoSHd36Di56ni3l7e5KkkXRlWmB0g4uOh4iRmZqKeXBoW1teYnCLlod9e4GLgHB6kZOOjoV/eXBsdIF+dnl7e3l7g4iKgXZyeoSIjI+Kf3lzcG9we4iWoaSYhG9dVllpe4iWoKShjHpvZWBkcHqAg313f4iOkZGKhHtpZnB2fYyOgH+DgXp9h4qHhH55cm9vaGZyfY6eo56TgGxeYXOHk5KHd2lwf4WMlpWDb11ZWmZ7iJmjmY6Ed290gIqEd3l6cnOAg4yYk4h+dnR5d3R3gISDg4SIi4iAeW9sbW92f4eOkYt9cnB3f4qSin5zaG9/j56kmH5oW1ZecIeVk4t/c2lseoOEiI+RjIBybG9ycnmBh4V+en6LmZWPjoh7bWRlcIOTi3psc319foCEhIN+d3qIkpOWlYh5bWZgYGhyen+OmZOPjIqHgXtzaGJoeYePk5GKgHBsbHCAkZJ/gYd9e319f35zaW1we4iKgIGLfnqKjIiKkZaLfnp2ZUtEU2Z9kZqlrKSck4qEgHZrYFtoeYCEio+Lg4SIhXtyaGJobHJ6gIWPlpmWiHp0dnR5gISDgHZvdoCFh4+Ph353e4CBgX1ya2xyeX+HkpKMiIWEiIiIhHdoXltga4CYnJiakn5rZGFodn6Hk5mRjIV0aGVocn6LmJaVlYh+eW9pbHJva3J7gY6YkYqEdG10gYyPj4iAe3BsbHB2e4iSko6KgXl3ent9gX15fn17gIGEh4d/dm9pcHt9e39+eXl9h4qBf3+DhY6Wk5GKf3l2d3l3d3Zzc3Nzd3l5gYuOkot9cGxvcG9zfoySjouIgH6AgH5/gHp5f31+h4uPjIF5c21oZmhrdo+jpZ6TiIN6bXB5coelinBsW1NWYHKFmaSqq5yEd2tbW2RpeoiRlpaWkn5sbXBze4qPiIeFgHp0cGtrdoiWmI9/d3d0doCRlYuHhXliXmBld4ujt7GZgV43ND1MVlJXXm2Ktd3cwba1sq+ok1AEJExMXXfE9cisqIxSECBMUmGP0erHq6eMUhYkSVZtodXZuqOBRSQsQlRhi7zHvq6WdFJESFZtkbO6squglX5ZPj5LWXCTrLq1nH9hS0JLYoGjucHAt6ucf1lAO0JTZXR7gJGgo5mAaWFlc4SIiJKYlZGIem9tc3d5dHZ7gYqEe3JoZXB6g5OgoJqWjn1hTVNbYHaTnqOeiHNtbWhvgI6SlZiViH1+gXt2dnZva21pbXmDkpiSioGEi39WWX6Vh3SYoa+la0tPMEKEd3q6tafMsoVzRCI3YJLBuqeBU1lZYpWrnJV9YFtgcIOanYh6eW9oe5OopYhoVllmfZKhnY99a293iKGkmohrUk9bZWx9fmthaXZ0e4WFnMHOwbWuqJxzMxkyS1RpqOTWs6OBOhIyT1uDwMylgFQzRGme2d3ArqODTCwvRFdogYB0gZWntrKaf2BIRVBohaWzsauhlYh5aWt2fYOAc2xlU0dbhKjAuphwU0lZe6O+vKeIcGZsc32PlYdsVldmc3t7enl7iJKdp5yKeWhZT1dwipKVnZaIgXdvbW15fXd6iJGLh4iEfnp7f3dtbXuRnJqPf2tZVmV5jJ2koI96aWFkbHeEhX59foB/e4CLlpiTiH16enZvbHJ5eXp/iI6FenR0d32AgH9/fX2Hioydmo53YFpbbYiVkoqBe3d2eoF+c3eFjJGPj4yAdGhiZWtvd4SMin1vaWZyh5mgmYh7d3l/h46SmJmOg4F5bGttaGFgYGV2hZmopZqHc2RdWmJ0hJGTin1vbHKKr7aspY90ZFlSVmFrfY6Wk4RzbH+Rk46LkpOMhHZrbHZ6d4COiHdoYWVseoqTlY+DcnB0cHeAgYB+e3qEkpyhnIR0aVthbHqSnpmLe2lgZmlwf4WKj5GVlY6BdnJye4eOkoNtYVtecn19hIN+fXt6gZOhqqughWtdVFJZYneMk5qTg3+AfnB0f4ugmYd/foGFhYd/fX9yaGt5h4p5ZmRlXmZyf4ePmZaIgY6LhIiLgXZvaGJrd36HjpaYj46IdGRkb4GTnJp/aGthXXBtZXB+gIuOiKCsoZWdqIxrPUCSf3nIljQXYHIvSFRXgNL/yK+3srKxqJZpU1MtLUFCT1BXYpHLoajWrq6slWFPkZNpYHNthLmhd4+1gys6hXQvOXt7aKvSk3+giGZiWVdpc1pPg52HmqqPhIh3UjtEbIWSgXrFx5NgNk9kcIWdzNrAta+qnoxybHJ2c15TUlRod3uMfV1/mLXDqpmRoHlTcz4tb0R0midAk3JTe4qrsq6nhH+AZltoZnR3cIekr72yi5GlnYh/bW+DgHBTRVqFobG2oJF6W2aHhHNwaFJQSEFwlZKcmHJ2c2V7aWuAgIOBmqukj4OWmYV2cmVzlYN5ioqShF1PaHp3fYOOkn9pYGF5kp2lpZyIeoODcHSDioqMh39+f4B+f355c2loWlJmd3RiXnOFi5Wak5GcmYR2cnp/e3aIoaGZjoqRk5OFdGVXYHBsVEdWb4qhr66ggWFZcpmgjH9yWkhTbXeBjH1ygIiLmqGgmIhwXWVygZGjsayhjnNmaG+AjI6HgH9yV0dNXmhzhJickYyDdm9td32AiI6KgXpybHaHmaWnq52EenZ/hXRmbI+aaTslQGue2cuRUi9LdpOTbF12hZGAYGuTrKCRkZyyubOqlYOAgIN0TS8yUm+Bin1mZXmBjp2Pj5mYlpKAbFtWUlNhb36Hio+Sj4iEgYWLfWJTWmt/ipKdkoF5e359fnt/iJKcmpKFe3NpYV1kdoOPk46IgX5/eXB2iJyYfmxye4ORnJqTj4h9d3+Hh31rZXCDkYdyXU9PVFRihKOzsaOTgHBpW09ac4GBhYuFfoSIgIB/dnqFkZGVkoiFiIyMi390cGJaXWV3kqWuqItyZltQXXeDk6CYkYV9emxhaXZ/f36EhH2IjoWKkpOPjIh9bGJrd3N3hZGZmIp2cGxgXWBrhZynqJmAbGhpdIWIgHtrXWVyfpWqqJ2TfmxraGx5fnlzc3d7fXl3en+HlaSgkop+gYd3bXaAiId3ZGRrbXl9g4+SkYB3enJwgICEioV9d3Zra3p/hJKYlYd7cGZzf4GOko+Oi4F9gIOLj39oXlZXaHKBnrOllYVmVmR0f4iOhXt2dH2Ff3uIh4CEioWHgXJlZnN5hIiEi4yKgH17fYGEgXl0eoGAc2xpbHJ9jJOTk5WOg3diYnBoZG10fnttgaGxrKSno4x+e3pzZWVoaWRQWXaAhIqToaieiISIgHtvYVpgcn56dnuFk5yaloh0ZmhwdICPjoN9fXdwd4GIkZKSlY6AdmxpZl5hcIycnaGRe317dn59foqBeoB+eXZsV1dXfYR9iFNLZFtomrK3xcGqmqCyrph3PSIzR1p7r8fDuZ53Pic6S2J6lrK9vKWPfmZaZW19lZmFdGxocH2SmIttTExge4eMindtZVticH6WvMe6rpl/aVtUWn2VmqOYi4qLhXZpV0tXa3R6hIeLnaWYhXp0eoGDgHt6eXNyaWZwc3+Rk5aemIp7c3NzcnqFf3p7foF+dnR0cHB9h4uSmZKFgYN/eWxmb3p6fX55f4V6c3uAf4GFhIWLiHt2gY6IenBsaG99hYuPlZWTk46Eem1iZXJ3b29yfYuEf4eOlZaRi4WFhX52cGlgW2Z0f4yYmpaMio+Lf3Rrb39+cmt2g4SDioNyaWZrd36Aio+DenNzfoWBg4+VlY6HgHZzdn+HhH9/enRybHKBkZOPiIR+c3N7hI+HenNraW93e4iSioB0aGhwd32KjpOenox7cGx2enl0cHd/gX59gYqRkY+Oh3dlXWVrdISPlZaSioSAgYeEgIGDgXdwdnNtc3d5eXaDk4+De2tia32SnJaRiIB+fnRwc15MWnqEgYyVk6Grqq6kjHRWSVlmcn59b21vaGt3foeOjIuIi46Lk4tkT2J2hJmhoZN2c35vVmWMnpyPfX+Mlph2aXdtaW9zeX2FgXZ/h3pvcICLj5OOhYSEd3JzbXOEj5OTeoGIj5x6YlZIW29ib3qBeWFtcHePkpKSmqOuuaqYjIB0ZFRTXVtbbIektrOlmYVtWk1QYW99maqhk4+Pjoh9bGZiVlZhcoWWloV6c3SHk5WYjH1oa32AgXNtdnuAioN7eW1tdn6Fg3ptaGx2kqyxqJ6RfXBpaG1yd35+fn6EhYGIjpORiIBzdHp+fWxmd46Ld2xrfZmcjJOMfXZmYnNrYYCWlp6VemtmZnN6eYOIg3+Di4eAf3t2d3t/gH55fYSAd3JzfYiMhX13hI6Fe2xmbHp7fYuLi5GRlZaIfnp2eXt7cm90eXp6fYGFgHl3foCEh4WRjn9/gHRvcHBze4GEhYiHenmAhIWAf4iMhHtzaWZtdnp/iIiIi46SjoFzaGZmbX2KjoqDenZ/jJiZk46Ee3RtcHB0e3d3dGx0e36HkpOIc2ttbHd9gIqSmI+OiIOEgX55bWZtcHZ/hIqTmY6AfnRrbHB7iIqHg315dnR2foePk46Ad3d7fX2Hjod+dG1raXSEi46OhX1yb3R6gISEioqFhIGDfXR6e3pzcHl/g46TjoBzen96eXd5d3B2foCDfn19d3uEiIqLiIiFgHlzcnB2en2Ag4SDh4ySk4V6eXp9hIqHf3Z0eXd6enN3h4uDfnlzdH56d36Dfnl/ipGMfnJvdnd5gYWHhX1ya3KBjJGRk5OHe3Z0d3p9enZwc3p3dH6IkpaVjoWAfXt+eW9tbW1vdH2DhYiIh393eoWPj4+OgXNpYWt9h4iEg396fYCBhH15e31+gYuLg4GAf4ODfnl5dm9oZWZyipmYjoeFg4WIgHJoYWFpeYiPlZKLi46Kh4h+c3N0e4B+e4CKiIF6eX16d3dzc3l/i46LhX97dndrbH9/gIqZnop9d3NsYmZ5e3uKkouIh4uEa4SHWl1iZmlvdnd9jpiap6SdpaiWi4RzYl1gXl1XYIGWmpGIk5OKfnN+h39sZm97gH2LnZyHb2VsfoiHiouLhXlpXl5oc32Hj5OTjIF7dm1ma3eFj5KHd3Z+gICBhYuIgH6Afnl5fYOAenZ0d3l+hYWBg4OEg4WKiIB0bGhsd31/h4qLiIF+fn9+end7jJqThHp+hHtzcHR0cG90eXJseYiOjI+PhHNpbH6OkYuDe3uFi4uHfXNzd32Ae3Zyc36EgX9+enl0cnl9gYeLkpOVkoV9eXd7f3t6end2cnB3f4GDhIOEh4eBfn1+f39+f4SBenuBf3dycHR5fX6BhIeIhYOFg39/gYSFhIB+fXl2cm9yen59f4SDhYuLioeDf396a2Rsdn6Ij4yFh4R6eXp9hIeFhYF7dG9sc3+Bf4SLioeDe3l5d3R0eX6BhYqKhYeIgXt5cG97f3NlaH2SqJ13iJiEkn5Nc3R7q6FZFzJmc4+sbE1heqG6vseolba5rqqSVx0eNE1bjuPhrpldDxtNZq/w0aiTWjQ5SGyFgGVLT3Kezs6uhVphlbWxkVQ3PldyhYuFgXuKmJGEgIGPnp2PfmZWW2l6fXSFjmxXYGuDioOLiIiOipGZjIGIko+Hf3t5ent2aGh6jJ6hk4h5a2JbYGh0gI6YlYV6cGlmZWuAmaGgnId3cnKAkpWWmpN+ZVteXV1tfYSHfnt6fYOIiH10fX57enRzeoGIkZGOjoeAdm96gISMjIeBeWt2kZOPim9ldGtic36EkpiVkZKWlYptUElTaISZoZWAbGJldIOEg4iKjI6Kh4WBeXuEiIuDdnZ3dHN2ent7c212hYyMj4qAenRvbXeDi5OTi4N7cmtpbXBzfoiRlZGLhYOFh4F6c2xtbXJ6g46SlZKLg396dHJvb29zd3l5gIyRj46OioN6cm90enp7foGHioiEh4N+fnt6eXl7gISFg3doZGhvfY6Vk5GLhH95dHJ3gIN/dnR2dHZ7gISIi4qDenZwcHeBi4+Rj4uBdGhka3qHkpWOhXdra295hZKVjn9yaGxwd4CEhYyMioR+fX9/f4GAf357ent+gIOEf319f4GBf4CAfXp3dHN2en6BhYqIg310bW90eoCHhIOEf32BiIuFfnZ3fX6BhIOBfnlzdHl9hJKShH9/gYF/e3Zzcmtwg4qOi4RzW2J2dnZ3e396i5mOjI6So7O2qIRLLTZEUF1+mpqapaORkZWMi4V9dmxmYV1haHmHh4uTi3llXWV9kZaapZZya3Z6iI6Eg31ta3J3fX50eoGHlZiSh3tzcHR0cnmBgIOIh4GBgYF3a29zgIyMi4V+c2xwb3N+h4qHgH+BhIySj5OTi4V7cG1paXd7aW96cHqYnZGHc2RhaWBgfYihtayhmpOBdGhla2Vmcm97hX+Lk5WamZGKemhkYmJpdH16c3R/i5Who5iRhHZsbHJ5ipWWjoFvW2Jtdoico5h6aGttZGt/g4B+bWJmbIOTkYh5dH5+doOVnpWVlYiVk4SAfXBeXm97f4iVnZmKc2FkcHdybGlyhZWampmPf3Bma3B3fn57c3BiV2+HmqeWe29ydH2Kkp2clZOLgHt5d3BkW2Rzg5KWkod2bWZZVGF3lauqoJWEd3R/ioqDfnZpYV1kd4qWmZOIdmlre4ySk49+bWlweYOKiIiEe3l7fn5/hIqRmZiPgXt2aFpdbHZ+i5KHe3JweYSOlZWMfWlgYWhyfoyVjoB3b2x0gYqVmpGEe3RydHd6g5KOhYeEhYB0cnR2eoeIf3+Be3R2cnaEiISAfnZvb3Bycn2KlZORk5KLf3Z2dnd6fYGEf3p2dn2EiIV/fXt5eX19f315e31+hYyIhIOBgHt3eXl3en+DgX5+gYN+e3t/gYGEhYB7d3Z+hIOAhIyKg357d3BsdHt+hIR/e3p3dHR5gYqMiIN5bW12f4qTlZKKf3dsbHR+gYWPkoyKgXBiYGl7io6LioqEfnl2dHJze39+fX+AgICAgYSHjI6HgH1+gX55d3p5c3N5gYqLin90b210e4GMk5KHf3lvbXR7gISAf313d3l5gIySkoyHhH+AgHp2c21pbXaDjpWSioB9enl0bG15gYWBg4eHg316e36Hin93c29vdoGLlpqRhH1va3J5gYqOiH1zbWttd32EioN7eXl+ipacmI+IemVhYmhze4GEj56ShHZwenuEiIuSin10cnBzfYCBhH9va29wf4uPk45/c21mYnCBjJKOh4WAdHB3hI6OjIuFf315cm1tdoCBf39/gIeMjouEfX5+eXJra29wdICLlZmViHp2e4CHjo+HcGBmb2xkYl5iks7TlU0iQWiAzOzEoHdaTEFeUEmT59VpHjREUHaBaZL/47e9r7GurJ5oMzotM09IT1dppO7lt6+ecjM3RWCxy5ZwaE1pqqF/aEVLW1dsrtXEp6Wei4NoRTA2UGig0bWnva+LUBYoYZ3q1ZWEXSksTYGcp7eZdmBtenuYj3+LiJW+s4V+fn6Scy0kPVd/mYtoTVBtpb2smY+Hi5J+eXRiZHNzYmZ5h46He4GSgWtvfoCEg21bYnmOmZ6aiH9/f3t5dGxseoqOi5GShHdyb21vaV1ha36gvbegjH97e29veWFMWXN9h6OooZWFfXdrVFBidoiYpKGWlYx9c2xob4GSlYh3b3Nza2tzeoOKiouOioWAe4OIiIqIfWthbXp2gIqLjop/cnaBhIWLjpGLgG1bYHaEhYCBhYB5dm1veYGIjIR/hIiWoJ6ainZmZGFmcGBee36Fmoh+jJKLhZmvpI+BcmAyJEtbbXpvbX59hLPTzL21rquehGBFQEBAUHmOpNbPp4tEGztBUm2dzsSkp6N0epmFj5xyU09bXml+c2Rsfm9da3mHkZqYj4V9c3qWnZyMeWVQWmVhepadp5Z0dISKi5V/WlSAqKu1uqiAVD0+V4CvvrGSWzI2UHmdpZyMb0xNZXR0f5adk5yelaOjh3lwXlBSZnl9g4iDg4ySmZqIbV1dWmSBmJ6loIxzV1lhb4eTmpF/bV5lfpiViIqDdHJzdIucjoGDemVebHt+hJaajH9za3B5dHaEioWIjIyMg21hZm17j5OIfXR6f3+EgXd5f4CEg3p+hIOIi4N2c3l7gYqMh4OEfndwc3d2endvbW10dHaAioV9dHZ+hYqMmqSjpJyHc2RWTVJgc4WPjIeMiH+DhYuIiJOcnpJ9bXZya3Jza2ZvgIR7d3d6e32Bh5GHdG9paHSFkZWTjIiAfoiHhH9wZmJkb4CSnZiLgH52bWtobISdmJmhmIuIindaRURUUkxgbXaIo7fAwLaonpaYhXJoVkE2PlBlmMXKw6+ObVZERV5vhaS2r5N6ZVdbbHeHmZ2IfXdZRU9ghay1q45iRUdggKCzuqySg29idIB5fnZkaHJ5hYV3dn2Koa+umHt7dmhlZGttdH+Ej4t+f3ttcHp9f4GKiHp5eoOOmJiEd2tZaI+gnIptVklLYXuLmqivsaWSh4N+c3mKgXRwYmRtcn2Ii4d+cmx2g4iIhHZiV1lvjqOkp6OKdHB3e393bX6DdGxseoqRk4yAfX12f4yEfn5+gIB/emxvgIqLjId3cnNyfYySg39+cHNwZW9vaXaDkpmOgX6Eg4uhp6OZiHZhT1JshZielod+dmxra2t3fXJrcn+Lj4qFg39/eXd5foiEhYN3dHR7i5aRjJGLhYuDb3B2bGVmb3l+gYGEjIyKjIh9fYN/dmZgaWtocH+Zp52Zmo9zYGt6hY6FfYWLgH9+cm90d3qEj5WSioN2ZGFiYHKHlp6Sf29iZnB9ipOYjIOKgXR6gIGOlo+Fe2xkbXZ6hJGPgHJkXWZ5gIWLg4OLko+DgHpvcHZ9hIuLhYB2doOEg4F3d4N5b36AdnR+i4uEiop/fn56en19fXdwc3l9f4eapJN7aWZoa3B3foB/f3uBk6Gglo5+b29rcoGBdm92eXl+g4iAc3+MjI+Si399f396b2RdYnCAi46Ig4WHhIiLhISKhHlybWt0fn+FhIB/en+Ig3dzb2lwgIyKhYqIh4eEgH57enNzf4eIi5KMfWxmc39+foSKgGxoaG90bGt6jpqjp52Mem1sc39/g4yDe3Zwdn+KioOBgXlvcHqEjI+Ph3Nia3Z+h4SBgHNsbXN7hYyKhH12d3p3d4WZnpmKe3R0en1+hH97f397c21vcnl+h4iMmJmTiHlzcG9taGZycmVldoOFhIeYpaSdmZGHeXmFjJihmHlWPjlEV3SasrGdgGFLT2R/ma+8tqeLaEg5Pldyip2opIx7aGJtdIWdp56Mf3Bla3uFh4N9e356e310cGtpdH+KlZycmY5+cGxzdnJ3f4ODgH1zcnl+gYqWnJJ3ZmlrbHR5gYWDhY6RhYCAe3JtdHZ7h4+Yk4B2b2hra2t2h4yZqKOenZiLd2lkYWJkcH9+dmxiZnZ/h5asnXt2cmtpa3aFj5qdmpKEgX19gISKi4RvYmRlZHKBjJackoeKi4eDd3Z+d2xvbW1tcn+Kj4h2aWlpaG95gJGho56cloiIk4+KgXZrYWBeW2V0eoSWnpmSjoiAdGxsbGFpe3lyf39yi45/joyLiIeLg3p3eXl2dHqDiI+dmX5zeXdwcn6LiHZoaWlvc3J7iI+etbqnhG99hYOKhYGEZkFBYnmKmKOxo4ptVE1Jcot/cEI6TVJbaH+u1uHMubWxpIRXOzlASVRkg6/T0rGHUDQzQWSSyt3IqH9PR2J+ma+llX5hYXqDi5aEYkhEU2V6lquojmhQVGJrgJahmpiloJiamJyPbFpkc3uEhYCAfm1pdH2Linl2e3ZpZWZzfoiHhJOakYOBdF1lfnRddpyloJKFdmJeZXaKnaWhoI92ZV1UTExgbHKSs7KTfXN7kYFweXpzdn+Dg4h+eoeHio+VnaCemIRya2BbaWloaF5kd3t9h4qHkpKKj5mVj4t6ZFtbW2h7i5aVi35zcnZ/kZmOhYuHgH19gYR6cnZ2dHp9fYGDhIqKhH2Ag3JmZWBibHR9gYqKf4GKjpOWlZGHgYGDf3qBh4uHd2llbXZvaXN+gIGBenN0d32DgXt/k5KEhYeEg357f4SEhYh7cndzdICIiIeBen2Af32Ai4+PhHZycHB7gYeMjIeDfW1dVllgbX6Di5KRkoyIiISFjIRyYmJmeoV9iqWqnJmDbWQ2KUtvqLWroYN9b3CTpbK3qJJ3a4ydZDQnN1p2kbPAs6uBV09WXmt0gJGanpydnodlTEhSWWBme5qsq6iaiHZLQGB7gIWaoKSnjG1lbHNiV2yHh3OAjoB7iJGBdICTmIyMj393enB2enJraGhgcIiWo6Oak5idoJyMemZQRExTW3SZtrysjHBZTVBee5mjmotwVFBhfpmrqpyIdGVld4WMjId+eXZwbHSFlZmThXRmZWx2fYWRlYp5cHJ9iIuSj4R5b2t6jJGMhX92ZFlicG9yg5WdoIuHqJ6DfWtobHNEJF2Vq3lkrLyRin+BhH2BdHZ+f4iBd3t9foF3d32EnJqOi5yegWhgXVpPUmx/emZkfZaknJKdmYF3aWZraHJ9g4iFjJKapJmLfmtZT1JldHuImZaFhI+WlYF2e4GDhYyYkXpoXVJNXnJ7i5mYk4x/cnN6e32DhIeMjIuHhH96d2xmbGxtdoGOkpGIdGlteYWKio6TlpWMd2xye310bGlweYGOlZaZk4h+dnl6bWRka3JycH2Mj4F+hYWAeXN7kZmTkY6Min1vbWxrb3NzeX17eX1+dG90gIuRmpyOhXtoW1peb4eZpKuspJyTiHdoYGBkaXqOmZOAbWVkYWZ2lrGljHllXmRiYm12e4CPqq+jnZJ3aGVXVGx7e4WLi6GqlYd/foGEhIOKinRbWmRtcm92f4SDjJaKf3Rze31/i52knpN+bWRaYG90bXB9e3R5ipWTj4uBeW9wd3t5gYuIj5KPk5aPioFwZFpNU2J0h5aeoaGWhHdwcG92f4OHkpWLfXZya2lpbHR9h5OVi4B+gHt5gIN9fXZtcH2AenqDh4SDgH9/fYCIi4uFfXZva3J6fX+Kj4iLi4F/g39tZnB5eXuFjoN6dnd/hIiSlYx/bGFlaGZpdo+eqKCMfnBmaIGjq7GkeVo7S1ZXg7XAp3BlZn2eq6yooX9gRTtLXl5Zb6G1i2R0oKeFXldmYldzobm6uaqKdGJMTWR7laiklYNzZl1XYXaEjpqjoY90YV5rgI+WlpOAbGx3enN7hZKVhXNwfX13dnqHjISAfXp0d4eIbGB2gX12dHZ9g4GDk5mMh4B6fYSIjJOPhX97d3p9f4OHhYByaGFbcIWBfYB9dnRsb36BhIWBeXN0eX+Fk5icloN+gIN+d3l9foCHhXp7foCMkYBzcGtlbXeBiI6OhI+OfXt5fYeBa2V5enqRnIdsZmx7kZiYmJGDem9gW2+FkY56ZF50jpOBcHSHj4F2dm1zgYOAb2lpbX+EhISHj4V3eW9zio+TmpqRg4GBiJmdk4WFk5OLjIp/e36Hi4V6cnBra3JvZGZ0fXdycHSBfWZaWWZwdHp6foeHfn17e4CAe3uAg4WRhX16aWVygIODg3+OnaGhoJF/cGVlZGl7kp6gmpGLgXZ0e4SOlpaSjIF3dnZ3e316d3+Lin5wbXRwZWVygYyMh350en99e3p2bGFia3J2foWKioBzbXR/hYeMkY+Lj5iSioqKgHBvc3BwdoGHhX57f31/hYeEfnd5d2xrc36Hh4WFioyIgHJsdoGHi4h+en2DiHlpb3mOiH2ToJGAdnCBj31raWZiaIGOiHZlZXqOqqyKknYyQFlwmarBtrGSaXaBiIp2WluBoLKlcEk+PlBvjJaKdmRtmrmqjGhdbHB9g4SOlpWFdG12en+Ig3+BkpySjINyaW1sb3R5gYCDh392cnJtbYCLh4V/gH52c3qFkZKMgHp/f3NmbX2BgYOIlpOLkZqVi4yHe3JraGhlYWBmcHR5hY6If32BhY6He4qWlZWMemlgYGVpdH2Dj5iYk5GKeWlmb3qBg3t3e4GAg4V+f4eAcnJ5cnB7hYN/fXqKjo6Rf399cHqAhIqOh3NtdHqBfoiYkpKOhIWAdGlobHBsaGt0g4yRkZKOf3p9foCKj4+Lg35zZFtaYnSBiIuLiIWFg315e36EhH15e36BhIGAg4B3b2tyfYOLj4uFgXt6fXp3e4SKi4iBfnt+g4WFhHt2dG1teoWOlpiLhX5zbWJlcnuDhYqHe3t7fn96e3t9fX2DgYCAd3R7gIF+eX6DhYuMkZKOhHdtcHd0c3d6fn5/gYF9fYWMioqLhIB/eXd2dHJtbXN3fYOIjIqHgXt6gI6ampKKfm9oa3eAenBzdHB0f4uTj46RgGlkcH6AgIWSlY+LkYp6bGVmbXRwbHqAenZ5gYWDfoGOjIN+gYSEg352c3R0dnN2gIyRjn13in50gIGSk4uZlntzgXZwaFlbWmFziJaEf52ooYNvb2ZrgZaIj6ich5mck6V3MjuLqDsSOUtznWBNpNzWyLavsqyrpZhpCQI+PkVJSF5/xffLsa+eoJmPg1onK0RHXpKglbXOq3RHXW0+KT5gi6ulytGhb0hWOSxTbY6hscC6i0ItQkRSa6Hex6+yoGw0Lzlai8HLub2uckdCV3qAjsDdy7OsoX5AJzJBYYqYkYdyaXR2g5KSnayzo4RsVEhPXWh/oaqSeWZpd4B+fXl0fYSIelpNU1BWcJKkoKCutaWOfYCLh4qKenB5eWhaXWh3gIynsqSKcmxvcHN5gIqDeoWWkoiMkpOVjHtvZmJXT1dkcH2OoayypX5eW2h0e4GPmY53cnd0cnR+gX16d3eBjo+IhYqLh393b21rWVt2jJialo+Pj4qAbGZzd3d/kZOBc3NybXqBgYF3aWx5hYd/f4qRmZaOjn99enmAgIOBe315a2loZGJmdoeSo6OWkoNvZWhte4iMjIBwZWJwf5GjqqSMbV5eYGV2i5mZinp0cnBzfoeHf3d0cHOEmZyTioB+f3lzcnaAh4h/a15oeoSEdnBzeoOKkpWYmZaMgIGHhYGAenNwa2FdYGt6gX5/kaOgjoB/i4uEhYqKe2hgXWBmc4eRkop3c4SPkY+IgXt5dmleYGlve4qRk5aenZWIeW9rbG93gYB5eXt6enp/jJ2op5WFfnNmYFlNYXZ5h4CHnJWMi4yEgH52aGZ0iJKFe46ZgW1iaW9wcnmKmJmOioB2b21ye4GLin13fX17f4WKhYB/c2Fsf4CDkZmZkX9wbXBrbG9wfpWusZ2HdmtdSEdbepOhq7GqmYd/enNtbHZ/gYB6bWZpd4GFhYGEiIeEfWZUXXaIjo+VmZ6hiGtrdHp9fXuAh31sb3l/eoCTmZOId2lwd3d+e3ZwcHd6gIWHj4N0fYWBf4B/f3Zoa3mKlZGPkpOMgHRzenl3eXt6eXZ+iIB6f399d32IjoeAgYGAc3SAfn+Dg4SEfXZ3g46HeXNydn6DhIF+dnBtb21ydHuHhH+Ah4qFgYeTloyFi4t5aWx9i46DeXZ5eXl+gICFhYF+c3J5dG9ydnd7iJGSjoB7f315f4OFioiDf4yShH10ZWFpcnZ+iJGRh4F5b2hodoCFjpWMenByd3uAiJKVjoeBdm92d3d/gYCAfnR2fXZtb3N9hYWHkZWRjouDe3t/fnp9fnt9eXRycnqIjoSDhX59gYSAeXd9gH99e3RkYXKBiIiFhYeFh4yLfW9sdICFh4+SjIeDfnNtbGttc32KiH15gIiFgYGBg3t0eoGHh3lmb3d0eXB0g4WImaWdkod9dnZ9gX96cmhre5KVj46DdnaDdmRyjJZ/bFNFS2BsWV1vi8vl0r2yr6N0IQw+UmGe7uizqIc2BDNWaLb11aeBJQlEYJzy4a+ZUg4kTWCW6Oi2pYBALEBQaXt+eWRee6OuoZyHaFlXYYGvx8q9pYNSNzZBVnSOmZyenJORmJiRjIN2dHd0eoB3b2tbTU9ee6O5t7GhgV5HR113ip2rpIp0ZVpheZOjp6STfmhWS0xbc4eWnp2RfXBsaXOAhYiKi4uMiIB+d2xmZGVwf4WKjIqKhHp6f4OFg317e3l3fYWMi4B2c3NwdoOSmJGKhISEgYF/dGFUXm13gIiTnpWBc2x6in9sYHSIe3BzbWBzjJOWmaWkmZWVmKCchG9XRztAVGmMsrqvkntmQT1bi6iyuaqTeVZZcJKzmmlZR0BTRWidgbHnwKilhWJWRTpAYpGxuaeDa1ZSa4Ogr52HkZaHgH5+gYN7aF5kbXmIlZGBcmJdbIGOjIiLh4OBhY+RkpWKc1tTXnaTp6WWfWhlbHJzZl5ocnt0ZWFziouWmG9mk66ooKW9w7KomXNAIShCU2mYvci8oH1SNzM7Um2Mpby5oI5yUk9oiKzDuaOEV0FLXnulvKeAW0FLZXaBnrGgi3ReYn2VmpyZhGtaT0tge4iLjJWZlpGLi4uEfnRtb3d2c3d9h5WgnIdsWVJUYnmFkpqPemlhbIOcr7KehXdvaGFlcHuLj4p/d4CLj4x9b2VeZGZzjKOqqqihmH5kXWVpZWt3hJOIb2tlUlSAj3+AeXBziKGlrLa2rqeMUyAiRF56nba5qIx7eX1+jJiRfWBEN0lrlbK8s6B+VEhUZHOBg312cHaImJyWj4iBe36EgHJveoCEiIqAdn2Efnp3cHJzcnZ6foOKi4R9en6Ae3Z6gIGHg3dvdn+LlpWSlpaMg350YlBLWXOMp6qYhHJeV2Joc4usurmofVRES15yfX+Pkn57h4qPmJOMhYCAf3ZoaGhtd3SImIWHg3J2enR0dn16c3uKmqShnZV9YVJWa4OVlop+c2tkaHeEkpGMkpGHgYB+em9ka3qAf32DjIyHg4iLioV2a2t3hIWBfXltaHSAhI6Ld2hrcH+Ffn2Bh4iIhIF+e4OFfXRzfoqOjpWlnYFrW1tle5WeloNwWT0+XYClt66Sg4FsWmV6kqWqnoh2bGZocH+Ih3ppa3Z/gYiLiIWDgIB+ent9fXlyc319foB7foF+d3d+g4SKkY+PkYV+emVhe5qrpX1AJzZQa5OyoY+erqOOlaGknYt5XkIwNEVUYoPB2ryRPhRiwcN0PmKhz9Gha01acoSTnI5oUl16fVY6T2x/rM65mpWDUz1dmL23nnlSSGGKo6Gaj4F5gIt2YGVycHeSkXNZRUJden+SvsCvrIxbTGRyjJaDenJrcH2Di56jlot+b15aYGyDko+Kjop3bWxveoqOioiOkpGLgX2Dh4R9cmZgZnZ6gZGLeWxrZml7i6CnmI6FfXZ7f3l/hHlzeXNrb32Ah5KMio6If313c3d/e3Z9h4qEenN3hZGEd3RvaGt0en+Fi5iekYOEiIF5cnaEkYp5cHqHf2tlbGRkcIGMj5OWkn9zeoWPkZKOfW9mYGJ0i5mYh2xaW2mFoaunoZJ5ZGBzf3Z0gId5YFpsgI6dp6SVe2VaW22FmZqPgHl2eX57foqDdnR9hZWcj39wXlRZYXaPnJ6gnodkW2R2g3+KkYh/f3Bsi5KMjod7c3Zzb4ihoZVzT01SU2aAjop/foCAdmxzeoeHe32Tqqqai5aHdnJwdn6TnKGalZV7bGl2jo9tRUxgXWVzgI6Mh4+YnZaFfnd9gXNze4F/dGhbZW9veoOEioiBcGZ2gI6Zk4yAe36Kk4h6eYuTjIB6e3ZwbGZrd36Ag46Zlop7ZllZZXaOpaWZinNeWWR2jp6kpZ6ZlZOLd29wd3toU2+Ti1AgMkhMW2aByOzVvrW1sq6hdCkXLUJPVnrI7suvmmgkFztUcL3w07Kkfkc6ZZqxnXBJMjdSgLnWyJ5rPjBEfbrFnWtILzRNXXmgt7Kkj3l+nrOoo5qHdm9oZnqFjJKHbVdWa4CLmKSafmZkaG1veYWLh4iHf4iYh3B0c292fXtwaWBXXWVyhaGupJaMhH52cHeEeVlNW2l/maiqqqGTf3BvdneBmZiEf4R6bWx0hJieloBpYV5ib3t+e4OKioB0cnN0e4qWjoGDioWDhH57emxkcn5/iqClnY5/enRscH2Bd2lrbWx2g4uWnIx+cmx0f4uOhHpzcnd/hIeFiouDc2hocHuIk5WKhYiEfnZ0eX2IjoF2dHN5d3d/gH1zbHSAi4+MjpKMhHtzdHuHlpyPeWZlaGx5hYiIiIFvZGlyhJKYo6WRdm9zb21/j5KOfWldUEtbc4uksaeYgWRTWm+EkY6AdHN5gYeKkpOLh4iDeXmHi4N3bWhoaW1+i5WRhYePlpiMfXp/fnuAfnNwd3RlT1BmdnuEkpyTgXd6fn+AeoCFhIF/e29rf56or7OqnIBTMjlLZpGuvLqjfU0sM1J0gYODf4GFiIuWnp2dkn9za2FebYeZnJGKgHBgYWx5iIyAd3d6gIR/g4+Pi5WMd2xiZnqRj4uHcmBgZHCMmZaRf2llb3eDj5mcj4ODhH90c3Z2dnN0e3p2d32IhX1ycn6FjId9fX90cnmAhISMiIiVmZN3TUhvlZ6jnYBsT0dTWXaOmpZ+f5KopZKVp7WokX5oV0c5PU9ohaCnmox9bWhtd4CFiJ25wKqAYlZLREFSe5ianpyRh4B3aXSOiHBwemZde5WopI6PjnZgWldbZG1zbG1+jJmenq6voJKHhIGDgX6FiHpvaGFse4WLiI+LgHZmaXNybXeFhISKjpKBbGxycHaIk46Bdmxsa2t5jpqYiHl3fn92ZW2KnqCMe29sc3NmaHqHg4CLmJqOdGFkcnZva3SLnpyTmJqTintzeX59en2HkYyAf4SKjod+d3qBf3dwcm9mWVJecISIhYqSkoV+gIWFgH+EhX1paX2Df4eYmIyLgXqEin9vb317gIyHiox+aWJvd31+gH1zc3Jwdn1+en17c3J2gZWjo56dk4F0aGZ2g4qMiISBenJtbG96io6KgXlzdnl6e3JyfX50doWLf2yAo6h7YIWKYXallpGaj31hZn2AdHqDh4h9dH1/enl9fn9+dG1yc3mHkZWcmIyDbWFlcHqFkouDeWVkdoGOmZaOhHRgV219dnZ/jJGSlZWTj4h6cnBpaHB7iJGIfnt3cnJvdoeSk46FhIuLgHNyeXdsaHSFiH19g3lwc3R5hYyIh4B0bXSAkaislouTlYx9ZltZW15ldIWLi39weX57f4uHjJaPioNza3mEgXt6eXBvb29vd4SRnKWnmot+aV1haHSFjI+OhX96bWlyd36SnJiWjnlsZFddcntyb4iViH1/jpqlr6iVhG9XT11eU1NkfpyysaSDZGBaUGGEoa+zr49kSERTaYexyMOsjGBAQFd6j5WTjH90cmxla3mDj56jmIyIf3d5dnl/f356dnSAkZKFdmxtbHJ6e3+BeXZ9fX2Hi4qKhYSBe3l6f319hIBwZmt3g4iAen6DhYqKjI+Hf353bG97g4iLiIF+fYCHhIOEf3NlXmVyfoeLioN6b2VreYiZp6qkmId5cGxsc3dyYlteco6cmJyemIt2ZGZ0gIiKhH12cHJ5f359gIOHgHZ3dHJ5gYqRkpOSh3p0enZaMztlgYx7mcvVvKenhUQscohFXWk0UI/FzJkpD2+kVyhkfrzw2qi5xLG3r6yomW0OBEFCTFdlesv6ubGok3NEPjY9SVaO3OW1mXl3azQnOV2WvZqRsbegdkUrNk1inMuykpqjezseMkxaesDv0a6daSEUQlJbe6S5zMydZjcsSHKVssfVyLWvoIFpYW+EkpmDW0A0QExedIuhs763sZ13V0dJYn2Af46ZnpZzXmZoWVt3io5/f5WVe1tLUmV7f4ylo49/g4N+h4uTpa+eh3tmYW1saGtpb3RzbWyAmZmOioiKjn52gYWPmpaOgYF/bGVsbGxydoB9eXp+k6Cdi4ORjn5tXm+Iinp0endydnRzfn97gIOMjn57hIuIgXuAiHprb29se5WdlpOVkYp/bWRwc2ttentrZHOIk5KEcmJdZHBzdouqt7aunZWRh3t2d3BmYGBvfoWIhH5+dmtma3SBk56kpJV7bG9wcnNybXJ3cFZPaGt3g5OssrW1t6+ZclBBPkRSa4WapKeelYyIgXNyf5Outp6HbVRPS0hWa3mHmpF9d21lbH6ToauooZ2Hb15ZXVdygGlobH2RiISYqKOenpOBfX1pS1RzZmiRq76kUERSPnfLvmgXIVZ6w8+FkdK6nraTdoN7doqSZTksMERgks7armgrFz5hktbctohoe663j1IdKFmOz9yuemJziIt0XltdVllZUmyZrrKnj3t5g46PhYCBd2tpYVttent6dnZ2e4ODgYqLfnN6enl6b3eToKCjnI+HiIqBbWJpdHqBh4B6f35wZGJoc4WRmqGklYBpWVZaZnKAkZWKhISIj52nqKSWhXt2cm9iVFNXXWhyeYOSnKCjoJ2Rg4GAe3p0aFdSWm+FlquumX9wZFlebXmBipaYi393dHd+ioV3fpGTk5F/cHBmYW1rYneFgIWPkpWepailkXBeYF1NTFp0mLO6s6iTeVRETFZicISdpZ6Wh3NmaW1zdn6VnJKPhHBiZXKDmq6soJF7dnN0c21lTFdzjJqOg3+Ef1tHYXl6gIOToI+AdoiZkaGlnpFwdoiLgW9ZSV5lTUVbjr26nJaYh4CBfW1pcGRedJalj4B/cGJgZnZ/hJiqqpV7Zl1pe4yTkoyBend9fXd2c2VgcIeenYh7en19fX6DiIiBc2ZiZHCBioqAdG+Bo6ecg15QdqOYfYSVh3mAfWlhZneMkn1scHuFlaenloR3cnR2cHJ9eXB2enZwfYV3ZmZ0ipiRhISIhYOIko+LhXdkWl1rc32Ijo+Si35taG95gHt3gYR6dH6EhIePmJ6hmYuBem1lZWViZG12dn6MjoWDhIF6dnaEmJ6ZkYyHe2xgYGhrbX6SlYuFg355eX+HhIiWmo99cHN3d3l6foGAe3Nyd3RtXlZheYqSnqGakn1mYmZpd5Wvr6Sgk31hTVJgaHSFk5WIhIeAdmtteX6Ag4yPhICAeW93hIyMiIeEgX55c3l6dHN7hISEiJOWh3t5c2xpa2ZseoGPk4qDfXd2hJKTmZmOfXJwa2RgXmRzf4OLnKeekoR7b2FofYqRiHdoaHB7gIWLjJOVhHl2c3J0eoOLj5GIfXNoa32Ij4+HfnRvc3l2dHN0e4GOlYyEgHt+f36DhIqRiHloYGFpeYSMlZaLfn1/d3NvbHB/jJOWlo6BdmhiYmFmdouWnJyRg3+Biop/e3lybXB6hIuFf4B+f4F+fYGAfn96cm1mZnaEkZycjH53d36FhX9/f3p5d3l6eYeWmpWIeWxlYWFgZHeEh5yjmZKEd295g393cnl3bX2DhZOTkoiHioByXVdbZYiro4yTg2hzbFplg5mksbOlnYxpTUJIXm99YDtejJ6gjpKss6SFa2ZycnSKnJ2PfW9yhJKHbFlodn2LiH56f4BtXlpUYm2AkZOZnqGempqak4dzW0tMWWh/j4+Pk5GEd3aFko6Adnp7a1lTYHeLnaqvsaiMbFZWa3l3eX+Adm1tc4GSnqSckYyFfnRyen93bW92hY+KdGRlYmFsdn6Eh4iMko+OmaCWhXdtaWtsdoGIjIuAd3RvZmVtd32FkZ2jnpWLgHJkWl5ob3OElYh2bXSBhYqMk5qVioN5b2lvdnp5c3mFjoiBf4CHjoqEg4iLhHdvb21we4CBf31+g4iLhYCAenRwa293d3t/g4eAe3+IkpmYjoR9dnd/gX52cHN0cnB0foGBhYeDe3Z6gIWMk5iYjoF7cmVgXmJrdH+KlZmWkYN2cnmEhIGAg4V/eXl6enp3dnl6fn+EkZygln9oW2JwfYqVlYhwWlNec4OKk5yZkYV7dHJ2foOAd3B0e3t+hIeDhIuPjouLiH9za2tweX5+fXt7fXd0d32DiIqEe3Z/h4SBhYR6c2tse4yZmI+Hg353eYCIjpGIfXdwaWtwe4B/f3tya3B9foCHiouPlZGEd3B2f4F/dG1raW93h5KPjIqOjISDf3Zvfop+dnR/h4eEgH9+eXR6gIF/fnp5eX6HiIOBf3l5f4GDg4SBeW9paXR5d4GMjoR5c3J3hJKYj4F7b2Zwg5WenJOKf3uAeW1tcoGPkY+WmXlJMz12tZ1UMkV7oJVpUFlyf3d2i6Grt7mad2lob3twZoW1yMCvnqChmIuFi4h5ZWJib312aXuTjnZaTFJibGVdXWVmaHuWpKGYin10b2xwe4qYnYx5fYyMgHd0cnJrXV1vg4+WmJKOhXRiYXeLiHl0gI+WjIeTmpWOhHt6fnd2i5aamox+fYqRh3twbG9tYVtia36Hg4OAendwbG9ycnR0cnqFkZWPg3p6e3p3dn2MmpaFeW1la3R+kqesqJ2MenBrZGZrcnuBh4eDf3+HjIV+enZtZWZyfYeMjo6Mi4V/eW1lYWhyhJijo5yVin5zb2ZgXl5ocISZqLKupJKIeWxQLDZIU2FpdnuKqL3Oz7myr6OBMAk0TFNppezgsqiLRAwnT1Z6x/XHpYs2Dz1rqOPXsphiHh5EZJO6rIdePj5birrOxayEWTMtSGmczs+5nHlSPURZbH+RnKCThH6FjoqEgYB5b3J9hZiuuq6KZlZmaE17hTQ7XleFh53Amqq6npaMXkhIRFZoh7a9rpp9c3R0f4OAe2ZebHqRpKCLdGtlYGhzhJaYlY6Hfnd0c2lgWVdlfpKOfnt7foiWp7W1oYBkVlZebYCMjIWBfXd0c32Hh4uPiIGAdmRmdn13d3p6hYyEd3mImaCajIF7bV1hd4WIi4iLlo6EemVXXXCAjpqch09AXWR7kYOVubquoKCdg1o3NkhUYXmdtbO3sZN3YFdgXlZohJqelXtrdm1ti56nqqCMeWxdWWJreYiEdHeDhY6Tj4uEdmhmbXuBc3mWmoWLnohsdnRkXmWAnqqcgXp2cnBydnt7d36Ad3l+gYeHhISAeoOOi46Sj4WBfW1oZV5pg5GPjoN2bWZodICLj4qLjIN9cmJicoCIjJadk4N2cHR6hI+YmIuAdGZlaGx5h5OWlY+Fem9lYm1+hYuSko+MgHJyd3p/e3NycHBwcnd9h4qFgX19f39+g4qFg4iKioeDemxrcneDjIyOjoN6dHBzdHB2fX2Ag4SIioWBgYCFh4ODf3l7f39+fYCDfXZrW1tofZGZnaCYgXdyb3NwdIWMjpWTin1tZXJ5c3B0e3+HioSKkoqBe3Rzc3Jtb3l0doCHhIeKi5GMioWBhIB5dnp9e3t6e3uAhICKlZKLg3t2bW92dHNwcnlyc4OLf29ra3qLj5ijoZKAeXZwaWtzgIqHgH9+c29wd3t0e4OIj4yKi4qAdG9yfYB/fX6Bg4CBipGWkoqDd3BsaW95gYuOiIR+c2lmcHqFkpiVjHtvcHJ0d39/dG1bV2FsdoSMg36BkaWoo52cnpaDdGhdV1plcnuFh4iRkY+LfmxmaWtob4OVmJOOf3l0fYWDiIF9g4SAdm1paHODjpKRhHd0d4CKj4+PinlmYGhzd3uIk5GMg3dzd31+foOOj39wcHd+hY+OhXtpYGJodIOSnJySg3dzeYSKin5tZGhyd4WPkpODcGReaH+PmaShk4FyZmRtd32Ei4uDfn5+fX+Ijop3ZWVweYCEipaakoN2c3N2en6FioN7dHJ9hHt6gXt5enJvcnmBhYqIgX99e4OMj46MgHt3bW90d36FhYSDfnd0e399g4OBh4eEjJaOg392aGBhaHB3d3qIlpmVkouEfWxob3R/kZiSin9wbXp6d4WMio6LfXBraWtzen6DhISFgXlzd4GHg319f3+FjIN9gIGDioqFg4B5bGRiZm15h4qKkZyajoOEiIB3c290e36EioN6dHBtd4OHioqDfndwcHmAhIiLioF2cnR6g4N+fXt7foGFhH57fX2AgIGIjIiEgHl6gIB+fXd2e3+Ei46KgXp2c3Jydn6FhIB/e3R0foSKioSFf3Nwc3N5foCOlo6BgIWAc2twen55e3t5f395cHByfYiOj5KSgHNscISRi4iIiIqOkYyHd15JQEdlh6i8sqGKcmJkf56rq6OFUEVdZXuaqpNyf2EhKEdMVmCAtrmjq7PDx7WyrKSORAciQUhUaZ6ymJGLfXdrV09epeDTtZxrPj5Zd6rEnGk6MmCj0dO3kloZGkRbitreqmwlFz1TXofL48e2qpyYlpaWj4V3bWxpbW1iVEhMVmWAmaismXlhVltwg4iOlZaSj4d5bWttcHZ9gX12cGlpc4CEgH5+gIWFhYyOi4R3ZVpic4SWqK+sqp6KeXl2cHNzb21oZGhzeXqAhY6ZnJOEc2Via3R7gYOAe3RvcoGTmpqVkYuFhYuKgHdwb2lkaHmMmqCdmYVwbG9yd4CKkZWRhHRmZnB6e3NyeX+DiI+Wlod0YltkcHmBj5OKg359gIGDhIWLkZGPioN/eXNpZW15fXt0b3B9h4iEe3ZwcIGSo6WZmZaFcGJZXWxzcGJdaIScqMHIt6iTdltNUFtoa2ZmbHB/k5WenI+SinpsaWVpeoCMmZqWlZaLeWtsd3+Ed3NzbHB+ipaZlYx/enZrTTI7U2iAgYGRnqeZipazwb2xpJyKbUk0PVNmaWt/maOWgG9tdHNoYmR0h5WepaSdkX5tYFtXWmh2j6irpJyKeWlXT1pvgJGeqKyso4tvUz05S2J3ipKVmZOMh4GDhYyMgHt6e31+fXRraW9ycneAhYqOkpidnp6Tg3RhUE9XZnqHlZ6hk4FzXlpiZm15gIWLi4R+e3l5iJ2npJh+bGxtbXaInZVeKy9emtHXoEgbOnu6vI95bX+uvqGBgH1lV2VrUEVdbH2VtsqyiHSOqKF9XWBpcHR5dnCHnpZ+bGKFvLKPhGBvq0cPWk1AREFPWXqOx+7LrrrEtbarmmAMFjtCS0lNW3SSoczctb66rq6dfkI2TWhCQZN2ktWnhXt5YVlWdJmrk3B3k66glm86N11hSXBbSYu8wKieoI5zaISKWW2Ymq6lcDRHj4VbVIC1hVt0jqi6qIeHjm1ZcHmHnpaFh3RTPT5phZmsqKinpZmBa1ppYUJ0iFJadHJ7gY6Ea3J9f4N+hZ6dkZ6gg2VLQVBabI+vt6+ulnp7k5mOgGtbVE1IXYuvurmogWxmYXaHhIV3YVZUZH2MnKCRgYqPhIuVj4RzWlBlenN2iJicqKSFd3d2b3mRk4p7a2Rib4COlZKFfXdvaWVmcIOOkpGFdGxsaWhzfZavqJNtYnB3b3KMnZ2Rg4GFfW1yd3Z5c3N/h3tvgI5+coCPnaOgk31oaHJ2g4WDgISLfWRdZm1ve4h+cmZkhZ2Sjox/h6CnoJ2RfWldXmJziIyDcmFpdHJzc3uMlpaIdHJ5gYV9eo6ZmIhycHqFlZWAaGZra3R7g46PhHl5f4SDfXt5eoOEgH+BiouKhHt3b2lyf4SDh4OAgIORiHRwdG9lbHuDiIV7gIqIh4CBjI6KiIyLf3l2ZFdbZHCAfnt/hIuHemxteXuEj5WVjIN7d3d3gZKYmJGAc21mZGx0f5alpaOVfWVbXmx7gHtlYnB3dneAg4CLkYuYo5mHfXp3eXRsc4GIi4+MhH97aVNTXmZ0h5ijo56WiHJpaWRlbX+Rk4uIjpGKhH10Zl1lcHl/g4eIgG1ab4iDe4unsqyglYRzZlZNVmR5j5mTkY6RmpiPekw9Umx2Zl1kg6WvnZKao52Me3l9d2ZTUF13hYGVpZmIfW1tfX96foF5fYyanY+FgGlbWlZecICKlZ2Pg4qIe29raHJ5eYSPj46HgYODhIuKhISFhIR+eXRzfX90cnRzd3p9g3twcHJ0hI+Mk5qVgXlvYml2ent+g4N/hIyDc3B9iJaajIODfnl0bHOBgYCEg3Rven5/iIqFioR6dnR3e3t0dH+DgYSIioqMkYp6Yldkd4WFenJ3hJWVkpiLgIF7cGhkb4OKhIOBfnZ0gY6LgX6AgH16eXZyaWZyg4+VmJiOe29tb3eDhYiBc3eDiIiMjIeMj4iBe3NsaWVob3J0dHd9g4iMiIuYmZaPhH53a2lzeXt9eXd7fn17eXN2g5GPj5WRg21dYGx0gJmroIyBfnpzbGtsb4COiot+aHKDhH9/h4uBe3t+gX5vZWVmb36Wr6uYiHtwb32MkoVycnlwa299ioiDg4WHiIeBg4WEgIB6cm1ybWJgaH6PmaGgk4qAdG9ybWt5fX6Fjo6Lj49+cG1wdn1+gIqRj4iEh4F3dHd6c21ycG1vdIGPlYd6f4WDhIuIf3dyb3R+hYeEg357gYSFg3ZvcGtpdHmAiISVnYV/fnN/g4STmo+FhX1ybWtra2tvbW13hJaenJiZkoB0aV1aZGx2gZmvs6yaiHleVGh3cnZ5c3BobGxyh4qLi3+HnqqkkntoZGlgW2hzf5ajo6SdkYqLjId0WlBbYV5ka3KAj6Gvr6eYg3Rtb21obHNyXU9WYXmgvsS2pZJ6ZmRkZGZla3N+iJKgpZ2Kdm1scnp2bGx6j4+Bf4OLkYd2b3l9dnJ0fYiMhXp9g4GIkpOPiHtycnBzdnJzdHmFkZWOfnd3d3R0eYCOk5GBaF5tfoWMkZKTi31waGZrcnuHj4+Mh399e32AhIeIhH1wZmVsb3N6hIuLi4uLiIF6dnZ9gX97enqEi4eHjI+IgHl0d31+fXdyd4CFh4B3cG90en2BiIiHiIqEeXR5fX97foN9cnJ2f4V2dH9/hYeFmZ6jqJyEdGZbV1dXXmt7iJqhjndlW2RtdICRmpmZnI6AhIyHfn6Kj4qDd21raGVse4eAdnuBf32BhYGAiI6KgXt9e3l5d3mDg3l2c3BwdoGHd2ltf4eHkpmYkouKg3l0eoOEf3d2dnRwaWt0gYyMjIqBhISBen6PlpKKgXNmZWt0e31/f3tsaXuHi4+Rin1yc3uHi4WEiI6Pi4V6bW1tcn9+ZWJycm1pbHeFkp6vt7WvoZF7c3BaTElNVl1yi6SupJOBbWBme4uPlZydkoBvZWRocnuAiI6HeW9mYWt+mKejmI+EeXBsb36LkZKLhHtya2xtaWlpcICSmJaTi4N/fXZsaGt3g4uSkYyDd2xiYWh5jJyempqZj39vYmZvb2JdZnKAeXB0eYGPo6yurqWZhXBmYlpdZGlvc36LlZOIhYeAf393dnp3hJqIc3qHlZWVhXuMiGRmcmtwXkBQXXJ5d8/IjJmSmsCqenBoZllJXWmEoJyail1acoCYr6qRbVZdYnqOg2xSR2CAjpKVoaShp6GKfoSDcFpBPlptdnuHmquomI+Hh4qEgHtwZV1ib3lyaXaBiouEh4uKg359dG1ygZWcmouAe3Nye4iMi4N3cHBraW9ye4WIh4WDgIOHjpOPgGhrfXR2hYeTqphsTFOFrKBhaKOymlAPL2mjsWZMe6ioZS1MpNaoeYOlp4t9e5K1q5Z0STtIXmBSVmGIw8Gqj3ZrZnCKrqqHaFJUXm2BkZaemoFpYFBCVnmRoKijo5iHe2RZWWF2ipGco52PhXZbVmJtfaTFxah/VDc5SFt6nZ2Oh3t0bXqWq765pYFTQUdXdpGgoJGBfoSHjI6Aa1lXZXqSo5yOe2ZgZXeFiIR+cGlvhaSqmYyBcF5dc4CLlot5bGJmfoqMioGBf3d+jo6FfXlzbHCBg3d9hX97gH19jpWMioyHfoiTiIN9c21maHCAjod/gX15eXd3c3Bvc4CKio+Wi3pvcnZ7gIeLi4V7bGZocoeZoJJ/d29vc3Z5hYuIi4+VlpGKf3ZrZGZpb3Z0d3ZrZmx9io6VoKysoZWHe21hW1pbYnqOlpmVj4h7bGl2h5OWkot9aF5eZnR/g4GEg3lvaHCAio6WloyFhYeFfnt9c21sbXp/gYiSkop/dnJ0dnp9hYiEhH9+gYB7dHJwc3uEg31+f3t0cnmBg4ePj4uMj46Hf356dnRzd3t3dHR0dH6Hio+Yk4p/cGlpaWhsdn6DhYqMjIuEe3Z5fXt/g4GBhYqIh4iIgXlzdnR0c3N+jIqEf3N2enp6cHJ6foyMfXN0f4CAipKTkpGOjoR2aF1ZWmF0j6Oqr6uWfWleYWxze4SBenBoaHJ5gZmqpZyRel5PV3KFhIGLkYh2ZWRteYigq6SYhXl3fXZrZmRiaHSAi5GSk5KEdHBzc3l9enuAg4OFjJGPi4B3e395eXpzcHZ3c3J2foiPk5WVj4SIi39yaWlsbG13fn6AjJOOg4GBfW9kZGZtgZWcnZWHhIB5en+Lk4p0ZWxycnqBf3d2eXp/fn+Olo+FgHt6fYB+e3lzcnZ6fYCEhIWKioiDfoF/b2FkdICMmqGglYh5aGBlb3B2foGKkYp/gYV+ent6d3l+fXdwb3R6gY6YnJKBenl7fXR2f4OHiIeAd3Jzd3d2eoCDhIOEiIiEe3R6gYF+eXZ2en5/g39+hIeLjI6OhXRoa3Z7f4WLin9ycHmAh4iBe3p0bWtyfYOMk4x+cmlveX2Dio6WnZmPin1oZGZmc31/hYiFhIOBgYGBg4B5dnN3hIiEgXtvcH6HiIWAf353dn2BhIeHg312cnd/hIOBgIOIioR7dnd0cHRzbXaBhIePk4yHgXt+g313ent/iop6bGhsdn9/d3Z9iJKVkoiAgH12dHN0e4GEh4iIgXJmaHJ/i5GWmYt3a212ent9gY6Tj4N2b3R3cnJ5g4uMioF5d3dybHaDkZ2dkYF5cmxsc3mDjo+LhX1vZmFiaHOFmJqWlZKBb2hyf4SLj4iFhH97cmVmc3qDiIeIgXt6dnl+f3dwenl0gY+SlZiOe3BycGttc3l+g4GEg3p+hYN2aXB+i46Ph357eoORpbGopaOSeV5NTE1LUGRycnmHkpaWmZiYlYuFemtrc3mAjpWLenJvaWtyd3+AgX15e3qBi4h+f4F6dHmFk5WOf3Nwa2l2iJmdmpOAaFZUXmt7jqChloyAdG1sb3R0cm9rb3qDlqSknJGIf3p5gZGVhW1bWmVzhJirpIx5a3B/jJaakoFrV1ZgbHp7d3JyfX+PoZKLjoB+gX99dnlza29oZXJ9f4eLiouHfXR2f4ySi395d29lZHORpJKDj4t7epGef2Jlc397en6LnJqPgH+EiouVg0EoMk9zc2uYsau6xLmonH1CIi1FWoHI3rqSb1RCQlZthaC6wLKVb1ZPT1lzlqugiHNiYmZrgZ2hjn50cnaDko+BcmJXXXOLlpKHfYCPmp6ZiHt6cmFea3R9hISKjIeOlYx9b2Zrb3Z9jKGTdG9wdnRtb3SFg4SRjIR3eY6PlY9yU0tXTUhQV15pmujvw7a1sbGniD0JLE1TbKz12qyrkVcUGkhPWne98synh0gkMl6c4eS1o4A2FDZbitHZsoRNLClFW3SozNHAo35LOUdgf5y3vaeHbE9BSFBlhZijq6OVg2tNO0RbfqrL0cSyqpp5U0tbZWVkZW96foiWmpaPh3lkXWh3jqSgindpYnCHmqWkjGtQS1t2i5mjpZyHbVtUUFJdcISYp7O2pY57cGxsa2Rob3mIiIN+eXt5doGRjpKaj4F3aWRkaXmFjpqjnI5/bWJkbXqHkpWPgXdvaWlmZHOHjo+TmZWFdGhlZWt2en+Mk5KLf3d3gIiSlo+FdmJZW1tkepOkrKudh3drZWhobXqBfnJ3h46LipKSi4N2bXBydHZ7h5GSioWHh4F/f36AhYuOhXZoZW1tZnKDg3l+h39zbW10foCIlpqTlZiVinttYFRaZGx+io+cpJ2Si4N6d3d2dHRrZWhwd4idpJ2RgXNrYGJzfYCDhIqHfXd/iouIioeAfn9/e3p6d3l+gX95eX1+fnd2e36Ag4WDh4qFf3p/gICFiH92dnlycnqAh4uOkYyFfXBoYmJibIGTmJOPjod/gYB6eXp7e3l3eXl2d3+Lj4uEfnl0cHJzc3J5h46LiISAgYiLioeKk5GHgHlrV15yeoB7d32DiouFd2xyf4qIgICFhIGAfXRtbHJzcHN7iJGSjoqLg3J3ipOLgHt+laWaipGedygeSZXhex1BO1ee6Oy2squgjmEsGTdPWm1dVIPK3JhgXne+7raTYERST2ZSPWGdwa63tYp7hYFgUmFmeYuBdIGYp52BcHB9hH93bWBwi4t7b210f4B0b3aFmpp+cIeVmZN5aFt/oG1WWnOKjJierq6Pf3plV1ZmfYF6doqcoJ6Pc1lWYWZsfpGntqeDa2Zrd397foiVloFmTUthhJaKgX5ybXBzeXl5hY+WkoyMjIeFiIWDfndrZGx0b2tvfpmkoJ6Yi355dm9rb3BweoeVloN0dHl+fXNtaWx9ioOKmZKIhYB/e3BdXXR9fYqepJyOf3dtZWlye39+h4+Hg4h/f4B5dHJ7g4CAg4F2bXZ3dHt9fYuOiIqMiIN/eWxlaXSDjpGMioSAfXZvbHaAjKCkloF3dG1oYmRtc3uIk4h/hIqPioCDj5OPjId/enBpbXB2hYd9iJF7gJF+VEJoVjtgVEtecJzF0dLHs7azrKN5NhkrSVRor/LVrKFvKRY3U2Wj6N22qJViJSRQgLXMuYhWNEBwnb7DlVMsNl6Yys+yiFYpIT5UYHp/eYCLp8TMvqOIfXJ9o6OanXproJZMKztpdktimqSlloyKcltreVlpiHlgZXSImoF+hIWIgHl5cnODlZyksaqginSKnIpiTVBacG1mdHmAj46Ad31+ZllriJigqJFoWVdljq+6uaWLf3RhUFJwh5KdmoV5aFZebHaEmJKDgHp7h3llb3p9fnpsa32HlaSlnI6AbWh9hYSRkoFyYmmFiICPk4V9gIqLg3JoYFlmeoOPjn90dnp+g4yRin1wa2ZtfY6dpKGdlodzaGlgVl1ib4eRk5idmZOaez0vRVNdbIehr6WKfYylp6izrqSZgVo7NjtFUGGHtczKtaCKbVRITF5wfpOst6uWjoN0b2toaGZbTVNshJOWinJXUFRdbIqswL2umIeAclpPWmx6hYd/foCAh5OYmqCdmoxyZmtyd36FioV7dG1hVFlrfouPk6Gkkod/bWFlbHaBiJOYkYuBc15SWmx+jpyglY+Kf3lzbW96gYqLiIuHfXRtcn16b3B/h4qIioqDf3p3d3J0f399em9sc3d/f319fn16f4iTk4iIj46SmZiPi4VvW1pbYXeIkZaThHNpZF5hbYCSnJyWjouIgX9+enJvcnRya216gYeHipmno5iPfWxkWVdeYmFmeYSOi3JXVF1tkrK8vsC9r51+YVlZW1BAS2Z/nbzEt6uYd2VeT1p2e4egoJKIfW1iXmJpgJqgnIpvYFdPSVd0k7W5rJqFa1JacoyuvLaqkXZdT155jpiLdF5UYnR/ipKKd3SFjo+SkYVyYVppen2Ek4uHj4WSnottVEdMb5KOgXt0jKWccFdhWV5yc3N2gY+cnpaLhIqPiH95dnJ2fXqDj6G3vbysmYVvaGtsdnlsXmZtZmlmZXqLiHleUGJzc3d/hYuRj4qOj4iDfnZvcHOAlqOlmoNtZGFiYGB0g5mvsaBZTJGLi4pyk4VrcnZtcHd3i5iOh4R9h46MkpGSkYdzaHN2dnp5gYydmoNyZGZrYmBsdHaBgHp9io6Ih3tyb3OHmqCcj4eBb1ZESFphZX2YpaeciICEjpWZnaSdgWxmZmVrdoCBfn2AhIR9bWVlaXeEjI+VkYV7dn+IjI6Ee3d6fXl6end5enl5gYiAdnJ3f4ODhIeFeW93f3uDjouMjI6Oh35yZl1eaXSBjo+Ki4N3dnqBioqEg4eIg31yb3Jzd4CFgX13d36IlZqYlY6AcGZiYXCEjIuLi46Oh396dHBrYV5pdH6HkZiWk4x+d3ZzaWVteYCFg3+BhIF/eW9td4SKhJOooZOOh4ByYWZvaWFdW2RwfpWnr6+qqKGZkoV7dGVTTUxPWW2LnZ6YioSEdmlrbYGhsaykmIh2YlZaZGx2gIN6cnJ7f3p7g4qDenNtaWt+j5WWlY+De31/hYuHhH9+gH17iJKWjHdlYmZrcHJ2f4iTnJyThXZraGRkdIeSnJmLfnJpa2tscnmEjIyMjoyEfnt9gYSBe3t5cG1ydnuBh4eFhYWIi4uIe3N2en6FjIR3c3Nwdnt7gIeAcmhiaHB5g5KeoZ2Vi4F7fYF/dnJ0e35/gIB7d3t+gIB+fXuAioqEfnl5dnJyc3Bwdnp/h4yIh4iFhISAgIODg4SIioN9enp3d3dyb3J5hI+RjId+cGZmb32Hj5KRjoR6dG9wc3qFjI6Pjod9cmlmaG9+iIR5cnZ3e36EjpGPj4uDfXp0c3d6foB9fYGDhYeKi4uHf3t6e3+Hi4N5c29laHR/hYeFhIN9dHR7fXl/hYiIjIuFgXp2b2Jpdn2Bi5iVjohzZGtwdHuHlpaZmZGKhXt2f353WjRHb4eRb0VajqGPgHp7krPEyLqomX1kSTQ0QE9bebXVyr2voY97fYF3V0FMW2t+g3t7f3ZvdH6Hk5WRlpyOcFRBPllzeoqenIRpYm2BqKuanaSelox+cGVaUFZtiJ2nnYx/a15bWmiDoLW1o4FdR0VSYXeRqre1qKCTfWlpZVtZW2uDlp2aloyDe3BhVFZeZWhygZmllZGak4uMk5iVjHtpWUtITF15kqSlnKCag29kYWFsf5Oor6SSemBUU2B2i6Csq5p+ZFZQUmFzhZmhpaWaiHNgWlpgbXd7gYWKh4CBiI6OjI6OioN+gYR9c3Z7dm1paXJ6fYGEhIeDfn+DhYuPkZGEcGZobHJ3e399eoeOi46LhIiKhIF/end5dm1kZHaKlZycloyEgXlpZGVven1+hY+TjHltbG1veoqOhHdydnt+hJGYmJKLgXdybGVre4OKinloZWZmbHaEnKuomoh6bGhte4iMj5GIe29ve4CDgYGFh4F0cnNzc3Z7g5GWkoV2bWxyd3p+g4SLkpaTh4B/fn9+enZ2fXttZGhzgIuMi4h+dHR2d32Hjo6IgYGAd3BzcGxvc3mDioyWmIh/e3l3en6DioiDf357ent7foiRkoyAdGlmbXN3f39+gIB/g4SDjJWSh3pyaWRobXmBiI+RjoyEdGlsdnp7fYCHioqMiH1vbXaAio6Lh395cmlrd36Bi4+HeXNycnd9gISHipGRjoqDeXNzcHd/fnt6en+Be3R9i46KhX12a2hvdnd+ipOZlYV5bWhpcHuBi5OTkY+LhHtzd315dndzaW1zfY6coJqPhHprW1llfYyTlZF/b2toaG92e4CKlpqWk4+FeWxobHJ2eX+Lkod5cnJ2fYCBgIGHiIB7e3p6gIeFgHp6hYuEfnZvcHZ9gISEgX55cnN+hYuRkYuIhH99fn57e3t5d3NtaWx2gIqRlpyckn9ybGltdoCLkpWRgGxkaHB3fYOFhYeEeXBtb3OAjpWZmI+Dd21hW2FpdoGPnaSekX9yaGZteoOMkpGKfnd2c3J7h4yMiH9ybHN5enRzfoqSlZGIfXJpYWVrd4+dno5+dHB6g4qSlZKPi4Fza2tmZm1yd3+DhYN2cHeFlpWKhYqMg3Zyb3J5fn52d4eRg215in9vc3dwbXaAi5iemZOPem1vcHR7f46ZiIB9XklyhG12laOdo5yFdmVbZHeVrqCBaF1mfoyBd3l3dICMhX12cnR0b2xze3+AhIODi5GOi46Skoh5bW1vc31/fYGLj4h7c3J5gIWFh4OAfnlzcHd/g4SAe357bGZtg5qdmJaEdHZvb3Z7j4p3enJiaG1tcIenqqennJmZjHJaSEBLXXmapZ2LdGlmcoijsq6Zflo7O1N0mrOynn5dTFl2k6WekXtmYmZwhZiPiop2a2x3i4iBdn2OkZaTjIN+eoGLiHlkW1ZgdoCFi4qPkoqLh3l0en13b292eoSFgYODgHt2cG1ye4eTkoyIeXJyc3p0eX+Ah5GHd3R6hI+WkoiIg3dwc3R3foWKi4iDhIWEhX9ya2ttcnR0cnJ5hZOYk4h/d3JwdHt/hISDe3B0g4yTkYV6dHp/gX56en2AhIeDe3d2eoOIhYOAf4CDgYOAend0cHN0c3N0eYOKi4uKhYF7d36Fiod+dG1sdoGMkY6Kh4SAeWxlaXeFiIWEhIWFiIuIiouBdm9wcG1sb3Z+hYSBfnt+hIuSlZKMhHltaWhrc3l7gISAgX97i4+EgXdmbHeDjpGLgHdydISTlY6IdmRlbX2MmJyemYFgTUhLaIylrKeVeWFecIF6d4F/f4OBdG1yaXOBgJKsp4iBgYiPdGByoJ5pSEtiiKihnKeeh2xQSVtteYWPhHdyc4GVmIp3aGl0iJWPh4F/hIeEgHpycHZ5e397d3N2gYWIk5iShXZtbXaBi4uLhHt3cmVib4CIhHt0eYSMjIeBf4CFiouLiIF5b2lvdHt9dHeEiIN9d3+Kkot7eYGHhYV/entvbXeFhXp0c3t/fXRzf312gJGlq6WlnpF5Xk9ITV5pc36HlZyThXlzf4Rza3mEjoR/jJGKhIeIhH5zZVtha3d/hI6TjIF9gYN7dHN3g46VlpWYmIt+c2RWVGZ+jJaPfnBpbXaDk5qcj3ZiYGJpeZKgmIt9dG1lbICTlYd+e3p3dnl9fXp9hYuKiIuHf3+AfnNpb36Klp6Zi31rWllgaHeWnY+Hd3Z3bHOPmYGBlpJ+bXN9gIiRg2xtbWhobIOdeklQYXKr0bODaYSIf5aWfWFsjKCnmHBUVGJ6jop7fZKefU89ZqOWg36clX59gIWRnouFgXliZnmEbCs5e6TBxYFakZF5XWR6VEdgjJyMlZqWpKqdj3ZgUE1Sc4qEmZmKg2lhcHaOlZaeg2hgcpqyoZKTi3NeVFBhaGZ5j5aHfm1SVneSnZygmoN7hZiWgGxpd319foCAgXtrYnKHjIyLf3p9gYiTh3NzeoSPi4B5enRmXmJvd4uTh3plg5x9jqOFj4pycmZ5koB7in19d2SOiHKLZnKHaHePjId6b3dva3mDmZ6SmI56fXpZRWyhq31Ne49ikbqnq6ermmhBMz1IV3agwMOkiG9WUFl0kY6HjH1gYHR9h56dkoFlYW2DlqOhkYR0ZFtlfYuIgYV9d4SFi5OPjoNybWVdbYN+d4WBenBrdnd9k56eoJ2RgXlza2JsdGxpdoWPkZaYh3Z/gGZieoqEg4B+fnBscnSFk46Kh3NWUl5viJGPjIeHjpmFcHKPmHlwaXaPjoiHjoqAhIqAf4B/f3dpT1mZoYeYb1mYiiAnUmCx3dXHsqqglV4rOktlna53TUdJZpKci3mBoLO2g2F5o6qMZkxPebbRwJxSAh1JVF5ihIqEbE9glcCzj5WqsbmhmKWjjmJASHZ+UFKDk4eEkpykoIh2aGJli5NBIE9rcHmOxM+RZVl+rp6Bmp6IcGJvbF5ebXqEgXBzipWWlZ2gjn5wW0RWdnpwbHdzZXCLmpmShX16enaBmop7iIiLmZiVinZoVGKMk396hJGIenRpW15vi5qHhZWVkoV+hIV/gIB3bGJgZnaLkZKYmJGEZFJic3t3d4WKf36DiIiAgH55gHZpcoCPkp2omIF2d3Zpcnt7gYeIgHp9en2TkWtpkoU6MGKOeWF+eYChucjEs6+hi10bIkVQb6/hzqWDYUAwT2yDqLKztqiHWkVERVB0k5OWln5rc2tgepWnsayej4FtYV5eZmVsa2R5i5ikpZiRjICPnXtmdnZsbWt3i5WTjpF+cnNbV296enR0fYCHgW9yfYGKin+BkYWAlqOTdGJpeoB+f3+BjI+Iend+eXNvcnBiVH62s52akY+ZgWltaFdFRF52iqGonKCgh3JpYE9PYYOcmZ2kkYuIf352b297hYeMkYV0ZVlPTFtsZGmRtbqytbKuq52Ba15bUERPVFdwjpODhYyLlZWHgZGTi4yHf3JgZWxocouajHpwcHJwfo+aoJmDe3ttYmRwe4B2aGRvgJKeqK6Zh4Fya3J5e3t5eXZ0f4uRk5WOe2VaWlpmc3aFlZaYnKqce3p3ZGRsdn6BiIqLlZmMhIBrXWh6gYSIjpGRdmJrbGtwe4OEhX1weo+jmod7cm9sbG9vd4WdlYOLhYN+em90enKEkpOMi4x3a3uAf31/hIV+dnRvc3+IhXd9i4N2c3eIi3dwgIWEfnR6dmZrdn+LioOOpIxZZWlXWVRdVHeo4Oe6ta+jnJZbECBHT2GS5eqzrJprHhRBT12I1d6ndkk5RFOR3uS+rKOEPhAvTVuAq73AqnpMPUlacpmrmX9ya2Rmc4WTlZ2opZWHf29ZVGZ9g4qTnJV+YU1Ua461wa+YgWVIRV6Ep7KqoY90ZWJkaXRzb3uHhICAb2RhZYGgsa+hjndXRVN3ob2+sph0Tzk9TWSBlZqRd2l0gIeOjIqPjoV6cGxgU117lqqvoJKLf3NsZm2AiIh9b293hIWIjoqIf2xvgYV7bXBtYmh0f31/jpaSjo6EfYSFgH1zaG99gIiTmZOFe32FhYSHiIqIemFSWWRocnqAg4F6b3KAjpygloyHemxvd4CLjoyPioB/h4iHfmxseXp6fXdweoF/hYyIgXt7dHBzc3qAiIp9cnRydICAgYWAgHlyeYORkY6WmYyKjH9pYGJpdH2Di4R7dGZsgIeRpKSPd29wcnuEhYSIg35/eXR2doGEenRzdHt+h5OLgYeSnJN6ZmBbXl5mf5adnpyLg4eDeXZ+enl+fXRyeXNweX6BjJOSkoh9eXNsdn+Ai5OKi4+Bb11WYXaBh4uVmYx9eXN2h5KLg353bWhma3eEkZWMh4N9e31/fn9/fnt7fXp2f4qIgYCDiIR/gICAgHpta3B5fn96cnJ7fn6EkZqcmZGMgHJ0enNvdnZ7g350c3JydH6FhYuLgHl6eXZ5f4WKjo6FfXp5c3B9jpKMfmxscnZ+iIyOjoF2doGDdnR5f5GSg3pzaGVlWmFyc3d+gI6anJqhnpWYoKOdj3pkSTlJZn+Yo6ehjIRvUFZpfYySdEhig1tHUGl0dIiuxczBsq+ro4VBFytIU2GT4OC1pIM6EDJSYI/R4cCljFAoN2SeyM6ufkglNluOtsS2h2FWVmWFsbqHUj5BVnqs18N0TWVbMkuP3LFBUoqLi6O2xa+DXldka36BWlBlbYCcpKWsr6B+YFddU0lJWoe8vpyKcFBgj7rDoXtXRE1bcH16fYOOiH9+e3ZzfoeKi4yPlaCkmY5/bXJ/fXRwcm9aREdkiKOqp6CPg36Fh39yZWhtbHmKjId7cnR7h5iYg3uDiIF6foF6bGZ0i5aWmpyEYE1XYGyHlZOYk4FtZnJ7fnlzeYeMiIWFiIeDf3+EgHlvaHCDkpaWmZZ+a11TYHOBk5yRgW1bYW19hYqOjouEdnB7iJGWkoR+fX2BiI6OhH97cmZiZXOAgX6EkZiThHRvcG1zen+Ik5WMhHp0cGlrbX+RmKCei3RiXWV0en+KioR7dnuHkpaLenRwbG9/lqOVe3JvZWl3en+KjIiAdnN5g4iLh315dHB6hIuRkY6Ee3l7gIGKk4x5ZmBmdn+HioOBfnd3d3N2foWKhYCAgYSEf3Rsc3t6foiMjo6OgXRoW11odH6LnJ6YlpOHfn5/enp9d3N6eXN0en+DhIeHgHNrc3p3eoB+e3+FioySk46Hf21hZm96hIyOioR9e35/e3p7fYGAe3l6gIeMhXd3e3+Df3p+fm1ibHSAkpmVjoeDg4F6c3NzaWl3gYSAgYqRi4WDfnt+e3N2eXd6e4GIi4yBdGxtc3mElZiPhX+BgHZwdHt7eXt9fXp0dHR0e4CEiIyTlZOMfnZvZmRteoSOko6DdmVhbHR+jJWVlYyBe3Nyd3dzdHt+gYWFhIOBg4iPj4Nya2xrb4GPj4+LgHNsbXOAiI6Si390bWhsc3mAg4OAf3+Fj5GKhIODhYB/iop7cGxlXl5oeoOFiI6MhH9/gYCMmpOBd2toeoeEf3t3hJKFdHeAg4uWjntzbF1ZZXByd4SOkpmVioWFjIR3cm9vbG10fYSLj4+IhICEjpOMg396c29mYGZ2gY6VinlwcnN6gYyWkoqDenBhXWx/laGgkX9yZF5pgJOYloV3d3JmbX2FjI6LgXt6e4CMlo59a2RpdoCLjoqBf3RmbHd+hI+Zmox6b2hvdnZzeqCogXd0aWlrgJaOiIR0b3R+ioV+gH9/g4eMjId/enJvc3l7d3d7f4B6d4OYo56Ve1RLYXl9hZJ2V1NbZn6VpbzHvbKrnoFZOS07TVlzo8TAqodaO0RegLbVyq6ZbDAiOlZwruHTsZloJB5CXozR3LqWXiUiRWKHsbyumo+Pk5aWi3NhW2yMnpV9XkVAUnCSpaCVh4GEhYR9cGttc3p+e3JrbHSAjpmemoyAgH52bGx0en+Fh4WHgHBrcHZ7f4GAenmAi5acmIt9dHJra3J9g36Ej4qEgXdycGlocHqAiJWdnZiMeWlpdIOMkox+a2Bka3KAk6CZh3lvaGl2e4GKj5aWjIeBenNta212gIWFhIF+f4SBe3t+f4OHh4SAf353b290fYSIh4R+dnNzdn+Kj4+Kf3Zyc3qEk56dkYR/dGhgW11lcoGRlZGKg4CBh4uHhIiKhH50bGZiaHJ9hIuPjoiDf316eX1+fX52bXJ3fYSMlp6emIp+e317cmViaG95gYqMjIiAd2VdZnmImJyTioR/foSMi4R9c29taWlve4WPmJaRh3t2c3mDiIeBgYB9fX50bHByb3N/iIeFhIGKiHZsbG1wfYqFi5GIe2llbXeFkpqelo6DdG9yd3t+h46HfXJtc3d5e36Af4CMlo+DfXZybGtveYB7kaCKhIBzb3JpZWx5eoCKi5qnoZ6gmIx/Xj02QVZzj6Gzuq+kk39sWU9WZHOAhHt5foGKk5mVjIF2cHJ6gIB9em9hYWx/kpyck4NwZGl+jpmemIRzZlpUW2h3g4WIkZaTjouEg4SEg312dnl7e3t9gISFg39/h46LhYB9e3d2dG1pbXd+g4qKf3NtaW9/j52gkoF2bGZob3R9io6HhYF3bWttdH6Hk5mdmox9cm1wd32BhIN+end3eoSMioeIh4B5c3JwcHZ+h4yIgH1+gYN+eXd3eXd2dHN2foB/g4iMj4uIioV5b21tcH2KkZOPg3Rpa3mLlpWOgXJye31+gHRpa3J2dnuEj5iWjoR/eXJ2gYuIgHp2eoSMi4iIf3JlYGBibHaBjpqenJaRhX13b2hsdHd5e4CEh4qIhIN9en5+foGEi4+MgXRpYmJsdn2BhIWDgX+Af39/enl5enp6f4OFipGPioqKhH59e3l7gIB9e3dvbG10gJGcmY6AdG9scHp+f4GAfoWRkYuEfnd0dnZ5fX56dHJvb3R6gY6RhHp6e3l/i4yKioR/eXJ2gY6Rj4+FenBpZGZ0gIWKi4R6dHd9h5KamZGHfnNrbG9wd3t6dnJyd3+Lmp6Vh3twa3B2e4WEeXuEg4CFhYF/f3t6gYWKi4d7bWVkZm13iJqekYeAdG93f4GHhXpvZmJmdIGPnqGakYV+enl5eXd6fX17fYCEhIODhYiEfn16dHN6g4SAenZzd3+Ei5GMhH95cG93f4OKi4d+d3BlXmRtdn6IkpOTk5KLgHdpXl1mc3+Olo+EhIiFh4eBhIR7c3N0f4eAd3JzfYeLkZWZnpyWi3diVExPWm2Fna6ypZF6ZVpXW2h3hI+VkYuBf3t0cnB0fYSLjIiDf35/e3ZzeXt0dHl3fYiEdHJ3d3+OjouOjpGTjIB3cnBzfYSEfnt7d3d7fn+DhYSBfXp9fX2DiIWBg4N/fX59eXp/hIeBe36Ae3Z0c3Bzen9/gISOk4yEf3dwb3Z7e3t5eXp7gYuPioWDf3+BhYqIgXdycnBwdHZ3ent9hIuKiIyOh352d4SHe3Z6end7e32EhHdvfYiLin53fX93cnp+g5KcmpKHeWhXU2B0j6OnnIRwYllda32SoaGZi3drcn2DioqEf3Zzen+DhYF6dnR0eX6BhYeEg4GAfXp7f4SHiIF9enJvb3eBiIiFgX56eXp/hYiFfW1pcHmAio+PhHp3d3R2g4+VlpKFdnBycnmAhIeKiH5wcnd6f31vaW1ydnp/f4SWmpOOi4N0aW+EoaF3W15+pJJmVmR6d2lscG96gHqBg4ekqI+DZFJpe4GLk5WeqqOZk4+Sk4h+h5KMf3d0dHBsb3R3eXZzd3Rsb2xiXmZ0fXp6gYWAd3N/jpKSjIuSkoFmT09kb2xkZXeRo7GulYuSkpiZgWtUR12MsZFZWm+Bjnl3lq61srOZVy9pnntdZnCMs4pecICsk2VQSVBBp8gsKajs466nhYu2hDkpM0l0qK90S2uWoat6bJJ5SV2nsoddQFBhaYOPd3KKqsClemJdWXOPi5OhpKChjmRJQUxkha6+ro50ZlJMYXNtc5aroI+BaF1zi5idmZKRfm9oaX97bY6smHZoa3R9dG9+i5GRjH92dmliYmVtfY+ZoJyHe31/gX12cG15gYF+enZ7h4h6c3d7gYeOk5mZinpvZmFkeoR/g5GVj4R2b295f4CDgX+AioyFf359d3p6dHqIko+BcGlsbXR6eYGPmJJ/b29zdoCLj5OSiIWDgIB+foB+fYF6bXN7eW9ob3uEhX9zZXqjln6DfnR+enSLnKCgnpKAa1NFTGWBmaOjp49dV3Bze5WZmJyRfnRhT1dlaG19jJidnaCdin1zbXBtaXJ5eX6BgYWIgH59fX+IkYyEhIN7e3Zvd4F+dHB2e4CFh4uOhXlza2Vve4ORnJiIe29lbX2HkpmWi3psaGx3foGAgIWMjoyLhX96cGVkb32Lj4qOj4h/dm1tbGxyeX6DiJGOh4eIgHRvaWZtdHuFi4iFgXtzdn6Di4yLioSAgHt6fn97en97c3N/ioiHgHp2c3p/fnt/jpF/d3d+mZaBbGiOiHuelX50YHBwT1R9hYWao4Q3K3CKgKOLiq6LYl55b57ElXNmb4+KcJOqwLOenHt6g2tpe3eKclBpbVlTUlRbZFdWc4iPnJ6VmJOThH+OfXJ0dI6hh4GgnZ6hb2mPin17aVtocmtobGV2dmJoc4yYiH+Ij3Zid52demx2i6qomaGZd2ZwfYSOi3pvgKOYXk1gfpaHcGRdYnqTnpWOjHtlaX99WlJ3gX1/dG90fYCSoJydoJaIfnt3dH+PkpKOgXltZmZmaH+YkYqIg313d3l2c3N2d3p7dnB0e3+AfX17dHR9gICHj46Kh4+WmpqamYVtYWxza2xyeYeRioGAfoWIfoCHh39waWVoYF1zf4SLlqGaindoYFRbbHuPo7Gxr6uZhXRlWVJPVGR2jqOsp5mKdGlmZnCBk5mSfWtkZGh0foOOlpKOi4F+fXBpb2xyeX2ImZyRgXZtaGh0h5aZjHtsYmBsgJOgoJN+aGRpbIGao6CPf3d0dnl+gH99enNyc3N0d3+Kj5KTjoN3bWxwd3+Dfnl5dnR6e4CFh4iRlYh+f3l2foSEgYWOjo6HgIBoMC1bksu1hWtpfn1rZH2ZnpiMipGYj3NSPkBUa3uRsbqljH19f3BoeYWMintsdoyTindvfo+MfWhhbX+Bd2xrcHZ0eoWOjIudrqqai3pvbGRdYGh3j5mRfW90d3NzdH2HkY+BeXNsaG1yd4qeqKWcjoN7bWFibH2KjpGOioeHf3JrcHR5fnpzcHB2gI6co6WahHBeV2BweXt+hY+RiICAhIN9eXZwbW12g5KZkoyIe2xpd4OEg399fYCDiI+MiH99fnNrb3Bvc3mBjo6RjHttbXmEjJGTk4VvWlpseoWSlY5/cGxyfYOHkpqckoF2bV1WYmtvfoeKi4F7gI6cnY5+cHuZnZGAYFBlfW1of46Sk5WHZUxbgZWShHpwe4WFjoyAd2JZYoGyyKpvR0lhdI6afllWg8fXt5lyS1tzaWVsfaXEq3pbSUVWb4GLi4SYqKSckaSdVzNpbTk+UmCk0bLIw6OkcyAWQFNwr+HVspxrMig6Woq3xLGVgGJPYXZ/i4h9cGJth6OrnYt7b3N/fn5/eWlhXllTYYCYoayxnXtiYoirqJaLhIWEaEhMW15zjp2kloSAenNsaXuKf3N9hHp7h4SEioN2b3J2fn92eoSLjId/hY+LhYB+gIF5cHN5f3+Ag4F5a2Fodn2BiI+Lf4qWi3pzc3mAjKGhg29mc4V3YnKOk4uHf3BteX+Iin1/jn1oaHKEkYh6b3N3eXdiYHeMjn+MnZOAgZmqoIVpV1tlcIOTo6eRc2JhZmVhYm1/nbarj319f4OPinRsa2RdZXSBhXt3g4SDgYSKf3N6hYWRmZiVmZaFd29zdmVbZmhsf5ikmIuMlYtze3lpgZOWcGxvWnp7bGtrbG2WnYqHjoR/kpiIhIR7eXlta15acoGKfnNyf4+KioyHgYGEg3+BkY5/d3N0bGl3jJyZmJODc21pZWt3iJaWkpiWhGlZWmVzdnuAe4SVj4WAfYySc0xNfp2joYVvfZidhGJecmBISUtSXW2HqMzVxbavrqiZZSIaOk1SXX293suxnnlJQE9mepOlpKuuoZN9YldaW1BPYW1/mqqhlpiWmpWBb2BeYFtTS1NpgYiMoaqqo5GHeWVeYGBrfYeZp6WVg3ZwbF5ZZGxvcn6EkaOurKSek4BpVFJWXnmVnZqRj4p2a3aKmI+IkpJ+dn56c3uEgHRsaWVlcn5+e3p7gIOEhYqPj4NrV1BWZHeMmJmYiIGIfnuEhIeSjIB9d293i5iak390b2BZZH+cpJaIhH52en99g4R+enNpYWJlbHqDjqGlk396ipOHc2Z3g4WAc2twhYiEjoVvb31tT0RbhZqSmp6DTyhSndnjtYBed52opZKOk2stJ095i4F6kayvp5V6WklJWW99iKO5tqiYg3RlUkxPTVBkhJ2hoJ2Vjn5vbW1veYSRlYyLkZGFcF5gbXBlaXJzcHOBmKihjHdib4+dnJiKe3lyZmlye4qOgXl3d4STlZKMhYGDio+Ph3pzeZOej3o+Gj1kfY6Th2RkelczR1lmoO7rvLmyr6uRQAEzVFqW0eTEoYg3DjZaitXkuoErAkhdiOPruaSENA49YIvPzrWcdFJPVlteaJG50cWro5NpNCEzTFdgdJy2spx6YWJzhJidna6sj2VAO0hJT2GMzt3DqIVZQUtkkb7PvpprMidFbZy8wbGBTDc7TGaHrsTAo3dTRVd3j6OooYpvYFpodoOTlYV0c3R3hZGOiH1pZV5PXouekod9cnJvbYinp5iFd3R5e4WTlX1mYFlmi6q2saCSgXRtaWtyb2tpa2lyhYRza2Vkb4ijr7Kkh3ZwbGlwfoB9d36LjIqIh35rZnKAiIuVmJORin1gYG1da4B+jI59gIWAenRybHeSlZGOhY6Wi4B7en19dHZ0bXR3gY6Rj3Brc3SOkX9/mLKoi5GSaDoiNlRPVGZpa36RpL68t7m1s6+qo4tZJR06T1mEzuC+pYhTKyxCV3CZtrqxnpF7YVZgcIOYoYVaSFJymauvqIRWRU9ojKWnilk2MElgf7bKuqWMh5GdqKWOdGxrcoSFem1bVFpmc3+LjoqPlZKMi4d7bGZyhZaamY6Ee21mZGRmZV1mdn1za3qEmqyupZJ+aGJpdH5/em9paXSHk5WSlZKKjJOWlop+dGtrc21rcHJ2fYSIkZyYhXlzcnBta2ZtfoeLj56jmod9fXp3dHNmXmZvdHt+foSFipKRkpiTin9taXJwbXuMlY+Ih4iDb3d9WktTZXaAh5aqqKGYkot+dHJ6dG9zdnl5e4WSlpOLgHZyc3Jsa32WmYBzdnB0gIWBfYGDem9ocoeSmJWIgX1wbXN6eW9oa3Z+i5mZkX9vZWBogJqcjn9zbWx5jJyck5GKgH16dm1mZGl2g5iop5N3YVplcHZ+hIeHhH+Di4qDfnt0cnZ/hIiFdmZkcoieo5mLemlmb3d/i4+Lf3Bpa3N7f4GAd3R3en+Ae3p/hY6Vlo6FfW9ma3eDhIOFgHR0e3+Lk4uDg352d3t7f4B9enNteX+DjJGKh4iAfX+DhXttYWRyeXt/f4CEhIOAend7fYCFg3l5f4uZmZKRin53cGhsdH+LhX97d3RwbXB2fYSFiIqKhH52cHBydn6LlpaRhXt5end0cnqLmJySe2VaV2R7jJidnI5+cGtte4SKj5GMgXt5dHR0cm10fn+DiIB2b29yd4GLkZGSjoV+d3N0fYWDgIuPipaKgI92VFZbXWZmZWRebHeLqrPAxLexqJ2ZhW9ZS0U7QEhPWnadtbe1r6iah350ZmVkXWFyeoiZlYqFhX9yZGFma3OInqGTi4iFfWteWWBve4SPnKShkX93eXpybXBzgI+ZmpF/aGBlcoGIiI+SiHdwb212f4ODf3t9iJaamY+Ig3lsZmZsdoSRjH1yc3p9eXt9en+IhHdyeYWOiICAgHp0dnl+hYh/cHB2f4eSmZGBdnB0d3d/gXt7fn+Dh4yMh350d3t7gYSFiIeDf4B5dHRvcnZ2e4yZk4FwaXaHj5ici3t0Zl1kdISKgX+DgYB/fYOLin9+hYeDfX2DhHtzcG1mZm1yfYiOk5WMgYB9fYeKhYB+fnptZW19gYePjIV+dG9seYuTkod9enNzfYuVkYeEhH96cmtobHB2gYqKh4yZlo+FenJvcHBraW90bWZ5jpidoKCcjnpoW2BzhIyHdGZob3aDkp6cin16b2RwiJWTmYqAgXNoa292e3d/j5GKiH92dnRtcHeAjIqAeXZwdHqEk5aZkoyOh31wZlpUXXOLmpqTi4GAgX55cHB2foWIiIuOhXltaGZvfYiOiIB6dnR2foyWk4t6ZWJpb32LnKOYhHlwZWl6hIR5iJOHgX10cnNydoeMd2RkfpGOjo6Mj4+Ld2hvfoBzeYB9gIWLj46KgHtyZmt0en13b3B5h4+TinJmbG9+i46YkYGLiH9/dGxte4+dnIp0ZmR2gH+Ad21tbG96i5OcpKSgkXplWV5vcGhla3uTpKSgmop3cHZ9eWZaV2mAc3eKlZyYin17eXRwc4GVo6egmIp3ZFtaXmx6eXN5gIeRnqOclYN6f3pmVldme4uOjJOamYp3bGRlbXJ5hIiOh3d7dHR/g4N+e32DjpqWh31ybHJvdIGIjo6DfoGBh31iV1ZgbHZ2a2hvepGrt7zEuq6rnYhrSz0+PkhXbJnAw7OWd15UV2FwiqSzsqeVeltEQExiiKy2saiVb0k7RFdvhaG5r4xrVFJdcpnHzrykinlvaWZlYWt3fYdwUGBPSIOBf6S3tqN3VnackmxyhX5yaHCDnqyjmZiLiI5tVmJydmlpfXNla2hkZW9/i5OTiIWOjoqOkYh/fYOIiJGloY6KgHBoWlJgdoGFf3Z5eXBpcHt6cnN+hZKZmJOKfXZ2eX19d32EiJGOgHuAi5iWhHJhYH6Sk5aVj3tkQCxgsczKuYRHKCw7SVdssYsldtH1zLG1q6+nkUsBIUdIU1Zyw/XMr6uaeTobQXSWlqzHll1SXV1ZUklvp7axnod5enJhYW2AmY52fZWqoIFlOytLYXSZsbGjk4yKkZOLdFdih5ZwO1CdoGxoj5KPqqqqsZx/i6Scf1pCO0xog4uAgIqDenlzdHRrYmhzgJikqqSVhXlrYmFocHNwb3qVmoyFenmAfnJvd4OKgXZ5hZKOd2hwiJKEbWJtgY+Sj4yKhX10c3R2e4GDg3tzen+Ij4qHjJGLf3+Hg4GKjI6Oin1lXl5eZG96f35+h46OjIiEj5KFeXZ7emxhYmtyfouPjI+Lh4ODhXptZml6hZGamI+Fe3l5c2ReZXOAjJaVjn5vaW99h4qKioF6cmtlaXmDjJOTk5mWh3tzbXN7gYyWlYuIfnJwc3RyaWJiZXKHkZacj4eBdGttdHN3gIycpJiFgHt2cGtteYCEhH19g4eIh4iLgXRzcmtiXmJwf4qSk4+TmIt6b290dHN6gIWMlZKIfnJpbXJwcn2OmZqRg3t5e4SHf36BfXByeXR0e4CBfn2Ejo+Fe3l+gX97f4B6cnB0eoOIg355dHZ9gYWIj5GEdnJydn5+eXl6foGDhYyPjIF3dHl+gIWLh4OBeXBsbXR7hIqKhH16d3t/f4GHh4R7b2hsdn+KjIeIioWEf3Zwb3N3e3t9fYCKjoyOiH9/f3p3en5+gX56fYOIjo+LfnJraHKDjJGRiH1wZGFvf4B/gH96eXZwc3l2bX2ZlYySjoCEjINwaHB5gIuPipKWjoB2cHBzbW1+h4R/end6foGEhIWPlY6HfnJ0hYh3cnZwb3Z3c3B2eoN9a3qTlY6OioBzbWxsdoGLlpN/bW9/kZqck4yHcl5aZGlsd4SOlY6Hj5GIg315eXZzdn1+foN/dHN3foSFf3RweYePj46RlYtzYmZzeX6EioqDfXt7fXdzeX2AhIN+d3l/f3d2dHZ5eX6IjIOAhH9/gX6AhIGBiIeAf4WRi350dHd3dHmAhIOBhIF9e3lwcnd6fYGHjI6Lh4SAeXd+gYGDgH53bW10eX6IkpOOhX56c2tve3p2fX56enN2jJaHc2RggJ2ajod9c4ORlZ2SeWVgZG92eoCHkpKFdGxra3mHhIeRj5KYk4V9dm9oaXB5g4eEf3Z2en2HkYiBhIeEgHdydHd5fYB7dnl6eYSLh4WBf4GAfXl0d3+Afn9+d3Nzdn2Fi4+TkY6KgXdvb29yeYCMkoyDd21tcnR3fYCEiIiHiIeBfXp6fX97d36EiIR6dnd9f3+EhH56foOHjI+Lg3l0enlvbXZ3c3ByeX+DhIqPi4B5fYGEhYSMlpGEeW1paWx+j46HgX16eXJtcnd6gYiKjIyHfnJpbHJ6gYSEioyFhYiMi4eBenZwa3B6e3uEh4OAg4SDhIODh4R/e3dyb21tcnmHj4WDi46HfnBmcn+Ee2toc4SPk5aYlY+Mi4h9a2FlaGhweoGLin55e4CBf3t5fYiPjIyIf3p5cmxwdHqHkpGLiISDg357dnZ6gYuKiId/cmhmbHR6e399d3l9fn+FiIqMi46IgX12dnd2enp5e3t7f4OFh4iFfnp7f4CAhIiMi4R/fnpya2tydHR5g4yKgH2AgX+AgYGHjIiAfXl5gH92dHZ6gYN+fYCDgYCBg4N9dnR7e3RyeYOOkYh+eXd2c3R/hYeHio+VjIGAhISAd29vbXJ3end5gYSFioyHf3t0dnZ3gYOBg4F+dHB9hYeEgH9/fnp5f4iOjoN6eXl0c3d/ioiDf3t5eXR2foiLhX55dHR5f4qRj4yDfX59eXZ3e3t5d3uBi46LhX95c3R9fn6Bf3dycnd6e3+DhYiKi4uHhIWEfXNsbHJ5foWOkY+MhXpsa3Rva3OAhYiMiIuOhXt6eW9teYSIh4WBf39+e3dzc3l/fnl+jJiVjoN6enRrb3qAf32AgYOEgYGDfXJwcHN+ioqFhYeIi4N7d3uAfXp+gX93dHuDhISDf3pyaW17hYSFjIuIg316e3p2cHR9g4qLi5GPhHt3cm1tcnRzfYOHjIqIh4WAend0c3R0eYCIiIeIiIiBend+h4iFf3d3d3R0d3Z3f4SFh4iHg399fX57dHJ6f3+Bj5yVhYCEe21rZWFocHp9gZGRh4GDg4OOkYeAgYGDgG9oc3t+em9teX96gY+Rko6Ee3Jwdnl6f4iOjo+TjoWEgHlkWXSHe29rXVNaW2uElau6wLyvoI6Ad3JlVE9MTVt7nrGxoIFoWlRXXm+Rp6unnpOIe3JzcnZ+fXt5cG93foqYmo56aGFla3Z+gYSAfn6BgYqWnJmRhXpvaWtvdn6HkZKKf3Zva21ydHuDhYSAe3t/gYGFhIGBgYCDhYqLh4B/fX17fX59fXl0cm9vbXeEh4qMhYCEgX9+d3J0eX2DiouLioiFg4N+foWEem90foiRg3Jva2lta2JlbXB6jJyhmYuMmJqKe3t7dHJ2eX2DiIiBen6AgH15e3dzdHd+gYqLgX59eXd7f3+DiIB6e3RweYOEfnp0eYSHhYuSk46FenB3f313b29taW15g4yOh4iIgYOIiIeHgX19f396en97cG1vdnd3f396f4N/iJqcjnl2fn10c3Z7g4uLhYF+fnuBhX90c32Dj5aIcFRPZXZsZneEioiFkZOToKGZlYh9dmhmZV5hcIGFf36HmqegkYCEioF/e3RsZGJoaW99iJGSi4N9cm15eXqKhX6De3B7jI6Ih4Nwa3l9foCDjIqAgIqIhHlsb3ZycHaAiIOEiIiLhX13eYOKhHpzcHJ6h4yKh4V/d3J2gIOIkpaVj4V+dmthZGlpcnN2h4qHkYeZmnRoSXK1kltaT0lZbK7RzsOvqJptMyU0TFpzvOrHnndSUFlkb5jDrIV6b15LQl2AkpaRg4eRiH9vWWaDjKO6tpyLhXqKlXJkVkdWZHBygJOepKCHa2ZyYHmZe3NzcmZrhX+BioiPmaikk4t7bGt6iouHdGlgXmVobXaBjI6Ki5OPiIB2eX9za29rZnSDhIOFhYWKgXl7hJKPh4R9e317gI6Ph4eDfX+Ih3RmZGtydHuFjo+Sjn9wbW93g4ODh4eBfXl+g397e3+BgH19fX2Ei4p+cmxlaHd/gX99fnt9f4GIkYuHg4CIhXuAhYR+cGxyc3KAjpGcjnZza2hvaX6ZhH59bIOWi4iLgIGEeX6RjHdsaGRte3d/jI+KgHdsaXB/h4qRlY9+cnuHiI6Vlo5/dHBsZFthcoOOlpiVj4yHgHt9e3l5cmhhWUxaeo6Mi4iKj46OlaCgnZiEcl5aYWt3eoWRlpJ7cGhhaXmTmJOaj4R7b2RbXWyHlpGcp56FZWBoZFtme5GjnJKMhHloWVdkbXuRpLGkh3RrZmuFlYqHgIWFbV1mh6ChoJyAUjQ0R1lmd4iWo6u2sqWgmZWPiIeLjod2WkE6RU9mlbKxoYFkU1NedoeLmaeooJaRindhU1JWXWZ2f4eWlpKTjouHf3p3dnd7fXuFiIWDeXJkW2FgaYCToaCTiHtwaXOEj5WVlYx5cm9sdHd3e3lweoWIk5mdp5Vpfo5/gZGdfk06YYx2aI5vRWx9c2lBc6qqtbzDtp2RjoFlQDZIW2+Hk5GBdHmFk4+Ok5mooIBUKzd7paqhgVMwPVdzlrzTxKN9VE1ph6Ooj2xLQElwq87Kr4paO015lZiIbEJBWXedrKyahIydpJ2FYUVJVmFsdIyklnZoZGh7ipignZGDg4yOioWBgIF7dnBlbIeYk46Me2hgYG1/jJWSjoBzdHp5c29tc4SSkoFvc39/enl7hY+LhHtyb3eOmIV9c2lzenNwb21vb3B0gI+apKSWkpKRlZiShGxaXmx2c29vdoeRkop3aWVpdn1/hIiMk5WSkYyIiIN0aGFdXWBpdHqEjIiHhX9/ipGMj4yDgH9zaXN/ipWSh39+enJtZmhzgY+Ti4N+d32Hh4WEeXBwb3B6hIqOko+Mh3t0cnJ0cnN7fXt/h46MjIiEgX19fXZoW2BrbW9zd3p+gIyaoKeknp2cmIVyXkxETGaHnaGlo5V+cHB2h5ylo49wTEJQWWJ9lZ6gknZeVmFve4SKgXmEkZOcnJKMg3tya3J+fXl7g4WFgHNtdoOHh4yFdmhzjo+BfYCHgXt0aGlvc36AfXt9hYySmpiLgH96d3p6enJpYWFvf4uWoKijinZ0dnNzgIR9dHB3e3R0d3qDjpKKfW1gZHmKmJWIgISMkpiVi4F9aV5oaGhyc3R7gYeOkpKVmZWMhHlybWttc3d5fX5/f3pybXJ7h5KMgXZsc3+FjpGLh4F7dHZ/ioV7e3t6dnJyeoqSk5OEdGtoZWhlbYeSlaCop52KcmRkaXB9iI6Ifm9obGl3i46Skoh9b2xteYV+dHd/iouRlpGHeXN3dHNzbWtwdoGZhHmKZm2WiIB9nn9/k2lwfX6DjIyDmKGSioB9f3dlV1NhaGt5gJaRiJOHe297j5aOh4iDfmVecnd/h4NygKGDUC8zU3OotZiVkpqytayvp5yZgEcdKEJNXYO508elgUIZMlBtp87KuqSHWjpBYoCap6CDbGVsiKu5rIxbNDA+Wn+js6FyRzo+T2yOtsi1mpGMiH96eX+Pjnp5hYd6bXB2fX5sW11rcHeEkqSlnZiLgYeIhIGAeXl7eXBbVmBkbXl2e4iOlpmYmI+LjIeDe3Rya2Rpdn2AgH12eoWKi5GVj397gYiAe396cmxpaXB7h5KRj4uMjoBzcnd0cG1zf4qMjJKWmI9+cmlpb2tzg5aOeWlbYGJ2jJqnsqeYj3p0fntzbWhLUml5nraunohsV11yiJmZkYp9b2lwen+Ah4iDh4eAc215gIWDg35ybXJ2dHN3e36BgHt9gYqVmpJ/en5/hYePlZKLgX1zZV5eaXN5dnaAi5WPg4B/d3N9gX5/foCHfXZ9g4N7dnuVno6KjoN0ZGFiXXKZlXZ0ZEtieoGMnZ2Wo6uomn9kXVtaZG99j6SupJWHeWtdYHB5gH92eXt5gJGTiIGBf3d0eX5+d3mAh497ZHNtaHp6eoiLj5ySh31ra3t6c3eBkZaWj4N7cGltdoSEg4uMgXJtbHN0bXmIj4+MkpWThXJta217hH1yfYuFenZ2c3R7e36Ij5KOg3RpZGZ3h46apKCYh3JhYW1zdHl+gH1+h4WAgYODiId9fXt0d3NteYSMj4yDenBoc3d5g46VjIF6dHd5fYuSi4N7dm9odIePj5KPgXlvZmZpcHN2g4uMkZWOg4SMhHNmbHR2eneAhICDgIGAgIWIg3Z0d32AhY6Oh3tzc3B0fYOMi4F+f4GDhYh+dHJydHJwe46MiIuEeXB3gYqRi31mZnB3fnt2eoqOjJOMe3d6e3Zyd3uElZiPjoNzZVtlfX9vXm+coI+MkZOckn9/em9aU2Jvg46RmZiHfoCDjJWamIdtXlteYWZtcHR6fnt6g46WmI+FhHt3fn5/gYeLhYB/e3Nzdnl+iIuHgXt5fYeHfnZycG9zeoGMlpOIgXdpaXZ/gH6Ah4qHg4OBd3R/hIF+fX+BfXt/gICBgH56d3p9e3d0dHd9hY+Vk4yHfnJpaG9zdH+Iio6OiIyKfnd3fXtya3J7gYqSmJqPeWhgaHeEjoyEfXNtbG90d4SWnZiIfXBoaXmLk5aVjoF6e36Af3l7d21mZWtzfoeSkoV/d3N0doOSmJqalop5Zl5ka3N3fYGHk5qZinpvZWh0f4eKiIN7eXZ0dnt/fXt+hIqHiIyMhHdvb3d7e4GFgYGIi4iEf3Zvb3J5gIWIg3d3f3t+i4d+h4R2cHR7e36Bg4B6dG9teYiMg4CDhYiFh4uVmYR0aWBhZXN+j52ZkX9zb2t2gIqRk4dyb3l0e4qVlYR0a2VmaXSIiIePhHeAfXZ9eoB/aWBpbXqPi4qVlY+ZoJaSjoR2YFpeYmlseoiYnaGlloyFenBkV1deaXuAipGKi4+Kf36EfnJwdHt9fYGKi4eBfXJtb3qBhIuKgH16dnZzeYSIhYGBg4SAenp/h4+Mh390cnZ6e35+f35/g4SBe3l6foGFhIWLh3l0dnR2dnR7g4GDiIuLh352cGliaHaAi5WSi4V+b2lye4eMioeAd3N3fX+Bg4GIkpmVi4R/dGhhYWt9iIuFgHt5eX2Bh4iHgYCAfXl2c3R9f359gIeLhX95cmttc3d7fYCKjIuKh4iKiIWEg355dnd6foGHi4qBeXNwcnuBhYWAfnt5d3Z2e36AgX55eX+DiIyHgXt2cGttd4SMjIyEf4GDhIOAgHt0cneDh4uPkYyBdmtiZnR+g4WFh4WFhYSBf396dHNwdH6Af4CAfX6Dh4OAe3d9gYCAg4GDhYN+fX9/fn6Bh4iEf3pzdHd0c3Z+g4B+gIqPi4d/enZwcHeBgHp5eXZ3foSHiIWBf3t5fYqSj4eAfnl0dn2HioF3dHBvdn+Hi4N6eXp6en+EjJOLfXpyZWtveoSHkY6BiIV2fX+BjIySmZOKe2tgZG95gIWOjH1tZWVma3aAiIuHhYN/fn5/hY6Pi4OAgX55c3J0eoOIiIuHgX96dnN3gIB9e3dyc3NzfYiKjIyIh4OAg4WHhYR+b2ZmbHZ/iIyPjoR+f4GDhIWBenJweoGEgYGIiIB+fn16enZyc3Jyc3d6e4CFhIF+f4WIhYGEhISFg4B7e39+gIF+enuAhIiLhYB+dm1tc3JzeXt+fnt6en1/gHpybWhrd4WWpbOypKCloZWFcFc+NEhgdpmxr52Hc2JdYnKDj5makXthU1Jab4+swL6ohVk3M0Vbe6XAtpl0UEJNZIGesrKklo6Li4yIg3lpaXJ5fX1wYltba4ejq52IdGtob36IhH55dHl5dHuFiIuSkYR7dHR9hZKWj4d/c2VhZWl0gIiLiIF6dnqAh4yPkYyDeW9scHN0e4WMko6EfXl5eXd7gISHhX96dHJzdn2AgIB+fX+BgYB/e3t+f4GFiIqHg39/gYN/fX+Df3dta3B3e3+EhYeKhYF+fX+Bh4qFgXp0c3N5foSPk4yEfnRrZGFod4eWnJiMiIN3cnR6ent+f39/gICAf3p2dnd5d3p7eXp7f4eEfoOHiIqLiIeFgH16ent+fnt+h4qFgHt5eXZydHp/g393d3p9f3+Di5KTj4iEgHdvaWhpcHqBio6OhYCBg4OBfndyfYGHgGhkdIB3eoeMhXt+g4WEhISDg4GEgHd0fYGDhISEhIB5d3RwcHJ2f4qPkY+Oh3tzb29ydHp9fXdzd36AgH6Di5GPi4+MgXlycHd7e36DhYWEgH15dHR+iI+Pin90aWRmcnuBhYuPioB5cnJ5fn5+fXt6f4OEhYeHh4WBf4CAe3l5dnJtb3R7hY6SjoN9eXd7gISIjo6Hfndta3J6gIWLj4t/dGxtdHqBi4+OiISBenZ6fXl0dHN3gIeOjouIhHt0d3p5b15ojJN7cmyDnod3foGFgH19f4SHg3d9hYiIdIuke15obWl3e4elsZx9a1tNVGlyd4+ssaSLd2Zre2hFSHektaeWoZJlSExeW2yFkaC1wbWllX95gYiLg21oYVJHQk9ieY6WoayqoJ2Sf3BdWl1hbX2Hi5KZkX5sYl1bYWVwfY6jr6+oloNyYFZZYGt/lqernodyZV5ib4OapaWcinZlYGZ2hJGWj4N+gYiHgHt5cGReZXmMnaOdkYF0a2Zpd4WMhHNkZGhtdH+IjouDgH5+hZGPioSAdm90e4CDg4OBe29tc3p/g4WFg4OFh4eEgHt3dnRyc3p/gIGFiIeEhISFhIF/fnZzdnRzdH6KlZmYkYiAend2cnB0e355eYCEfnNydnuFkZKEd3l7e32EhYF9ent5dH6HiId7ZWZ0eXp/hI6VlY57bXJ3f46YmI+HeWxscHd7fX6BhYN9dHJydHt/gIOKjoiAe3d2e4CHjo6Fh4V5bW1tdoGFhH9+gIB+fn9/hIF7ent+fXl3eoGFh4N/f4WKh4eHgHJhYmtzen6Fh4B6fYOKkZORi4qIhX95dG1pb3N0d3uAio6HhYeBenR0e4ODenqBhIOIjIyIfnZwa2tzdnR3gIqLiouPj4uEe3NwbGlweoWPjoN+fX16eYOHhYF+fX5+f355eX19end2dHRzc3uHj5WRiIR9en6Dg4CAfnp2dHd7foGDg4SHhYB+fX5/f4GDgYOEhYN7dHNzc3BwdH6Hjo6KhH99gIF/fXt7e3p6enl/f3l3eYCEhYiKh355d3BtcnZ+iIiBfn+Eh4ODhIqMh399eXNvbHJ9gH57e3+FjJKTko6He3Nvb29tcnuEjJKVkoqAc2loaW12f4qSk4h6dHJyd32BiIqFg4SEd2hiaHJ9h46Tk4h6bGt9hISLkot7dH2DiI+Rj4p/cmJdZHB6f4B7dnZ5foSOlpmRgHRwcG1sdH2Ag4ODhYuSmJOIfXZyc3d+hY6MhX95dHR3foCAf310c3l7enp+g4B7enl7fnt7gYeMjIeFhYSAfnt5d3d3d3d6foOHh4eHgHt6e3t7ent9fX5/g4WHioWAfX5+eXByeX16eXt+fn+EioqFgH13b21wdHuBh4+VkoyEf3t6fX5/gYN/fn5/f3lwb3N5gIeLi4yMh4B6dnN0eX19end3e4GFiIiBfXp5fX9+fX1+f359enl6gIeFgH5/g4eBf4OFhIF/fXt9f4B/end9gYB+fXp5en1+fXt9e36Dh4qMj4qDgH59eXBzen19fn+Af3t3dHNzc3qBiI6MhX15foSFgX99e3t5eoCDhISBgX55dHBvcnl+f4CFh4WDgYWLhYGAfnp9gH9/fX2AgH15fYCAgYB+fn+DiI6Oh35zbGhpbX6KiIiOi4R9dHBze4SLi4qLioN7dnR0d3t6e3t3dHRzd32AgYOIi4qFfnp5d3t/hIqKg315eX2AgYOEgX12cHB0e3+BhIeIh4OAgIOAe3l3d3p7f4OEhYWBe3l6fX19enl9gIWMjoqEgHtzcnN0d32Bg4OEgYSFhYOAfn15dnN0d32Ag4SHiIN9enl3d3uBhIGAgYGAfn59fXt7e4CHiIWDgH96c29wg5WHhI+Oh4ByZWRiYmxzfY6ZnZ6dmpOEc2FSUFtwh56urp2KdmBbZHaEiouPj4V3aGFpe4ePmpKBdmRebIOTkYqBendycHqFj46Ac210foqTlo9+bWRkdIiHg4h/dHN2gYuFgX5tbIGPjoqHi4FsbXdzfoWFlp6Mdmh3kZGHg4F6c2thYmllXmuFoauno5mDcGZlXmBvfYeIg356ent9g4eKi4R6cGttdoOTnJaMf3RtdoOLlZOIgHp6enl5e36BhYqMiH1vZWZveYOKiIR9dnR2en6BiI6KgX59ent+fnp3d32Bfnd3fX9+fn9/g4iKhH96eX5/e3t/gH9+d3R6g4WHioSBg4eLh356e4GDfXeBlohhW4R5V3mLgWlhgXZZfbrDs7Oli29LLDNUg7rLroVdTFdrgY+FdnJ5ip6onIR0YVdocoCSmpF+cmZrd4SLioSIlot9gYBmSD5Lcpahr7WYenJ7hYqOkaW6tqGHa1dQSERJVmaHpbOzoYt6aFtbYmZtgJigkXpoYWVvdnZ5enl7iJyopZiPfWRZV11yg5WnrKGThXlycmxlXl1mdH+KmJ6YhXd3gYeHipOakoFyaGl0eXJzeoCEg4OIjpiYj4V5a2FbYnB7gYWHgX5+eXZ+iJKSjIuHgHpzdHdzcnd9gIB+f4CBgYGBe21ma3R/hYyOioSAhIiKhH13dnRycnZ/iI6PjoqAe3p3c3mDh4OEgX16en2BhIiRj4V+cmRic4OHhX1/c1dsfnlwcHJzZFuIr6+vsa+zp5OKem1gVlNJTFNhf6G1taWSdk9FUmmImKWzr56HeWhbYnB5dHt+e3p6iqClnYVtVEdPYnqWrKiLa1RZcoCKlZiWk4p/enl3e4OMmZiEcmRibHeBhH52cG1rb3qAhYiEhYqIh4OBjpiTh4F+d3Nydn2EjJKVjH5tZGJdaXR6iI6Vlo+Ff2ZIR1RicoWYoKeonpqPfXd5cmFgZGt/jpOak4WEfWxrc4ORlpiOg3lwc3l+fXd9gYSBdGtrcn2Lj4uIfnJvc4COmaCah3NrbXR7gIOBf393cHN9h4eAfXt2bXB3fYSFiop/cnBzcGxzg4eFipGTko6FeXmAgYCBgH57eXp5d3Zzc3d+gIGEi4yHgHp2cnZ9gY6PioqFe3l9hYR6foqMenKLiG97h29vjpmMgYBvVldoa2t2fYOIemtwaUtNVm/B6Mqvur6xq5qFaUI0QD1La5rHqGhISWt/e4uPiJaHYnOyyqiTnpp7WV16ZUlTc5Wjk4N2a29zeoGSo5Vwb3d0eXNzgIOHmqidiHlwaV5icG9lZnaEjJKVmZaEbWJpc36Be3+Hh4d/e3+Di5GBa2Bod3l6e3qFk4uEh4qVlZWdjHuBi4h7YFZtgYuPj4h+bF1ecICKi4h5ZmBpfYqVlpKLdmJZVmaAmairnpGFc2FgZGZ0h4h+hYyDgIF0YWBocoqhq6+gkY+AbGFobGVpeX5/jKOqmoh5dHd0bGx+joyFiouBfnpwZGR0hIR9fX5wcH5/f3qRlXd+gXR0bUtJcIihsaOeoJ6elYBydnZvc3JpZGhweYGKjoiAhIN0cG1oaG15h5acnqShnJKBcltWZXN5foWMkouIhXtya2VhZWx0i5ianIhyaXB+i5KOh390bGl5i4+Tk4qLjoN3cmxmaXJ3f4WIj4d5cG10e3RpdISKhHp9fn6BhIqPk5OKh4N3eX13e4eDhI+TiGlhe39kYISei3Z2dl5gdnt6i6enoKiYc2ZmXnCEfXJsb3N2iJGIhIiFdmJmbG+LoI+SsZp5gIVteoVpcn1sZWt2g46YnJ2YgGtmbHJ+hYGAf31wYWR3jJqgoJiHbV5lcn6IkZORiH17e3Z6fXl6fXt9dmtmZW1zd3dpaXp3bXmHlqi6wLqzq6eae1M3Mj5NV3Ocs7qvkW1aUE1bbIelusCsi2tdXWV+jIp7aVdNT2+evMGvkXJPNjtWfrPW0rejh1o9OkhgdoOKlpKMlYuAg4N9a2Vsb3Z/j5ydnZiOgHp+gIiKdmtpaWZmc4OToJqId2ZaV1lrj6ennIx3YVRWZoCVnJaOhX50dHR3kaShnJF6XkE2Vo+IUExscGtve53A0sy5tbGspYtJEiBET16V5+Sxo3kwEzBQZqXg1behfkcsO2aexcirdDYdN2SazM6yi1IoMmGdxcGdXSAkQVJggLLHuqunq6+qoYppWV1rfZGSgGtUVnCEk52Od2FSS09kf5WhpZyIenR/j46Fg3ttWkJIZH6RpLGvpJF6aGFvg4R6cmhhYm15h5KSjoeLi4F7e32DioqMjo+Sj4BybGJdYml6j6OroY59bWxzeXt6dGxlZGVsf5OdpKCOh4SDhYV7YGFpZmlga4qWiIucmZiclZGdpZh/Yj0vOk1lksXTwaWBW0VEV3qasbOooIpgPTA9UmaFscvKuZ5/W0dHV2+FmaOciG1eZHODiI+ZkoNyZWFeYmh2jJianaChmox/d3JvbW1teYiOioiKgHRrXVtrfYyepJ6Wi4ByZF1ic3+Di5aZjHtycm1kZXmRoaWgk4FwYWRzh46BdnRzcnl/g4eFgX+AgYSBg4WAcmVdW2F2jpqgnpKEfoGIioeFiIqEe3Z2dHN0c2tiYGRpcICMh396f5GeoJmSkod7eXlwYWVpaWlrfYyTkpKWlZOPjIV7dHd/g3tyaWRmaXSBi5OTjIB2c3l7eX+FiIV7eXtzYVpgaXeRnp2enZiKgYeKgXtsWk1QYHOOp7OvmnpgV2R+kp2npZJ3XU1NUlpoeYygp6WekYR6cG12en2DhIN/dGxze36Bh4yRj4d7cmhiZnB6gY6gpaCYin1vZWlycnByc3BlW2V7laizs6SPc1tSWW2FmJ6gmYVvbX+ew65pPS83RElTUltmd4CEp77V0bq3sq+lgzkPK0VPVmyz99exr6CKPgEsS0xdecrvxKqHUzk6Wo7F4MWnklkiIEFhj87Zwaucej0gK0JSXoG2z8SvkWQ7M0hrjq7Atp6HgHdlYmt0gY+OhHtoVFJba3SDmp6SkZiHgIN3doCPiouWfmhyWjptloyFfoykmYNpYXN5eX6Fg32FhICFh4+ZinZ0cGVgaHOEk5KWlYh7ZVNTVmuEkpqYnJyIeneBj4+OjINvYFRSZHuKj5ihoJKEfW9mbXeBjpGMiIB/fnZtYVdicnuKk4yDf4CBgIiTk5OTi392aGFha3mHmaGhmoNsWUlJWm9+lqihmZOBd3uAh5KVkYt7ZllXYG+BlqShlYR7dG1sbXN5f4SEgISIhYWEfnR2gIiLh350c3R7hJGWlpKAbWBQT2Bzg46Rj46Hf35+gH95fouVlZGSjoBybG1maW9zhY6YkX1/gWlmjox+h3BgbXqEj5ydkX5wbG10iqCcjIWAdHJ3dHN5fX12doWOjIyKhH59c2ZofYBsW2Bre5mZnqeYjH5ya3CAhYN+eXZzc3Z6e36BhISAg4CAiI6SkYF2dnNsaW1zd3uDhYSDf4CBc2JmdIGPlpKMioWFgXl+g4SKiH50dHZwcHR/kpmTioWFfXNvbGtwe39/g4WBeW1rcHN0en+FioyIhIuPjIqHgHp6end6fn96dnd6f4CDkZmTg3Bra2VkbHuFi5KZlYh/eXZ2doCRkYd+b2FdYmVwfoGIiIGDipKdoaCZjn5sWlNaZXSDhYB/fn+EhIOHjIiBf39+gISIiIBzbG1td4uWmpODa1RSYG92fouVj4R/f4GEhYuRj4+IcmFocG90fX1+g399gYCIlY6HhYF3a2t2d3qEiouIhYOEioqEgHdvbGtyg4+Rko+LhHdpXl5mcn+HgX19fYGLkZidnZN7YlldZGtyd3+IjIqAeXuBh4SAh4+TkYRza29vc36Dh46Vi315d3BpaWx5hY+dnZiSh392cG1pbHR6gZGcloyEenJvb29zf4WAfnZyd3p3fYN7d3t+g4iOk5OLgHd2gIN2dndrZWZyiJqgnpaFfXRrcHt5foqFcmx6hJGPem13hIeEg4SHgHNkZHB6iI+MjoqAc2l5k5iSinpzcG1wdH6Dio+Ri3lpa3J5f4SHhYOFiIR/fXl5eXJwdnt9foOLjoV7dnd5d4GOkZGOiIiFe3d9g4R/enJvaWVvenp6gIeKjI+Oi4qIiId+b2ZodIGLi4ODgHNsb29zfYGHgGtwiIyHj5GHfnR6h4R+fn1/hYeEioVwZWltdICKj4+If4CHjIyDd21oaW96g4F/fn19foWOjoN7fn+Dh4OBgHZsaGZreYeSlZKOh4SAfoOHhYB6dHR2d3p+e3R3fn96en5+e31/f357fYGAfn9+f312d319gYiKiIF3bGtzgI6VmZyclYd7d3BmYGBmdoGKj4+FgISAeXuEiIiIh4WAe3t9enZzcnNwcH2Eg4iRj4iAeXZzcHN9iIiEhH95e39/end0eoB/hYyHfnl6eXZ7hIF7g4qEf4N/d3Nvc3t5c32Kj4+Mh4SEfnl7enl3dnp/h4yLhYB7eXl2d3p+hYqIhYGAgH97d3p7f4yTj4uKfm1hXWRtb3qMj4qIioF3fYV/fWBej6CRb2RveoN6fYqPjISOiHZ9fn+FfXR0e4GDg4CBhYWIhXtwaW12f4WLjoyMioV/d3d3cmxoaXN/gH+HioeIh4GAfndzfYeHg3+AhIeIgHdybXB3f312f4GHj4eDfnl7d3JsdoSEiIyKioV+e3N2foCBfnZ0gYN3e4GKkpKIgH17dnJ7f39/gIB6dHl/gICDhYWFg4OKi4F3eXlzdnRsb3N0g4x/bWyEjouVjn6BenqFgXlzdHltaW9ve4eTo5Z+cmRokrO6spaDgHdvZFlXXl5kgZ2aioSEhX5sWllvjqCsspNwcGJMXmlld6XHtaOVe21sa2JiaGtoa3uIi4qToaWlnIx/dF5XYmt2ipmZi3RmZGZweoGIioWFhH53dHZ0c3R5f4uTkYqFgICFi46OhXtycHN3foGEiIV7b3B+hICBgXt3c3Z/g4OFh4eEfnl2dnl6dnZ9gYGDi4+KhH92cHBwdH6Dh4iFg353dHR9h46Sj4N2b21vcnN6hIqHiIqAend0dHuDh4uRkYeAe3Nsa3aDi4uIioqHg4B9dnR5eXd6gISDgHt0dnd5en19fX+DiIuIgH1za3J9fnt9hZGVj4F7e3Rwdnl5fXt5en5/f4OHhYqKhIOFh4qIgHl2cmxra212gYeKjoiAfnt9g4R/e3p3eoCEh4yOioWEhIF7c2xtdHp9e3l7fn2Ah4qIh4F7dG9weYGLlp2Zi35za2Zrdnt+f3t7f396eoGFhIN+dnJ0gZGYj4d/dm1mZnKBiI6VlpKHbVZlfn5ycn6Ai52emp6ahHRwYllWWXCRqLGsnIh6bWxpZmhpaG9/jpaZlYp+c2hpcHR7gH6Ag4B9eXR2eX6IjI6MiIR3aWt3hY6Si4F/f316eXuEkZiPf2xeYWx0hZqgkX5tYGJpc4GOk5WRhIGHh4WOjIN5dHZzb290eXdzc32Dg4SKjoqEfnp9fXl6f4OIiIN7dnRzc29pdIqOiouIgX6Ag4CDgX9/fXp3c21tfoqLiIeEfn5+fYGLk5mRf21bWmJodISKiIqOj4yIhYeEfXZybXN2eX+FiIF/fnlzbXB6h4yOjoyHgHtybG1ye4GFiIyMjIiAe3ZydHp6dnR2en+Ag4iLiIF+f35+f4B/fXd2d3l+hIuPi4SEhH56dnJvb3J2en2Hk5GIhIGDfXRwdH+Dg4GAgYN/e4OKh4B+gHt2eX1+e3t9fX1+fXuBh4iIhYN/e319d3d9fnp6f4F+eoCFgX10c3t/fYCIjo6KhIB/fXdyc3Z0c3l/gICFh4iHh4WHioh/dnJwbWttdn2Bh4eDgX57foGHi4uHfnl5enl2dnqAhYWDhISAf4OEgYF/enRsa3eAf4GKjpGTj4R/fnlzbWtvd36HjIV9e35+end7gH9+fXt6en6Fi4uEf4B/eXN5g4SEjpKKfnd0cG9zfX5wZWZtc3SAj5iamqCopJJ6W01db3Z6foyPf3Z+h4SBi4x3ZGt3f3dsd4eRkoqIh316f3R0gIODf36Ki3twdIOFgHRtfpOZjGtCU4uTYmigpJ2Mg5aakYFsXllldHZzfZqnmIp9bWtkYXJ7dn+RmKGhj3lzdGhoc3qBh4eAenuIk46Ih4N7cmlten57fXp0doCHh4iDd3BscHl5eoqRi5KSg3+Df3p/hIeDe3l+e3NzdHaBjoyIhIB7dnJvb3aBi46Ig3t7gIB9eXmEi39zb3Jycnp/g4iKjIqDf31+fnp9g4WEg4GAhIN5cHJzc3J0en+Dio6Oi4yKgHp6g4d+dG9vcnR0c3Z7f4WMkZGMhHp3dHBzf4uPjouDfXp6gIeHgH96cm9sb3d/g4SOkYuHgHt0b210f4F+f4SEf35+f356en+DgX15e4SLh4N/dm1tb3B6hY6TlZaTi4WAd2tlaXR7f4SIiIF7enp7f3t3eX2Bg356gIuRiH99enZycnqEiIiFhIN/fX6Bh4eBfnp3e35+gISHgHp2dnuAf3t7e4GAhIyDf39iPT5ohIuMioiLgGtmeY+lsba2r6GShXRhVk1LT1ppeoiWoaehkYV+enlwc4B+en6DioeHg3NoZGJgXWFtg5KYnJyRhX96d3l7gISEiIyFe3RtaGVlbXuImJ2ck4N3dnuFjIuIhH99fn+Ag35zaWJlb32Fj5mdnJaKeW9tbG90dn1/foGEg4OBe3p5cGhtd36EioyKhISBeXNzcmxyhY6SoaSZln9WWmVNXYSKnaqDdHtwhZmapJmId1lFQUlrpMzMroNSMDlagaq2oYp5aW+Aio6Kg3p3fX9+eXBrbXN5f4F/eXuBi5iTg315dnmAiIiDd3Bwcnd+i5WWmJmMc2RlbHuHhHpzen15foiLgHN0hIqFiIqAe4B7b21ycHBwa3CBj5OamYyFh4qMh3loYmRygYqOi4iFgX59fXNtc290h4eDj5OTinNmaXJ7gIB+gH5+hIeOnJaLioN3dHZ6eXNtb32FgH5/enNoYGt0dHmLjo+aioB9b2V2iISWnn5ylaWrtZJyZFRUZmlmgJ2lo4xrU1Rkd4yamI+Aa2FhZHCEk5ydlYuDf3+Eh4iFenJzdnqAgHlybWlzg5GWj3RdWmBthJGPjIiBdHBydnuAh5GYk4+MjIuDfn16e31+hIqEeW9tcHJ2eXp9foGEhIOBf359d3l9fYGHiod/eX2Fj5GLhYB9ent6f4OAfn59fn96cGlmbHR5d3d9f317e3l6f4ODg4iOjo6MhH1+g4eIg3lzd32AhIN/dHOBhYeDent9gYODgYeMi4BwYllic4GMjoyKi4iFg4GHhHp3dHBpb3p/gYqMg3p5en1/f356eXuDi4yHgHlzc3Z2en9/g4WBf4OHh4WIhYB9en17eXp7e3l2dHByeX2DioyIiIqHhYWDfXl5d3R5fX+AhIeKjIyIgHt2c3N0e4GDf3+Hg3l5dnJtbHN/h4eHhYB9d3d9gX95dnaAi4yEhIqFfnp5gIiEf4CAgISFhYN+eXNwcHB0e4GDg390cHN5en+DgYiMhYCFhX6EiouMi4eHh4N6eXt6foeFe3JtbG90eoCFiIiIgHRvcnZ6e3p9eXBvdH6Fj5aOgXd0eoSKiouKh4F9foGIh4V/bWhwc2VhbW9yeYCPlo+AXk1tgZq9srGxnaShlZGHbVpNOzlCS1t0ncC9s6qcloh3bF5LQElkiJ2Zjn5rXllZXmVzkbPAua6YfWtZUlRif5yuoYRwYmFtf5mqp5N/dG90enqBhH15foCAf4CEhYV+c21wdnl6gIyWnaCZi4B3bWx2e31/fXd5cmZvcGhsd36DhYWEh4N6d3Z2eXp9gISEgHt+io6PjoR9e3t9gYWHiIN/hX5rZGBibXuHj5mZmZyalZGKfm9dVFZXYnaHnaGYjoeFhYB/fYCBe32Dio6Lh4F7d3l5eXNsZF5gaHB5f4OAf4WMjI+MhH97enl5eX2Bg4B9f4F9en+EioiHgXRvc3Z6gYiLjId9cm1zfoeLiIqMiod/c21tdHZshairoYt3cmlld4OHkZGSjnZmaWlibYeYnpySipKRUiFbdlZJQktUW2t+nMHTzsG3s7GqklksKDRMU2KMscjFj2ZiYWR0krPHwaycgWBMOj5aaXB+h46hpJaOin5vb3eBi4eDf3Nsd3t6h5KPh36AiIqOioF5ZFRPWXeHgH55e4BwVEdIVF5md5a2w8fEvbmzq5p0STMzQU1kkr7ArpqKbEg7T3KPp7OuoIhwW2aHnqynkXdJMDdLbJm5vauMa0k6RF6Dp768qo92ZGFlbX6KkpyclYp6ZmBka292e3Z2eXR2endydH+OmZyeoJN5Yl5hdIqWnZmFc2RdaXaElpiYloh/dGZeWVZedIecrrOsmIBzbG96gH1yaWt6iJWhoZV9ZWJiYmZseYiaoI9/eXl0bWxyf4N+gYB6cm93gJWaj4t9ZmRyh5iMeWttdHmEi5Wemo6Efnp5dnN6fn+DgX59dG9vaF1ic32Oo6SjnZOMhX1waWlrcnqDi4yHf39+eX+KkZWMeWxsbXeBh4qFfXNwb3Bzdnl6eXR2e3eAjI6Kg4OFjJOYin+Dg4F9dHR5f35wXlRWXmJ0k6Sglo+cpZyamZGEbFRIS1dtiKGxsaF/UjdBWmyAnbm9taGMhX97fn19dGFPT2F9na6omoNlTEVPZXuMkouFgH9+e36Fj46Ddm9yeX+Ij5GPi4R7d3Rvc3BygIN0doeMh4eKjIWDhX9yZWhziKeslYCIk35kYGhwf4yYkoiDdGZiZmxwa2yIoJ6WlpyKbGl6d2ZpfYqPjoqEfW1lZGVpdoWTlYFwbHJ6d2ltkZ2Fd3p+c4ijkYWRmZmlknB0aEw2N1ppbHuAlbO5r7O9tq6kkXM+FixIT2KZz9HBpYhsSSwyU3mnzNG3moFdPj5ZgKSyoH5dRD1PcJm8vaN3TD1JZouljmJFO0hddJnAzsGzp5qPi4d+b15XXW2EmKWkkn50dnp7dHZzZFticoWcqKeglYBraG9tZGBgXmRteoOTp7KypJJ7ZF1hZnKBlZ6ZhG9mbXd9iJaWjHlpYVpgdJWoq6SZi3lpZWRhYWJodoierKeWiHpwcG9tcG9vbXJ7hJGao6WRfm9kbXt/g4iBfn5zbXqFi5qnnpWLfm1dVltyg319ioeBiot9cnJyeXp9i4yDgYyPgG1lZGRvfYWKlZqVlZGEdmVeYW2EjISKhHuLmpWHdGhpbGhpe4yWmZGKg3NoaW1yfo6aoaSZgW1aTFdodoiRj4qHgHd6fYOLj4+Ie2tlcH6Fi4iBd3aAhIF9e399dHZ9gYiRj4uFe32FhH13dGxlZXB9h46MiouEf4B5bHOAgHpwcnp+g4qSkYiBfX+Af312dm1wiJaWkop+aFRacoCKj4uDe3R6jqWxmmtPbJ2rhT0bQoPM2ZZIJEeLusezfWmZtaB/V0REUGBkeZmcjpOanp2BYWaBjo6FfXuBhHReYXuIfmxhbIegnoVyZWV5jpaKa11/r7mTXkhgen1tc5iqoZqVemFmbGtwaVtvkZqZmJmZmZJ9ZFpgbXmAhIeKf3N3gYCBhYWEe21seYOHiIyPjoV7c3B0gIeEemhbYHKHkZGSmJmMem9zgI6SjIN6c2llaHB9hYyPi4R9eXZzcG12g4+PhXlyd4SKhIqVkX5raGxtdoSRkpKRhHp2cGhob3eBjpKPioiAdG1oaXeDhYiRkoV9dm1ob3+LnKGWjIN3cnZ0eXNvc3SEh4SBgIWBh4eDf35+eX19d3p2a2RsdHuIkZOShH1/gH+Af3pzdn6Fiod9cmx0f4ePj4qLj4p/dGxmdoqSkop5cHdzZWx7fYCDe295jpWZkX52c3BvfpajoJyIbVlMU2R5jp2np5qAa3J6d32Mi3NmXVthb4eVj4yDdHBye4qZmpaLd2ReZnmMmJqPf3p9eWlhb3d+h4WBhIiBjJaPiHttb3l7gJOglY6IemxhWV1te4OKiISBhYWAe3d6gYuPjIeEf3l6enRvdnl5iJKKhICAg31wbHR+ipqhf0JFbX2Ph3d7aUw+R1BXZYC34ODFt7axq49NGiVHUFlvsvbZsrKjkVAOJUhNV2SW4+i9sqqacDMoPl6HpKiho6OZh3RmXV5oa2tvc32BgH59endvaGZkYml9mLXHxLWnjmQ+NDtPbISgqKenlXlgW21/laidjot/ZlZbbHaHlpaYk4x9a2VhYGh6h5mknZWTh3NsbXB0e4ORmI5+d3dwZGBeZXR6eX6DhJKemI5/aWBsd36FioSDiIR9fYOIj5WTin1tYmFla3eEi4uIiIeFiIuFfnp7f4ODgH5yYVtaXWl5hZijoJiThXd2eX2DiI+RiH97f352dHNrYWBvgXt6hYeHgYCMj4eKnaqlmIFpUkdCRU9ihaWxq6OdkoeAd292gYiPk5OKc2BdW1lbYGl/mJ6doZaFe21dW2h2kayupZiBaVNNU1Rlg5mlnYuAfYqclYiAdH2HeWloa2tiYnOPrreumop9aVRSXWJvgJWdlpaZjHpyb3Z7c2l0hIqLg3Nma36HhIyZlY6BcmxvbWx5gIiRioOAfXd3fouRi4WDgHtvaGt0foGFhICEiIyMhH10bGx2f4WKioV+dGxpbXl/g4eLjoyMjIyHfXNvb3B2gIeFh4uIgHZwdnp6en1+gYyLhH99end9g4iKh4B9fXp0b2trbXmKlZiWj4B2enBiZnSHk5mYkYN2cHZ5c21teYGIjoF9h4t9cnp9enZ+iI6Wi36Ad2xvWmByeXqKnZiampKVhWxlXmZzeYF/hI+SjH1ydnl0fnt6iI6IiI+LfnNzb212eX+HhY6KdmlocnZ+jpaSh3loXmJwgZKVko6IgHt+f4N/en+FhX56enp3eXt6d3N2foOEiIuFg4B/fnl6f39/gIB+fYOKhHdoYmh2g5WglYV5cG9sbHqMnZ6MfXNsZmt0fX9+gISIiIiHgX9+f4OHiIWBf35+f396cGtvc3d6g4+WkYN5b2xze357fYOIjI6HfXZ0en9/e32BhIiOjoqBd21rcnR2f4OBfX19end6fX5/g4qSk4+Lh4B6dmxoaGt3hZKSh395b210fYSMlpyWjoh/c3N6b2mIlnlkYmhweYCOloh7fn1ydICHioqOk46FfnZycGxmbX6KkpOMjI+HeWVaWml0d4CKkpWSioR+cnB6h46SkpGLhYN6cG1wdnt9e3l0d3p5dnN3eXuDiIqFgYOFh4N9dnuDhIuPdkxQkaGKfXSAjouDgYWBgIB5e3+AfnNtcnZ6gZGamYx+c29vbGxye4SMjoyIg39/gIOHhHdrZmhygIuPj4qBe3RvbXN9hYqIhH57foOIh4GBioyDenRvb3Z6fYSKgXt9g4iEe3Rzd3t/g4WFhIN/eXZ5fX16e4CHiIB9fn19f4OBe3uAg4GEiIR/gYSAdGVlcnuIjIN6fYB2bXN/io+OjJGMf3t+gH95dnl5e3t5f4GAgYB/hYiDfX6BgX15enp2c3l9fn56enl3d3d7ipKPjIeBfnZyeX+EioqFf3l0dHp+g4qLh4GAfXdzdHqEi4yHfXRya2h0hJKYk4V9dnN2eXqAio6KgHdycHZ9gICBgYCEgXp6f4CAf35+f319e3Ryd36DiIiFhIiMjIeBgH57eXBrbHN+iI+OioiEfXZzc3Z7gY6Rh399f353dnp/f3l0eoCBgYB/f4CAgISFgHp6gISDgHt5fn99fn6Af3t+gIB/fX6AhISAg4WBfn1+fYCBe3d5enl5e4CFgX59gIB/gICAgICAgYGBgH9+gYeDgH99e3p9g4iDgH9+gICAd21zeXl9gH9+gIGAgHp6e4CIi4yIhYeBfXZ0e4CAfXl2dnp/gIWIhYSBfXRwbG93foOFhIGBhIeFhYiHgX55dHN3fYCAgICFioiBe3d5en+Ag4SBfXZ5fX5/gIB+fn19enp9f4CBgICAf4CEh4eBf3+AhISAi5GAdGtpb2tkb359c21we4OBgZOot7WdhYCdp35UXXdZNElsgIWAnb2uj3leWmVwf5GVkZKRhXlkVF1zhJGYmI+Oh3deTE1aaYCYpKeYgG1sd4Wcq6qZgGhbWmF3kqCZhHRrYmBzjp6ZiHtpYmhzgY6Ffnl5foWMi4N6bWhtfoiVnqCWiHZiXWFhZXSFlp6YiIB2c3R0eYCLmJiRjIqAenl0b3N6enR0eX+AgH6AgH+AgIB/f4CAg4eAd3N3gIGAf3+AgH9+fX+FioiDf3+EhYB5dHZ7gIGEg4B9e3Zwc3p+gIOBgYOFhH99gIGAf3+AgIB/fX5+e3p6e3+AgYSHh4WDg4GAfn15cnd/eXB5hIWAg4WEgH55dnd2cnN7gYeDgYN9dn+IjoyLi4qDem9mZWt5gISBgIOIi5KTioGAfXdyb3N7fn5+gIuPjIeEg4BzaGl0eXt7f4OHiIF/fn5/gIGDgYCBgYB9eXp+gISDgHlzb292en19f4OIjIqDfnl5e4CIi4eDgHt2cnJ2e4OKiouOjoqFgX12bWtsb3aAhYqIgHdzc3eAiJGSjIiDfXRvcHd/gIOHhYWEgICAfXl7fXdycnmAgYCAf356en2BiIyLgHdye4CAgYWHgYB5c3dzgI6RkpGIgIB6dnl7fX2Fg3NwcGhhYWRseYGPnKesq6ediHRgUlRkdoSOj5WPf29scnJ2gIiVmpWIg35ya295fnl3gIOIgHp5d3+EgH6ElZKAd3uAeVQ9Vn2PiICEhYqEgJOqtbWlk3thV1dWWml2f4qOh357g4WAe36EkZaSjIB5dm9oZWt5hIOAgIOEioyFgYB2b2xlbH2AhY+Ri4B0c4CEh4qFgHt2bG96gIeLg3t6gYeAf4SFhIWDf3l2d3l3e4GLi4WDgYF/fX+AfXl3dnZ6gIiLgX16cmZiZHKAiI+SlZWIgIqOiIV/cnJzdn2Eh4GAgH53dG9rcnuAgISIh4F5cnuBhYiBdHqSnJGAcmtycmxwd4CLhIOIjIuFgH17foCAgIGEhYB6dnl7end7hIqEgICEgHl5eXp6en+Afnp9fnp2dnuDioiFjJKPjIeDfXR6gIB6c3J5fnZ2gIF+f3+AgH6AgH56d3p7fX+AhYqLjIyKhIB+fX9/gIGDfXRvb3N2e319e3+AgH59f4CEjo+LioR/fn5/fnpzbHJ6gIOEhIOAgIeBdnN/ipKRcEJXi2Q+cJisvry3saSVc0w5N0RWZI/V2bKcelRAQlp7rMq3p49lRDpEYIChtaqPgGZXYnJ5eY6nnY+LemVdZn2Og2xla3qEkZyMdm13iJqdmZmOe3BvaF5hbIOcqKSSf29pb3NzdHR0e32Ajo+BfX+EgHRoaXeEj5yjno56cGlma3R3eXl3fYSKioiIjIuBenqAhYWBfnRpYmZ0gIuVmZmMfW9paGt6iIyEfXl0cnaAjJOVkYuEgIB6dHJyeYCEio6PiH92cGhmb3uDiIuLg3tzcHeAg4OLiHt3eXl7gIGAhYuLi4yKgYeKhYOAd2hXTF13i5yRfYSPdmhdUlRaeYyjt6+ysaulmYhhRzs2TFtrns/Os51/RCc7V3Ohys62nYBHKDpUbJbAwbKWclZPU2uLqrOjh29eVFprd4CFkZ2jnI5+a1tXaYCWmox3ZF1gcICLkYyHhIB9gH99gYWIjIyIioiAe3dvcnd+io+FdF1oc150h4STnp2dnpN/Yk9NT153lrKzoIpzWVNigJ6sqJmAZFRacIqcnottWlZgd4uYlYp/dHN3gIiKhHlwcnqFjI6KhIGBi5OMfnNtcn2BgYB7cm1zeYCIjoyIgH59d3Nzd36DiouIgHdwdn2DioqIiISFgX9+c212e4CIh4CAgXlyc3NvaWtveX1/hYqMjIiMjIiMjoeFhYd5b3d6gY+SiH15c3OAgYCDhX9zaW90d4B2a3N5eYuhmYF5c3NzeYOLi4iAfYOAdnJ5gYeKj5GSi4F6eXZvc29kfZWHgH93gYqAh46Ad3BpbXd+gYSAgIeIhYiIh4uPioN/e3lzbW92e4GOjn96eXBraXB5hI+LkZmIenNsbXaAiIeAgYSAeXl+iI+HgH95dHZ3dnl7fYCFiIeDfXt/g4qIhYOAdm1veYCHi4uLiIeFhIB6d3d7fX17eX2Ag4SDfnZ2dHN7f36AgHp6gIB+e3p7f4CBh4SAgIB+e3+Bh4iFhYeFgH15dnR0eoCAgH99en+Hi4eBfn17e3+AgH16d3d6e3+Ei5GRioB/fXp6fYCHh31zb21ydHZ/h4eHjo+HgH55dHZ0cnd5d32Dio+Ri4OAgYB+gICAh4d+d3Jvc3p+gYF/e319e3+FjpKLgHlyb3Byc3uDhIOBgYGAfXp+f3+Af4CAfn2Ah46RkYyHemxrcHN3fYCDhIB+gIeKjo+Og3RlXWFsd4SVnJaOiIB0b290fYCAgIGEh4WBgH2AgXlra3NzeoWIhICAh4uHgICAgIGLlY+Bc2ZiZGx0gIyTj4iAen2Ag4B9enp7enl+iI6KioiEgHp5gIF/e3t6dHJze4CBhYN+dHaAhYB9foB/f4CDgYGDgH+Af3l5f4eOj4uFg4OBhIN6cHJtZm10cnZ9hYd3cndzc3NveoqZo6iqrq+ooZN3VkA+SVdpiq66sp2AYk9HUmZ5jJ2gmo6AdnBzfoqSjH1vZVlddpGrsqWTfV1LUGF3iKO3tqGHd21mZm16gYeIhYqMgHZsZmhrb3J7hYWMjoVvS0FZcoGMna61ubKsqqehlW0+OkJMV1togJKepaGTfmxoZWJlcI+usaulnZKFeW1iW15ocnuMnJaFemxpcnmAg4WLioCAhYR5cHl/f3+Ae3Zva293f4WFgICMlpmViH13c2xra2ZmcoCOnJ6enpmMgHRrZWlveoOFhISEioyMh4R/e3t5eX2AgIWDe29obXd7gIB/gIB+f4SFgYB/fX5/f4CBgHtwa3J7hYuIh4eEgIB9e3ZvbGlve4OMmJ2Zk4+OiIF7cGtrbHJ+h46MjouDe3Bsa2lpcHqBi5GRk5GLhYF/e3t/gH12cHJ2ent7f352dHqBjpWOhYB+eXd7gIiLioiEfnl0c3R0dHZ7gIOFi4yIhYSAfXt5dnl6foCDgH5+fXt7e31/hIuLhYCAgYOAgIOAenBsb3qDi4+MhYF+enp7dnN5enZ7gIOKi4SEhIB7dG1wf4iMkZGSj3+BhF1hdGZ6ellWZW97jKGsrLOxpZ2Le2ZUSU1gb3uOoaidhHd2cnJ2gIWAdm9wdoCLkpaSjoV5cGxsdoWOi4yOioV/dHR2cnJ2dnJsbHB3gIWLkpqWjoR5bGlvdH2BhYuTkY6MioSBgH15eX2BhIB3dHNycnZ9g4iKioeAe3l2d3l6eXd5d3t/gISFh4iHg4CBhYiIiIN/fn13d3ZydHd+hIqKh4B5cnN6f4CBg4SDgH15eXt+gIOHhIB9eXZzdn2DioqIh4SAfn17gISHhYB9eXp9gISEf3t2cnZ6fX+AgICDgYCAgH+Ag4eKioeDfnd0dnNzeoGOmJOKhHNoZGB3gXR9gIGVloWEgHN0ioh3hYRrbXRzbWVyf4uanaSein9/f4CMin52e4B5doGOhXpwWlZlXlpyfWhogI+go6qnmZWToa6nnJJzQClCVltvoMvApZZ5SDNEW22OucezoZmBUzRBVm2KqrGhhGtdXmuAk52ZhW9ZT1pwhJ2jjGlQT1t0mbrFt6SZflpSXm9+gH16d3mEkpqakoh9b2Rmb3mEkpOVk4uDgHt5f4B/gIB5b2hlaXB9jJWWkoR7b2hvf4iOkZKLfnRpZG1+jJygmpOMgHlzcnN5fX+Bg4B6d3ZwbXR9gIWIhIOAgYSEgH9+e3l5eXl6f4OIiIiKiIB7d3Rydnl+h4uLiIeIhYCAfn15dnR5f4CBgYSEf3l2dnd9gIB/f3p0dHuAi5aShICAeXRydH+RjICEenJ6d3SAjJGZmJGKgXlmYWt0en57foF/dHN2bGx/k5mRkpOMhXp5gISDenR0bGhra3OAjJWWk5GPjIeDgICDg350ZltdZnqIj5KYmI+FfXBpZGRsd4OMjouMioeFhYWBfnt2dHZ3fYOIh4iBeXNsa3B9h5GYmZGHgHl0cm9sa3B7gIWMjIiDfX2AhIiBe3l0c3d7fn+AgH+Di46PkYuKioN+enZ3enp5c3J3e32AhYyMh4GAfXRwbGxvd4CIjI6PjIuIiIWAfn5+fXp6d3Z5d3l/gIOAent+gIB6dnp+gIOLjIuFgX9+fX5+gIOAf3t7e32AgYODhIOAfnp2dHN0dnZ7gYeLjIyPjIWAe3RzfYCAf3p2dnd6f4eMkpOPh35zbWttdHqAjo+Hh4iDf31yb213jICAmYx0enZ0g3p9gXp7foB+f4B7en+AhIWBgHp6gIODh4iFg4N+dG1yeoCKjo6FenZsbH2FioiDfnZ2dnqAhYuLh4WBgICBg4F7dHNtc36Bh4uIg4B+dm1zg46SjoN9d3Nvc3mAh4WAe32AenJygI+WkoyKhH96enp+f35+foCDh4eOjHZsdn6BgHplUlloeYGImaWopZmSjIF7c21wb2tra296gIeFfnR2gI+Rh4N+c292g46SkpWTioB3bGVhZnJ6gIeOjoiBfn5/gIGBgX9+e36AenN9hI6SjoV7dHd6fYCAgIOFgHd0en6AhIWFhISAenp9fX16eXl+g4SDg399fn5/hIeEgYB+gIeIh4B6cGtscnmAg4GDgHt3dnd6foCDiIyOjoqIh4OAgIF+d3d/gX56fX59e3l0bGhrd4OLmKGdk4yHfnd0cnmAg317gHp0foCOjntzgYWAg4B+enRydH6Lin99end/f3Ryd3p7foSRnJmOioB3cG9wc3uAio+RjH52cnN3gIWDgICAfX1/gYSDgH1zcnd/h4qOk46Ef3t2cnZ6fYCFioqFgHp5d3l+f4CAe3Rzd3uAhYqKhYB9e36Ag4iLhH57eXZ0dHd+hYqKh4N+fn59foGEhIB7dnlzcHJ0gYeHi4OBiIWHioB7d3N3e319fX53e36DioySk4+HfnJtb3N5gISKj4+MioWDfndva2xweYGHjI6MioSBfnl5dHR0dHd9f4GDgIB+end3e4CFi4yPjoV6cnN3en6Ag4F9e36AhIWHiIWDgICDhIF6cnBwb29scoOPlZWPh4N/fn6AgH59foCEg4GAe3dzdHZ5f4eLh4B/f4CAgIGAfnl2eYCFiIWBe3l5eX2DhYeFg4GAeW1tcnZ5foeKj5OTj4V9dnBsb3Z7gYeKioiKhH56c2xscnqDhH9/jJ6PeX2AfnuFlZmVmJ2WbzMzWV5pZl5iaYOrwLmupaOjoJqLZUE+TVteZHmv0rKgoJiRaS06WlphYmiIx86noI9wYWJlZXKIiIeSi3ltZnOEkY5/e3p0e4uSjIN5cG1pZmZwg5ioq6OjoZmHb1tZW2FeYH+lqJaIc15ka3KBjIyTpaiciHJrdn59dnN3foeIfnNzfouRi4B6fX5zaGlzf4qOkZaTh3Zsc3l6fX6Di4uLhYB6dnNwcHJ3e3l0c3uHjpGPjI6TjIB7fYCAe3R0eXdzeYCAfn1+f357gJGamJWSjoNzYVpha3N6fX6AhYuLi4qHhYWAenN2foGBgYGAfXdzcHByeoqVlZWYlodza29zc3d5cnl+eYCTlpWLc11zjJGAaG+MnIh/jo+Afn97cnB9g4B6e359eXqAgH5/g4eDgH9+gIiMhXtydHdydH2EjpKKf3p5d3N0fYWPkoyFgHZsdISTlYyAcGlyfX96dnJyfYeSlYyEfndyc3+Hh4SEi5WVin1sZGZve4SMlZKHgHpzb295gIOEg4B9dnZ9hIqLh393dHuEh4SDgX96c3J6hIqEgH59gYiHf3d3eXd2eYGKjoyKhIB9end2dHR3e4CIj4uEgYOEgYCAgYWEfW9kZW95hJOWk46Fem9tcnZ7gIeLi4SAf3lzd3p7fX+Af36BiIyLhIGEhYF/e3p5c3BzeoGHiISBhISAfoCFhIB/e3d5ent/gICAgH9/fnp6fYGEh4eDgH9/f355eX2BhIOBgYB7fX9/fn1+f35+gIWIh4SAgH15eXt9foGHiIF/enBtdn2BhYiMj46Ffnl5en17d3l+gYB9fX+AgYB/fX+AgYeIhYF9dnNydn6DhIGBgX59f39/gYSEhISAf39/f319fX59d3l9f39/gIGEhH97foGKjouDf316d3Z3e39/gIGEh4SDg4GAe3d3eYCFgH+AgYSAfX2Ag4F6cnZ/g4SBfn59f4F5bGVpfYGAgYOIj5mdmpaOfWhaV2FvgJKZlot/dHJ5f4ucoJmMfXJpZWhyeoGLj4yIgHlzcHJ5gIGHioiDgH99enp9fX6AgX96e4CEhIF/gICAhISEhH5zdHl7foCBgYOBgYCAgIB/fX59e3p6e4CDh4iKiIF6eXl5dnd9hIiHgH1/gIB9fn+AgYOEg4F/foCDhISEgX99fXl2c3J5hYuIiIF9f312dnl9gYSEgYCBhIB+e3p7fX+BhIeIh4R/fX59eXl5eX1+end5e4CFiIiFgH9+fn+Ag4WEhISEgX9+fXt7f4GDgYGBgYB/fn59fX99end2en1/gICBhIiHg4CAgYGAgICAgH+AhIN/enl7foCBgYB9e31/f39/fX+AgH9/gIWHf3Jrc4CKjIWAgYWFf3Z0eX6BiIyOjoiAfnt6fXl2dnt9fn95fYF7d3R7jJWMgYGAf3t+f3l9gH15dnt/hIB/hHl5g4GFioiMjo+KgHpyc3d3e39/gX92eYCEhYN7dnl/f3t7f4SKiIF7d3l6d3t/gYqMkZGMioB9eXd/hISBf36AgHtzdH9/fXp0cGtzhY6LlaCWgGRNVmt0eXmVsq+hinl9kpaBbWZwcmJaaIqnpIh9g46OgXt0b2lte4eRjoyMiH9ya2xwdHZ3e3+IkYyFg4eIgXp0d4CBgISFh4uHfnZvbG1vc3uBh4WBhY6SkYd9eXp7e316eX+Eg4GBg4WEg4OFh4eHgH57eXd0c3ByeoCBg4F6cnZ+fnt6gIqRjoN+ent7en2Bh46Rj4uFg4OAenZ3f4GBgHlzdnp/g4GBgX52c3RwbW9wfYeKkZiTkY+RlZaRg21XUFpoeZixqpN3YVtgaXeFlqOglYNtW1pofZGgo52RfmZaXWl5hZOZj35rXmBsf5KenpiPhH+AipGMhHtwbW9yen9+end6gIiOjIiBfnp7enZ5e3t7foGAe3Z0eoCIkY+HgX13d3l+gYOBf35/gICAgYGAf3t3eXqAiI6Lg4CAgX56f4GAfn6Dh4N7dnZ5foCBg4GAfn1+fn2AhIWKjIiDgH16dHN0dHp7fYCEg4OBfXl2eX+Fi4yLi4uHgX15d3d9gIOEh4iHgHl5fXp5d3d9gYeKiIN+fXp3d3p6ent9f4GEgH+BioyMioSAfXd5foCEiIWDhH95d3Nzd3p+gYWIiISEgHlzdHqBh4eHhIF9d3R3e3+EiIWEg4B9dnR7gICDhIODgYOBf3+AgYOEg397d3d0d3p9gYiKiIR+dnByd36BhISIioeAfn+Ag4SDgH59fX5/f4GKiH93doCIe3Z5ZV5vf4CLnpyWlpKKgXlrXl1kcoeep5qLfWxkZGhzgIqVnZiLfWtla3R/i5OTjoeAend2c3qDh4WHhYF/dGxtdoGLjoqAdm1weoSLhYOKjod/eXNzc3R5foSOjoiEgH59fn5+fX1/gIB/gYN/enl7gIF/f4CDiIiBfn59d3l/hYqFgIB7dnl/hY+OjIqEgX93cnJ0d3Z0eoCIjIqEgYGAfnt6fYCAgIB/fXl0dn6AgIGFiIuLhICAf313dnt/g4F+e3p7e36BhIWFg4F+d3Z7gYWKiIqMgXJvdnl7fn2BiIR/hId7c3BweYCDhYyTh4STko6MjIR+emthYGJsfYuWlYqDfndzcGx2h5aemYp+bFtaZneLmp6Zjn9tZWlyfoyWmZaLf2xgYm97h4+Rj46MhYB7ent9e3t+hIeBd3Bwd36Af3Nve4B+gIqOiISDg4GBgYSIhYOBgH9/fnp2dn2DhIGEiISAfXt7e3l2d3t9e3t+fXt/gH+Ag4eLjIqKhH6Af3p+gICDgH+AhYWAgYB9f316enp7f4CAgYB+enRycnR3e4OIiIiIh4F+e32DiI6OhIB5c3J2f4WOkYuDemxkZm97hIyRjIN7dnd/hYeEhISBgYWIiIV/enl6fYOIioR/eXJwdHp/gH9+e3p5d32AhISDhYiEgIGDg4ODhIWKh3Rha4OKbF6AmIF7kpGOiH2HhXpvcnp7fX+AfXd6fXt7foOIi46KhYOEg35+gIB/gYB/f317e39/fn2AgX59gIF/e3Z3enl5foGAgYWHiIeHhH53en5+foOIg3l3fX6AgIGDd2BkdICHgICEi5yek4uEh5OSioB2a2lta29ycnmDj5mclY6KgHl2d3t+eXJwcnR3ent9f4GEfnR0fouSk5GOioB0a2lwdn+IjI+MhYWAeXd0dH6Dh4qDe3t+fX17eXt9fYCDhIeLjo+OiIGAgYCAf3+AgH9/fnp2dHd7foCDf3t6eXd5fYGHiIqFf3l0dnp/hYWAgISFgYCBgYGAf317fXt3eX2AgYCBg4B7ent+gICDhISFhYB9f4GAgICAg4SEg4SFh4SDgH15eX2AgYOFhYF+fXt6d3Z5f355en15d3p9gIODg4SFg4CAg4ODgH59end6fn+Af3+BhYWDhIiHgHt2dHZ6foOHhYGAgIOHiIWEgYCAfnp3eXt9foCEh4eEf3t3dn1/gIB7e3+Eh4B6dnd7hIiHhYSEgX9/fn5/f4CBgH16d3l7e31+f4CAgIOEgICAgICBgYCAgYB/gIODg4OHioeBgIB+e3l6fX9/fXp6fXt5fX6AgYOBgICAf35/f3+AgYOEhIGAgIB/fn19gICAgICAgH9/gIGAgH9/fn+Af3t6fX+Ag4GAf319gIWKi4iFg4B+enl+gYWFgH15ent9gIWHgH15dHN2en6AgYSEgH9/gICDh4eDgH5+fX19enp9fn+AgIGDg4SEgYCAgH5+gICAg4SDgYCAgH57enuAgISIi4eAenBwfoB9gIB9gICBg4B/f35/fYCBgH19gIB+eneAh4iFgICBhYWAfXp/gH13d36AhIiFgX59fX2AhIeIh4OAgYOAfnt7gIGBf3+AgH53c3N3f4OBf4CDh4eDgH1+gYiLh31ydH2Afnt5ent5d3l9e3Z3d3uEjpmdnJyZk4t7Zl1dYmxzhJyhoJiLfWRaYWx3g5agnZKHgYB9enZydHd3d3l/h4+YmJKHc2BaYWtzgZahoJiKeWlmbXeAiIqIgXl0e4WMk5WOg3dvbW1wfYeRk4uBeWtrc3uIj4yRlYyBgH95bGRvd3aAi4+LhYN+cGl0d2Jib3mFiIWFj5iYnKCYlpOPg2xXVmFpa299k6CZk4+HfXJwcHmDiIeIi4+Ph4BzbG9raGtyfoeLi4+PhXtyb3SAh46VmJWPhXltaWt0en6AhIeEf3d0eXt+gIOHh4WAfXl3d3d5en6BhIeKi4yOjouKg3pyb3B5g4eKjIqEf3dzc3l+gYeLiIF7d3Jvc3l/gICFiIeFg4B/fXt7gIOHiIeEgHt0b3B3f4CAg4SEhIGBg4SBf3+AgYSFhYeFhIB6dHR2dnl6e3+DhYWFg4B/gICDg4WHh4R/eXd5en19e31+fn19fn19foCBg4SFhYB+fYCBgH9/f3+Ag4GBg4SFhYSBgH9/gIB/fXl0dHp/gICDg4SEg4GBgIB/fXl7e32Ag4eHg353dHR5fYOKi4qEgH5+fn19foCDg4GAgH59e32AgYF/fX6AhIB+fn6AgYCAhYWAfXl5e32AhIOEiIV7cnBwdn1/g4eLkpGIgX96eXt6d3NydHqAhYuPjoqEf3l3foOHh4ODg399e31+f4CBgYB+fX57enp7fX19fX1+foCEiISAf4CEhYSBgH56dnR3eXp+gISHiIiFg4B/gIB/fn16eXl7gIeLi4eEgX59f4B/f4CAfnp2dnd9f4CBgYB+e3t9f4CDhYeFhIN+enl5eX6DhYeEfnp5dHR7fX19hJWRe2+BnJmIfXeBh3lscH+Ok4yIg3NhaXpzcI+ojl5igGhpf5ijjpaPb21+gY6SgH2Efmhwfn2DgGhwh4F5foeLjoyAfYOHgH2AgX19gYB2eX96cn2PjoSPmYNydG9ibIWYko6Rh4B7b2t3g4B5dn6FhYOHi4N6d3Nwe4ySgHSAgX6Ah46KhYB9foCAgISHhIB5c3eAgYOOi3t3d3Btcn2AfoCHh4SFiIqLj5GOh3twb3J0dHp9f4SHhIGAgIGBfnp6fX6AgYeIhIGBf3t9f4OFg4ODgICAfXqAhYeBenBvcnd6e3+BhYuPjo6VlY+IgHNhYGt0gZWZlox9cm92g46TjoNzaGlygI+ZlYqAcGl3h5GOh390bHJ3eoCFgX53e4GDhYWBgIOIiISDgHtzdoGEhIuLhIB/fXl+gH5+c2ZtcnOAi4N9hIuRk5GRlpaTkYh7ZV1ka3B3i6Sjlo6Ec2ViZm1zeoOPmZiRiH5waW13gIWKjIuEfXd6gISFhIF6cm9tcnqAiI+MhHp5fYCLk5WWjIB9cGhyfYGLjIWAfnt+g4SDf3ZvbXR+iI+Ri4B6eXp+fnl3eoCHioR9fn55dnl9f4CEhX+Eh4GEg4GHh4F/enNvdICKkpOSjIF9c21wen+AhISEgX53dHd9f4CAh46Mh4B/f3dzd3+EhICAhIB3cHB2dnZ7hY6Rj4eAfn19fYCEi5GRjIeBf3pyb292fYCAgISFf3t7e35/gISHiIWAfn6AgHt7fnt6fX+DiouFgHZvb3J3fYWMj4yFf3p3dnZ7gIOKjIuFgH9/fXt/gYSFhYSAeXRydHl9gICEh4WEgHt7foGFiIeDgH97dnd7f4CBgH17fX19gIeIhYB+e3l5foSHioiEgICAgH5+gICAgYGAf316eXd3en6BhYiHgX15en6AhIN9fYCBf3p+h5GPiIN+d3Jyc3d7f39/g4WFg4B/f3+Eh4SBgXt7g32AioiKhYGAfnp0cHB0en+FioiDf359f4GFhYOAe3p7f4GDg4OEgX10dHd7f4CBgYGAfXt+f4CFhYWHhYGAgH9/gIB+fX1/g4SBgYSBfn59e3p6d3Z5e39+gIGDh4uKhYOBf3t7e31/gIOEhYSAfnt6fYCDh4eDgH53dnl6fYCHioqHg397e3t/gIGBgH59fXt5fYGDg4SFg4GBgH9+e3p9f3+AgICAf3+AgIGEhIGAgH9/gIGDg4B+e3t9e3p9f4GHhIODgYB7fn96eX2AhYGAgH+AgYCAgICAgH9/f35/fX2Dh4eHhIF7dnRwb3R2fYGEgYCHi4yPkpGOiIBzZmFmcHuLmJiSh3prZm95g46SjIB2a2x2g5GTkYuBdGZkbXqHlpiRiH5ybHJ7gYeLioB3c3Z6foCBg4GAfn1+fn5/gICBhIeFhIGAf39+f35+gIGDgYCAfXp6en1+f3+Ag4B9fYGFhYGAf3p3en1/gYGBgX59fXt6ent/gYSEg4GBgH9+f4CBhIWEg4B+fXt9fn9+fn9+foCAgICAgYB/e3l5fYCBg4ODgH57en1/gICAgH57ent/gH9/gYSHh4SAgH59f4CAg4SBgICAgH59fX17foCAf4B/fXt9fn+BhISEhIGAgH5+fn5+fn+AgYGAfXp7e3t+gIGBgICAgIB+fX1/f4CAgIOEhISDhISDgH59end2d3t/gIWIioiDgH57en1/gH+AgICAgICAgICAgICAf3+AgIB/f3+Af3+AgYCAgIB/gIOAfn59f4CBg4SBgICAgIGDg4GAgIB/f35+fn1+f39/gICAgYODg4GAgH9/f3+Af4CAf319f4OAfXl5f4OEhYiHhIOAenp+gIB+e36AgISHhIWHiIiHhIF7bW12c3N9hY6KhYWEgHZ0d3t/gYuOi4WAf3t3eX2AhYeEgHp3en2AhYiFgH97eXl7f4WLioWBgH9/f4CAhIWEgICAgICAgICAgH5+gICBgH9/f3+AgICAgICBgYCAgICAgH9+fXt6fYCDhIWFg4CAfn6AgICAgICAgICBg4OAfn1+fn6AgIGDg4SDg4GAgH1+gIGEg4CAgIB/f399e36AgYCAf4CAgICAgYSEhIOBgH9+fXt9gIODgICAfn1/gISEg4OBgYB/f4CBgYCAf3t7fX+Ag4SDgYB/fn1+gIWIioSAf3t6fX5+f4CAgICBhISBgIGDg4B/fn17e36AgYSEgYB9fX6AgISHhYGAf4B/fn+AhIWHhYOAfn1/gH+AgIGAfXt+gIGEh4WBgH59fX6AgYCAgIB/fn9/f4CBgYGBgYCAf4CAgH+AgICAgYSEgIB/fXt6en2Ag4WIh4SBgH9+fn6AgYGBgYODg4GAgIB+fX5+foCAgIB/fn5/gICDhIOBgIB/fn+Af4CAgIB/f4B/f39/gICAgIGEhISDgIB+e3t9foCAgYSEg4CAgICAg4ODg4OAgH99fX57fX5/gICAgIGBgYCAf3+AgIB/fn5/gICAgICAgICAgICBg4OAgH99fX5/gIGDhIOAf35+f4CBg4CAf39+fn+AgISHhYOAgICAfn6AgIB/fn6AgIB/gIB+e3t+gICDhIOAf39/fX5+f4CAgICAgH+AgICAgICAgH9+fn+AgICAgYGAgICAgIB/gICBg4OBgYCBgIB/f319fn+AgYGAfnt7fYCAgYGBgIB/f35+f4CAgH9/gICAgICBgYCAfn19fX5/gIGBgICAgICAgICAf3+AgICAgICAgYGAgH9/gIB/f4CBg4OBgIB/fXt9gIODgYB/fXt7foCDhIOAgIB+fXt9f4CAf4CAgICAgICAgIB/f3+AgICAgH9/fn+AgIGAgICAgICAgIGBgYCAgICAgICAgYGAf3t6ent/gICBgICAf35/gICAgICAf359fX1+f4CBg4GAgIB/gH9/gHp6gISFhIB+fX5/gICAgH99fX+Bg4OEgYB/gH5/gX55fYCBgYCAgYODhIOBgICAf316e3+Af359fn9/gIB/gICBgYOBgH9+f4CAgIB/f359fXt9gICAgYODgYB+foCAgICBgIB/f35+gIOFhYOBgH9+fX6Ag4OBgICAfn5/f4CAgICAf3+Af39/f39+fn+AgIODhIOAfXl6e31/gYSHhYF+enl6e36AhYiFgH9+fn5+f4CDg4CAgICBgYGAgH5+fX6Ag4WFhYSAfnt6e35/f4CBg4CAf3+AgIB/f39/gICAgIB/f35+f39/f39+fn+AgIGBgYGAfn5+foCAg4OEhYSDgIB+ent9gIGBgYSEg4GAgICAgICAgICAgICBg4OBgH59en2AgICAfXp7fXl7e3d3d3d3d3l9g46VlY+MjIuKh39saHJ2d3qAkZqRioqHgHJocHd3en+MmJKKioeDd2htdnl/i5KRi4eDe3Nyc3d9gIODg4SEgYB9eXZ0dnp/g4iLjIuIg3tzd3d3e31/hYqHgX57fX+DhIiLjIqEf3ZycnZ6gIWMjoyIg356d3d5e4CBhIWHiIWAe3d3e3+AgICBg4CAgH9/gIOAfn55dnl6fYCBg4eKiIWDgH17fX+AgICBhYWBfnt3dnd6foCDhIODgH57fX6Ag4WIioiHhYGAfn16ent9fn+Ag4ODgYB+fX5/gIOFh4eEgYB7end3eXt+gISFhYSAgH9+fn5+foCAgICAgICAgICAgH5+fn5/gICBg4SEg4OBg4OAf35+fn6AgYSFhIOAgH5+f4CAgICDg4GAf35+fX19fn+AgICEhIB+fX+Df3p9f397foCHioCEhIGFhICAfXZzdHqBiouHgX55eX1/gIOEhIOAf35/gYOEhYOAf35/gICBgICAf4CBgYB+fX1/gICBg4GDg4GAf319foCAgICAgH9+fXt+gIGEhIWDgH17e35+fn+AgICAg4OBgIB/gICAgIGDg4OAfn16en1/g4eKiIeDgH99enp9gIOFhYSDgYB+fXt+f4CAgICAgICAgICBg4OAf35+fX1+fX6AgYGAgIGAfXp6f4CAf36AgYGAgYODg4ODg4F/e3p6fX+AhIeFg4B/fn+AgYSFhYSBgHt5eXt+gIGEhIOAfn19foCDg4ODgX99e31+fn9/f3+AgICAgICAf35+fn9/gIODg4GAf3+AgICAgICAgIB/fn5+f4CBgYGAgICAgYODgYCAgICAgICAgICAgYB/f39/f39/gIGDhIOAgH59e3t+f4CAgIB/f3+AgICAg4ODgH57e36AgIGEg4CAf39/gIB+enuAgH1/foCIh4OEhYOBgYN/f4CAf4B/gIB+f4GBgIGAgICAgIB+e319gIWHhYSEg4OBf3p3dnd7gIeLh4F/e3p7e31/gISFhYOAfXt9f4GDg4F/e3p6enp+gISIh4OAgH+AgIOFhYSEhIGAgIB/gICAgICBgYGAgH56d3l+gYeKiIF+d3Z5fYCHiISAfXp9gIGBgH19gISHg312dnqAh4qEfXd5f4OEhIGAgIGDgYB/f4CAg4OBgH9/f39/gICBgYOBgYGAgICAgICAgIGBgYCAgIB/f39/gICAgICAf39/f35/fn19fX6AgIGAgICAgICBgYGBgH9/f39/gICAgICAgICAgICAgICBgYGAgICAgICAgICAgICAgIGBgYCAgICAgIB/f39+fX1+f4CAgYOBgYB/f3+AgIB/f4CBgICAf35/f4CBg4GBgH19gH9+gHp9gH+AgYOBgIF/f4GBg4OAgICAgYCAgICAgYB+fn9/f4GFh4SDgICAf35/gICBf319e3t+gISFhYOAfnt7fX+Bg4OBgICAgICAgIB/f39/f4CAgICAgICAgICAgH9/fn5/gIGBgYGAgICAgICAf4CAgYGBgICAgICAgYGAgH5+fn5/gIGBgYCAgICAgICAgYGBgICAgICAgICAgH9/gICAgICAgICAgICAf39/gICAgIB/f4CAgICAgH9/f4CAgYGBgYGAgH5+f3+AgYGBgICAgICAgICAgICAgICAgICAgICAgICAgICAgICAf39/f4CBgYGBgIB/f39/gICAgICAgYCAf39/gICAgYGBgYB/fn5+f4CAgICAf35/gICAgICAgICAgICAgICAgIB/f4CAgYGAgICAgICAgYODgIB/f3+AgICAgICAgICAgICBgYGBgH9/gICAgH9/gIB/f4CAgICAgYODgYCAgH99fX1/gIGEhIGAgH9/fn+AgICAf3+AgICBgYGAgICAgIB/f4CAgICAgICAgICAgICAgH9/f39+f4CBhISEhIOBgIB/f35+f4CAgICAgICAgH+AgICAgYCAgICAf39+f4CAgH9/f3+AgIGDg4GBgIB/f39/f39/gICAgICAgICAgICAgICAgICAgICAgICAgICAf3+AgICBgYGBgICAgICAf39/gICAgIGDgYGAgICAgH+AgICAgICAgICAgH9/f4CAgICBgICAgICAgICAgICAgICAgICAgH+AgICAgICAgICAgICAgICAgICBgYGAgICAgICAgICAgICAgICAgICAgICAgICBgYB/gICAgH9/gICAgIGAgICAgH9/gICAgICAgICBgICAgH9/f4CAgH9+f4B+fX5+f4CAgICBg4OEhIWFhIOBf3t5eXt9foCDh4eFhIGAfn19f4CAg4ODgH5+fn6AgIODgYB/fn5/gIGDg4B/fXt7fYCEhYWEgYB+fX5/gICAf359fn+Ag4SDgYB/fn5+f4CBg4SDgICAfn5+f4CBg4OBgICAgH9+f4CAgICBgYCAgH9/f39/f3+AgIGDg4OBgIB/f39/gICAgICAgICAgIB/fn5+f3+AgICAgICAgICAgICAgICBgYGBgYCAgICAgICAgYCAg4OBgIGAgICAgH9+fX17e31/gICAgICDhIWFhYSEg4OAe3l5e31+f4OHhYSDgIB+fn1+f4CAgYGBgYCAgYCAf317fX+Ag4ODgYB/fn1+f4CBhISEg4GAf39+f4CAgICAgIB/fn5+f4CAgYODgYGAf39+fn+AgIGBgYGDg4OBgIB/fX1+fn+AgICBgYCAf39/f4CAgYGBgYGAgIB/f3+AgICAgICAgICAgICAgIGAgICAgICAf3+AgICAgIGBgYGBgYB/f39/f4CAgICAgICAgICAgH9/gICAgICAgICAgICAgICAgICAgICAgICAgICAgICAgICAgICAgH9/f4B/f4CAgICAgIGBgICAgICAgICAgICAgICAgICAgICAgICAgICAgICAgICAf39/gICAgICAgICAgICAgICAgICAgICAgICAgICAgICAgICAgICAgICAgICBgYGAgICAgH9/gICAf3+AgICBgYCAgICAgICAgICBgYGAgIB+e32AgYCAgICAf35+gIODg4ODg4GAgH57e35/f35/gYSEg4ODg4CAf4CAgH59fn+AgICBgYGAgICAf35+f3+AgIGDg4GAf35+foCBhIWEg4GAfXp9fn+AhIeEgYF/ent+fn+AhYeDgX8=\" type=\"audio/wav\" />\n",
       "                    Your browser does not support the audio element.\n",
       "                </audio>\n",
       "              "
      ],
      "text/plain": [
       "<IPython.lib.display.Audio object>"
      ]
     },
     "execution_count": 15,
     "metadata": {},
     "output_type": "execute_result"
    }
   ],
   "source": [
    "Audio(sound_file, autoplay=True)"
   ]
  }
 ],
 "metadata": {
  "hide_input": false,
  "kernelspec": {
   "display_name": "learn-env",
   "language": "python",
   "name": "learn-env"
  },
  "language_info": {
   "codemirror_mode": {
    "name": "ipython",
    "version": 3
   },
   "file_extension": ".py",
   "mimetype": "text/x-python",
   "name": "python",
   "nbconvert_exporter": "python",
   "pygments_lexer": "ipython3",
   "version": "3.6.6"
  },
  "varInspector": {
   "cols": {
    "lenName": 16,
    "lenType": 16,
    "lenVar": 40
   },
   "kernels_config": {
    "python": {
     "delete_cmd_postfix": "",
     "delete_cmd_prefix": "del ",
     "library": "var_list.py",
     "varRefreshCmd": "print(var_dic_list())"
    },
    "r": {
     "delete_cmd_postfix": ") ",
     "delete_cmd_prefix": "rm(",
     "library": "var_list.r",
     "varRefreshCmd": "cat(var_dic_list()) "
    }
   },
   "types_to_exclude": [
    "module",
    "function",
    "builtin_function_or_method",
    "instance",
    "_Feature"
   ],
   "window_display": false
  }
 },
 "nbformat": 4,
 "nbformat_minor": 2
}
